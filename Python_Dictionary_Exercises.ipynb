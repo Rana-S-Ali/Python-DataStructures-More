{
  "cells": [
    {
      "cell_type": "markdown",
      "metadata": {
        "id": "s3uBFagvk_0f"
      },
      "source": [
        "# Python Dictionary Exercises"
      ]
    },
    {
      "cell_type": "code",
      "execution_count": null,
      "metadata": {
        "id": "BYpQQIMVk_0h"
      },
      "outputs": [],
      "source": [
        "#Q1 Create a dictionary for all participants in the JDA program.\n",
        "#Keys should be the first letter in their names,\n",
        "#Values should be their names.\n",
        "#[Hint] dic={\"l\":(Leul),\"J\":(Jerry,Jainam)........}\n",
        "JDA_dictionary = {\"A\":(),\"B\":(),\"C\":(),\"D\":(),\"I\":(),\"J\":(),\"M\":(),\"R\":(\"Rana\",\"Rinkel\",\"Ridet\",\"Rohnet\",)}"
      ]
    },
    {
      "cell_type": "code",
      "execution_count": null,
      "metadata": {
        "colab": {
          "base_uri": "https://localhost:8080/"
        },
        "id": "lIGemj-jk_0i",
        "outputId": "750f6c89-122e-44a6-8e66-6efcd5e10478"
      },
      "outputs": [
        {
          "output_type": "stream",
          "name": "stdout",
          "text": [
            "dict_keys(['A', 'B', 'C', 'D', 'J', 'R'])\n",
            "A\n",
            "B\n",
            "C\n",
            "D\n",
            "J\n",
            "R\n"
          ]
        }
      ],
      "source": [
        "#Q2 What are the keys of your dictionary\n",
        "print(JDA_dictionary.keys())\n",
        "for key in JDA_dictionary.keys():\n",
        "    print(key)"
      ]
    },
    {
      "cell_type": "code",
      "execution_count": null,
      "metadata": {
        "colab": {
          "base_uri": "https://localhost:8080/"
        },
        "id": "kuWDTiWpk_0i",
        "outputId": "e7035ff4-f66b-4b28-94d4-ba95a33f45ba"
      },
      "outputs": [
        {
          "output_type": "stream",
          "name": "stdout",
          "text": [
            "dict_values([(), (), (), (), ('Rana', 'Rinkel', 'Ridet', 'Rohnet')])\n",
            "()\n",
            "()\n",
            "()\n",
            "()\n",
            "('Rana', 'Rinkel', 'Ridet', 'Rohnet')\n"
          ]
        }
      ],
      "source": [
        "#Q3 What are the values of your dictionary\n",
        "print(JDA_dictionary.values())\n",
        "for value in JDA_dictionary.values():\n",
        "    print(value)\n"
      ]
    },
    {
      "cell_type": "code",
      "execution_count": null,
      "metadata": {
        "colab": {
          "base_uri": "https://localhost:8080/"
        },
        "id": "fi8w788Fk_0i",
        "outputId": "2cd2f9d5-4918-4572-8acd-87d4adfde756"
      },
      "outputs": [
        {
          "output_type": "stream",
          "name": "stdout",
          "text": [
            "participant's names that start with J,I,M,C,A:\n",
            "()\n",
            "()\n",
            "()\n",
            "()\n",
            "()\n"
          ]
        }
      ],
      "source": [
        "#Q4 Find participant's names that start with J,I,M,C,A\n",
        "print(\"participant's names that start with J,I,M,C,A:\")\n",
        "print(JDA_dictionary[\"J\"])\n",
        "print(JDA_dictionary[\"I\"])\n",
        "print(JDA_dictionary[\"M\"])\n",
        "print(JDA_dictionary[\"C\"])\n",
        "print(JDA_dictionary[\"A\"])\n"
      ]
    },
    {
      "cell_type": "code",
      "execution_count": null,
      "metadata": {
        "colab": {
          "base_uri": "https://localhost:8080/"
        },
        "id": "7IU3PvxOk_0i",
        "outputId": "3bb024b1-19f1-466e-fa25-5eb0840079c8"
      },
      "outputs": [
        {
          "output_type": "stream",
          "name": "stdout",
          "text": [
            "{'A': (), 'B': (), 'C': (), 'D': (), 'I': (), 'J': (), 'M': (), 'R': ('Rana', 'Rinkel', 'Ridet', 'Rohnet'), ('K', 'PD'): 'Kristina'}\n"
          ]
        }
      ],
      "source": [
        "#Q5 Add the following to your dictionary\n",
        "# Key<(K,PD)>, Value<(Kristina)>\n",
        "JDA_dictionary[(\"K\",\"PD\")]= (\"Kristina\")\n",
        "# another way\n",
        "#JDA_dictionary.update((\"K\",\"PD\"):(\"Kristina\"))\n",
        "\n",
        "print(JDA_dictionary)\n"
      ]
    },
    {
      "cell_type": "code",
      "execution_count": null,
      "metadata": {
        "colab": {
          "base_uri": "https://localhost:8080/"
        },
        "id": "TKqf1BOtk_0j",
        "outputId": "42f96793-d3cf-4322-ef38-05fa73822737"
      },
      "outputs": [
        {
          "output_type": "stream",
          "name": "stdout",
          "text": [
            "9\n"
          ]
        }
      ],
      "source": [
        "#Q6 Find the length of your dictionary\n",
        "print(len(JDA_dictionary))"
      ]
    },
    {
      "cell_type": "code",
      "execution_count": null,
      "metadata": {
        "id": "i3t6DwYCk_0j"
      },
      "outputs": [],
      "source": [
        "#Q7 Add the following to your dictionary\n",
        "# Key<(S,Instructor)>, Value<(Sarah)>\n",
        "JDA_dictionary[(\"S\",\"Instructor\")]= (\"Sarah\")"
      ]
    },
    {
      "cell_type": "code",
      "execution_count": null,
      "metadata": {
        "colab": {
          "base_uri": "https://localhost:8080/"
        },
        "id": "EiMDDjsbk_0j",
        "outputId": "c6e28801-9987-43a8-95e3-7d1dcfe2896e"
      },
      "outputs": [
        {
          "output_type": "stream",
          "name": "stdout",
          "text": [
            "10\n"
          ]
        }
      ],
      "source": [
        "#Q8 Find the length of your dictionary\n",
        "print(len(JDA_dictionary))"
      ]
    },
    {
      "cell_type": "code",
      "execution_count": null,
      "metadata": {
        "colab": {
          "base_uri": "https://localhost:8080/"
        },
        "id": "1OeunGSJk_0j",
        "outputId": "39f21ba2-81b5-4e24-e653-2b70c1db4fe7"
      },
      "outputs": [
        {
          "output_type": "stream",
          "name": "stdout",
          "text": [
            "8\n",
            "{'A': (), 'B': (), 'C': (), 'D': (), 'I': (), 'M': (), 'R': ('Rana', 'Rinkel', 'Ridet', 'Rohnet'), ('K', 'PD'): 'Kristina'}\n"
          ]
        }
      ],
      "source": [
        "#Q7 Delete the following keys from your dictionary\n",
        "#Key<(S,Instructor)>\n",
        "#Key<J>\n",
        "JDA_dictionary.pop(('S','Instructor'))\n",
        "JDA_dictionary.pop('J')\n",
        "#del JDA_dictionary\n",
        "#del JDA_dictionary[('S','Instructor')]\n",
        "#del JDA_dictionary['J']\n",
        "print(len(JDA_dictionary))\n",
        "print(JDA_dictionary)"
      ]
    },
    {
      "cell_type": "code",
      "execution_count": null,
      "metadata": {
        "id": "r063f7xmk_0j"
      },
      "outputs": [],
      "source": [
        "#Q9 Find the length of your dictionary\n",
        "print(len(JDA_dictionary))"
      ]
    },
    {
      "cell_type": "code",
      "execution_count": null,
      "metadata": {
        "id": "lpJxchgVk_0k"
      },
      "outputs": [],
      "source": [
        "#Q10 Create a new dictionary called synonyms_dic\n",
        "synonyms_dic = {}"
      ]
    },
    {
      "cell_type": "markdown",
      "source": [],
      "metadata": {
        "id": "eqvohptWs6fR"
      }
    },
    {
      "cell_type": "code",
      "execution_count": null,
      "metadata": {
        "colab": {
          "base_uri": "https://localhost:8080/"
        },
        "id": "O_xv4jJPk_0k",
        "outputId": "3c8c0408-f405-4b7e-ad2b-1467b867ed3b"
      },
      "outputs": [
        {
          "output_type": "stream",
          "name": "stdout",
          "text": [
            "Bad ('poor', 'terrible', 'awful', 'dreadful', 'inferior', 'unpleasant')\n",
            "Good ('excellent', 'great', 'wonderful', 'fantastic', 'superb', 'splendid')\n",
            "Awesome ('amazing', 'incredible', 'fantastic', 'marvelous', 'phenomenal', 'sensational')\n",
            "Cold ('freezing', 'chilly', 'frigid', 'icy', 'polar', 'nipping')\n",
            "Easy ('simple', 'effortless', 'uncomplicated', 'straightforward', 'breeze')\n",
            "Hard ('difficult', 'challenging', 'demanding', 'complex', 'strenuous', 'tough')\n",
            "Big ('large', 'giant', 'enormous', 'colossal', 'massive', 'huge')\n",
            "Small ('tiny', 'miniature', 'petite', 'diminutive', 'little', 'compact')\n",
            "Old ('ancient', 'antique', 'aged', 'outdated', 'obsolete', 'worn')\n"
          ]
        }
      ],
      "source": [
        "#Q11 Add the synonyms of the following words to your dictionary\n",
        "#Bad, Good, Awesome, Cold, Easy, Hard, Big, Small\n",
        "synonyms_dic = {\n",
        "    \"Bad\": (\"poor\", \"terrible\", \"awful\", \"dreadful\", \"inferior\", \"unpleasant\"),\n",
        "    \"Good\": (\"excellent\", \"great\", \"wonderful\", \"fantastic\", \"superb\", \"splendid\"),\n",
        "    \"Awesome\": (\"amazing\", \"incredible\", \"fantastic\", \"marvelous\", \"phenomenal\", \"sensational\"),\n",
        "    \"Cold\": (\"freezing\", \"chilly\", \"frigid\", \"icy\", \"polar\", \"nipping\"),\n",
        "    \"Easy\": (\"simple\", \"effortless\", \"uncomplicated\", \"straightforward\", \"breeze\"),\n",
        "    \"Hard\": (\"difficult\", \"challenging\", \"demanding\", \"complex\", \"strenuous\", \"tough\"),\n",
        "    \"Big\": (\"large\", \"giant\", \"enormous\", \"colossal\", \"massive\", \"huge\"),\n",
        "    \"Small\": (\"tiny\", \"miniature\", \"petite\", \"diminutive\", \"little\", \"compact\"),\n",
        "    \"Old\": (\"ancient\", \"antique\", \"aged\", \"outdated\", \"obsolete\", \"worn\"),\n",
        "}\n",
        "for key,value in synonyms_dic.items():\n",
        "  print(key,value)\n"
      ]
    },
    {
      "cell_type": "code",
      "source": [
        "# look for the word \"poor\" in the values of the synonym dictionar and display\n",
        "found = False\n",
        "for word, synonyms in synonyms_dic.items():\n",
        "  if \"poor\" in synonyms:\n",
        "    found = True\n",
        "    print(f'poor is a synonym for {word} and {synonyms}')\n",
        "    break\n",
        "if not (found) :\n",
        "  print(\"poor is not a synonym for any word\")\n"
      ],
      "metadata": {
        "colab": {
          "base_uri": "https://localhost:8080/"
        },
        "id": "MLRntJgeCqPc",
        "outputId": "bc99e19c-fb65-43e4-b828-3aa5173f684f"
      },
      "execution_count": null,
      "outputs": [
        {
          "output_type": "stream",
          "name": "stdout",
          "text": [
            "poor is a synonym for Bad and ('poor', 'terrible', 'awful', 'dreadful', 'inferior', 'unpleasant')\n"
          ]
        }
      ]
    },
    {
      "cell_type": "code",
      "execution_count": null,
      "metadata": {
        "colab": {
          "base_uri": "https://localhost:8080/"
        },
        "id": "b2qDainsk_0k",
        "outputId": "2071e030-a624-49f0-ff6f-0d76724602d6"
      },
      "outputs": [
        {
          "output_type": "stream",
          "name": "stdout",
          "text": [
            "synonyms of Awesome: ('amazing', 'incredible', 'fantastic', 'marvelous', 'phenomenal', 'sensational')\n",
            "synonyms of Easy: ('simple', 'effortless', 'uncomplicated', 'straightforward', 'breeze')\n",
            "synonyms of Small: ('tiny', 'miniature', 'petite', 'diminutive', 'little', 'compact')\n",
            "synonyms of Old: ('ancient', 'antique', 'aged', 'outdated', 'obsolete', 'worn')\n"
          ]
        }
      ],
      "source": [
        "#Q12 Use your dictionary to find the synonym of the following words\n",
        "# Awesome, Easy, Small, Old\n",
        "\n",
        "print(f\"synonyms of Awesome: {synonyms_dic['Awesome']}\")\n",
        "print(f\"synonyms of Easy: {synonyms_dic['Easy']}\")\n",
        "print(f\"synonyms of Small: {synonyms_dic['Small']}\")\n",
        "print(f\"synonyms of Old: {synonyms_dic['Old']}\")"
      ]
    },
    {
      "cell_type": "code",
      "execution_count": null,
      "metadata": {
        "colab": {
          "base_uri": "https://localhost:8080/"
        },
        "id": "-BXCu7vkk_0k",
        "outputId": "f3ff1dfc-c5ff-4a60-fd03-323dd09b5e82"
      },
      "outputs": [
        {
          "output_type": "stream",
          "name": "stdout",
          "text": [
            "{}\n"
          ]
        }
      ],
      "source": [
        "#Q13 Delete everything from synonyms_dic\n",
        "synonyms_dic.clear()\n",
        "print(synonyms_dic)"
      ]
    },
    {
      "cell_type": "code",
      "execution_count": null,
      "metadata": {
        "colab": {
          "base_uri": "https://localhost:8080/"
        },
        "id": "GLVMDd85k_0k",
        "outputId": "5ef39a42-b800-405f-95c6-5ffd35004a02"
      },
      "outputs": [
        {
          "output_type": "stream",
          "name": "stdout",
          "text": [
            "The End!\n"
          ]
        }
      ],
      "source": [
        "#Q14 Print all values in synonyms_dic\n",
        "for value in synonyms_dic.values():\n",
        "  print(value)\n",
        "print(\"The End!\")"
      ]
    },
    {
      "cell_type": "code",
      "execution_count": null,
      "metadata": {
        "colab": {
          "base_uri": "https://localhost:8080/"
        },
        "id": "IJVCOd_ck_0l",
        "outputId": "37301b91-997c-4f24-e78e-41a679e78fe4"
      },
      "outputs": [
        {
          "output_type": "stream",
          "name": "stdout",
          "text": [
            "{'True': 1, 'False': 0}\n"
          ]
        }
      ],
      "source": [
        "#Q15 Convert the below two lists into dictionary\n",
        "Keys=[\"True\",\"False\"]\n",
        "Values=[1,0]\n",
        "dictionary=dict(zip(Keys,Values))\n",
        "print(dictionary)"
      ]
    },
    {
      "cell_type": "code",
      "execution_count": null,
      "metadata": {
        "colab": {
          "base_uri": "https://localhost:8080/"
        },
        "id": "86pFGg4Rk_0l",
        "outputId": "69a4af65-5b90-4f9d-9217-52db31db6032"
      },
      "outputs": [
        {
          "output_type": "stream",
          "name": "stdout",
          "text": [
            "The total income for months Jan-April is: 4480$\n"
          ]
        }
      ],
      "source": [
        "#Q16 Sum all the values in the following dictionary\n",
        "income={'Jan':1000,'Feb':1500,'Mar':980,'April':1000}\n",
        "print(f\"The total income for months Jan-April is: {sum(income.values())}$\")"
      ]
    },
    {
      "cell_type": "code",
      "execution_count": null,
      "metadata": {
        "colab": {
          "base_uri": "https://localhost:8080/"
        },
        "id": "cjlcgivXk_0l",
        "outputId": "a7c0133e-d33b-4937-bfef-688ad19258f7"
      },
      "outputs": [
        {
          "output_type": "stream",
          "name": "stdout",
          "text": [
            "The decryption of the following code \n",
            "110 101   10     1011 110 1001  111  1101) is: \n",
            "I   am   hungry   ,   I   want   to   eat\n"
          ]
        }
      ],
      "source": [
        "#Q17 Create the following dictionary\n",
        "#encryption=\n",
        "#{10:\"hungry\",101:\"am\",110:\"I\",1011:\",\",1101:\"eat\",1001:\"want\",111:\"to\"}\n",
        "# What should be the decryption of the following code\n",
        "#\"110 101 10 1011 110 1001 111 1101\"\n",
        "\n",
        "encryption={10:\"hungry\",101:\"am\",110:\"I\",1011:\",\",1101:\"eat\",1001:\"want\",111:\"to\"}\n",
        "print(\"The decryption of the following code \")\n",
        "print(\"110 101   10     1011 110 1001  111  1101) is: \")\n",
        "print(encryption[110],\" \",encryption[101],\" \",encryption[10],\" \",encryption[1011],\" \",\n",
        "      encryption[110],\" \",encryption[1001],\" \",encryption[111],\" \",encryption[1101])\n"
      ]
    }
  ],
  "metadata": {
    "kernelspec": {
      "display_name": "Python 3 (ipykernel)",
      "language": "python",
      "name": "python3"
    },
    "language_info": {
      "codemirror_mode": {
        "name": "ipython",
        "version": 3
      },
      "file_extension": ".py",
      "mimetype": "text/x-python",
      "name": "python",
      "nbconvert_exporter": "python",
      "pygments_lexer": "ipython3",
      "version": "3.9.12"
    },
    "colab": {
      "provenance": []
    }
  },
  "nbformat": 4,
  "nbformat_minor": 0
}