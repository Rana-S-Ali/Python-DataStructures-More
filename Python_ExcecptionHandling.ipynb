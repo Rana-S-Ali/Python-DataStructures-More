{
  "cells": [
    {
      "cell_type": "markdown",
      "metadata": {
        "id": "8A7DHu1qdsWR"
      },
      "source": [
        "<p style=\"text-align:center\">\n",
        "    <a href=\"https://skills.network\" target=\"_blank\">\n",
        "    <img src=\"https://cf-courses-data.s3.us.cloud-object-storage.appdomain.cloud/assets/logos/SN_web_lightmode.png\" width=\"200\" alt=\"Skills Network Logo\">\n",
        "    </a>\n",
        "</p>\n"
      ]
    },
    {
      "cell_type": "markdown",
      "metadata": {
        "id": "9bUZxMeLdsWT"
      },
      "source": [
        "# **Exception Handling**\n",
        "\n",
        "Estimated time needed: **15** minutes\n",
        "    \n",
        "\n",
        "## Objectives\n",
        "\n",
        "After completing this lab you will be able to:\n",
        "\n",
        "* Understand exceptions    \n",
        "* Handle the exceptions\n"
      ]
    },
    {
      "cell_type": "markdown",
      "metadata": {
        "id": "hk7-n6ocdsWU"
      },
      "source": [
        "## Table of Contents\n"
      ]
    },
    {
      "cell_type": "markdown",
      "metadata": {
        "id": "Yu0SwIcRdsWV"
      },
      "source": [
        "* What is an Exception?\n",
        "* Exception Handling\n"
      ]
    },
    {
      "cell_type": "markdown",
      "metadata": {
        "id": "RSpFbYoddsWV"
      },
      "source": [
        "----\n"
      ]
    },
    {
      "cell_type": "markdown",
      "metadata": {
        "id": "vzYxTrUXdsWV"
      },
      "source": [
        "## What is an Exception?\n"
      ]
    },
    {
      "cell_type": "markdown",
      "metadata": {
        "id": "PVEEl-RddsWV"
      },
      "source": [
        "In this section you will learn about what an exception is and see examples of them.\n"
      ]
    },
    {
      "cell_type": "markdown",
      "metadata": {
        "id": "74fAvrDidsWV"
      },
      "source": [
        "### Definition\n"
      ]
    },
    {
      "cell_type": "markdown",
      "metadata": {
        "id": "acqWPJv-dsWV"
      },
      "source": [
        "An exception is an error that occurs during the execution of code. This error causes the code to raise an exception and if not prepared to handle it will halt the execution of the code.\n"
      ]
    },
    {
      "cell_type": "markdown",
      "metadata": {
        "id": "vk35WAd5dsWV"
      },
      "source": [
        "### Examples\n"
      ]
    },
    {
      "cell_type": "markdown",
      "metadata": {
        "id": "B15IkPc7dsWW"
      },
      "source": [
        "Run each piece of code and observe the exception raised\n"
      ]
    },
    {
      "cell_type": "code",
      "execution_count": 1,
      "metadata": {
        "tags": [],
        "colab": {
          "base_uri": "https://localhost:8080/",
          "height": 145
        },
        "id": "GiSKh_kxdsWW",
        "outputId": "b10169f3-6780-4742-a5b9-e332139cdf96"
      },
      "outputs": [
        {
          "output_type": "error",
          "ename": "ZeroDivisionError",
          "evalue": "division by zero",
          "traceback": [
            "\u001b[0;31m---------------------------------------------------------------------------\u001b[0m",
            "\u001b[0;31mZeroDivisionError\u001b[0m                         Traceback (most recent call last)",
            "\u001b[0;32m<ipython-input-1-9e1622b385b6>\u001b[0m in \u001b[0;36m<cell line: 1>\u001b[0;34m()\u001b[0m\n\u001b[0;32m----> 1\u001b[0;31m \u001b[0;36m1\u001b[0m\u001b[0;34m/\u001b[0m\u001b[0;36m0\u001b[0m\u001b[0;34m\u001b[0m\u001b[0;34m\u001b[0m\u001b[0m\n\u001b[0m",
            "\u001b[0;31mZeroDivisionError\u001b[0m: division by zero"
          ]
        }
      ],
      "source": [
        "1/0"
      ]
    },
    {
      "cell_type": "markdown",
      "metadata": {
        "id": "CPoXs6rVdsWX"
      },
      "source": [
        "<code>ZeroDivisionError</code> occurs when you try to divide by zero.\n"
      ]
    },
    {
      "cell_type": "code",
      "execution_count": 2,
      "metadata": {
        "colab": {
          "base_uri": "https://localhost:8080/",
          "height": 145
        },
        "id": "wmJlP8KPdsWY",
        "outputId": "bfe1851d-bec5-4370-fd61-5607c912f14d"
      },
      "outputs": [
        {
          "output_type": "error",
          "ename": "NameError",
          "evalue": "name 'a' is not defined",
          "traceback": [
            "\u001b[0;31m---------------------------------------------------------------------------\u001b[0m",
            "\u001b[0;31mNameError\u001b[0m                                 Traceback (most recent call last)",
            "\u001b[0;32m<ipython-input-2-6ddcec040107>\u001b[0m in \u001b[0;36m<cell line: 1>\u001b[0;34m()\u001b[0m\n\u001b[0;32m----> 1\u001b[0;31m \u001b[0my\u001b[0m \u001b[0;34m=\u001b[0m \u001b[0ma\u001b[0m \u001b[0;34m+\u001b[0m \u001b[0;36m5\u001b[0m\u001b[0;34m\u001b[0m\u001b[0;34m\u001b[0m\u001b[0m\n\u001b[0m",
            "\u001b[0;31mNameError\u001b[0m: name 'a' is not defined"
          ]
        }
      ],
      "source": [
        "y = a + 5"
      ]
    },
    {
      "cell_type": "markdown",
      "metadata": {
        "id": "AvomEwN3dsWY"
      },
      "source": [
        "<code>NameError</code> -- in this case, it means that you tried to use the variable a when it was not defined.\n"
      ]
    },
    {
      "cell_type": "code",
      "execution_count": 3,
      "metadata": {
        "colab": {
          "base_uri": "https://localhost:8080/",
          "height": 163
        },
        "id": "_qu3XP-KdsWY",
        "outputId": "1ea7f930-0727-4adb-f409-7e4b393be690"
      },
      "outputs": [
        {
          "output_type": "error",
          "ename": "IndexError",
          "evalue": "list index out of range",
          "traceback": [
            "\u001b[0;31m---------------------------------------------------------------------------\u001b[0m",
            "\u001b[0;31mIndexError\u001b[0m                                Traceback (most recent call last)",
            "\u001b[0;32m<ipython-input-3-3f911ca4e3d3>\u001b[0m in \u001b[0;36m<cell line: 2>\u001b[0;34m()\u001b[0m\n\u001b[1;32m      1\u001b[0m \u001b[0ma\u001b[0m \u001b[0;34m=\u001b[0m \u001b[0;34m[\u001b[0m\u001b[0;36m1\u001b[0m\u001b[0;34m,\u001b[0m \u001b[0;36m2\u001b[0m\u001b[0;34m,\u001b[0m \u001b[0;36m3\u001b[0m\u001b[0;34m]\u001b[0m\u001b[0;34m\u001b[0m\u001b[0;34m\u001b[0m\u001b[0m\n\u001b[0;32m----> 2\u001b[0;31m \u001b[0ma\u001b[0m\u001b[0;34m[\u001b[0m\u001b[0;36m10\u001b[0m\u001b[0;34m]\u001b[0m\u001b[0;34m\u001b[0m\u001b[0;34m\u001b[0m\u001b[0m\n\u001b[0m",
            "\u001b[0;31mIndexError\u001b[0m: list index out of range"
          ]
        }
      ],
      "source": [
        "a = [1, 2, 3]\n",
        "a[10]"
      ]
    },
    {
      "cell_type": "markdown",
      "metadata": {
        "id": "10Lhe0sTdsWY"
      },
      "source": [
        "<code>IndexError</code> -- in this case, it occured because you tried to access data from a list using an index that does not exist for this list.\n"
      ]
    },
    {
      "cell_type": "markdown",
      "metadata": {
        "id": "PhcCDKpPdsWY"
      },
      "source": [
        "There are many more exceptions that are built into Python, here is a list of them https://docs.python.org/3/library/exceptions.html\n"
      ]
    },
    {
      "cell_type": "markdown",
      "metadata": {
        "id": "zIefFUYndsWZ"
      },
      "source": [
        "## Exception Handling\n"
      ]
    },
    {
      "cell_type": "markdown",
      "metadata": {
        "id": "17D8WdnEdsWZ"
      },
      "source": [
        "In this section you will learn how to handle exceptions. You will understand how to make your program perform specified tasks instead of halting code execution when an exception is encountered.\n"
      ]
    },
    {
      "cell_type": "markdown",
      "metadata": {
        "id": "Txr4i1A4dsWZ"
      },
      "source": [
        "### Try Except\n"
      ]
    },
    {
      "cell_type": "markdown",
      "metadata": {
        "id": "-O4-X0DodsWZ"
      },
      "source": [
        "A <code>try except</code> will allow you to execute code that might raise an exception and in the case of any exception or a specific one we can handle or catch the exception and execute specific code. This will allow us to continue the execution of our program even if there is an exception.\n",
        "\n",
        "Python tries to execute the code in the <code>try</code> block. In this case if there is any exception raised by the code in the <code>try</code> block, it will be caught and the code block in the <code>except</code> block will be executed. After that, the code that comes <em>after</em> the try except will be executed.\n"
      ]
    },
    {
      "cell_type": "code",
      "execution_count": null,
      "metadata": {
        "id": "tpLcg9cIdsWZ"
      },
      "outputs": [],
      "source": [
        "# potential code before try catch\n",
        "\n",
        "try:\n",
        "    # code to try to execute\n",
        "except:\n",
        "    # code to execute if there is an exception\n",
        "\n",
        "# code that will still execute if there is an exception"
      ]
    },
    {
      "cell_type": "markdown",
      "metadata": {
        "id": "Hczo30MkdsWa"
      },
      "source": [
        "### Try Except Example\n"
      ]
    },
    {
      "cell_type": "markdown",
      "metadata": {
        "id": "n219lYcNdsWa"
      },
      "source": [
        "In this example we are trying to divide a number given by the user, save the outcome in the variable <code>a</code>, and then we would like to print the result of the operation. When taking user input and dividing a number by it there are a couple of exceptions that can be raised. For example if we divide by zero. Try running the following block of code with <code>b</code> as a number. An exception will only be raised if <code>b</code> is zero.\n"
      ]
    },
    {
      "cell_type": "code",
      "execution_count": 4,
      "metadata": {
        "colab": {
          "base_uri": "https://localhost:8080/"
        },
        "id": "jMGUnQbzdsWa",
        "outputId": "a510f45e-50ca-4abe-b13b-4e36e248d25e"
      },
      "outputs": [
        {
          "output_type": "stream",
          "name": "stdout",
          "text": [
            "Please enter a number to divide a0\n",
            "There was an error\n"
          ]
        }
      ],
      "source": [
        "a = 1\n",
        "\n",
        "try:\n",
        "    b = int(input(\"Please enter a number to divide a\"))\n",
        "    a = a/b\n",
        "    print(\"Success a=\",a)\n",
        "except:\n",
        "    print(\"There was an error\")\n",
        "\n"
      ]
    },
    {
      "cell_type": "markdown",
      "metadata": {
        "id": "cshZSj8RdsWa"
      },
      "source": [
        "### Try Except Specific\n"
      ]
    },
    {
      "cell_type": "markdown",
      "metadata": {
        "id": "eoo0PYLVdsWa"
      },
      "source": [
        "A specific <code>try except</code> allows you to catch certain exceptions and also execute certain code depending on the exception. This is useful if you do not want to deal with some exceptions and the execution should halt. It can also help you find errors in your code that you might not be aware of. Furthermore, it can help you differentiate responses to different exceptions. In this case, the code after the try except might not run depending on the error.\n"
      ]
    },
    {
      "cell_type": "markdown",
      "metadata": {
        "id": "5dkGaBvOdsWa"
      },
      "source": [
        "<b>Do not run, just to illustrate:</b>\n"
      ]
    },
    {
      "cell_type": "code",
      "execution_count": null,
      "metadata": {
        "id": "6jCK668adsWb"
      },
      "outputs": [],
      "source": [
        "# potential code before try catch\n",
        "\n",
        "try:\n",
        "    # code to try to execute\n",
        "except (ZeroDivisionError, NameError):\n",
        "    # code to execute if there is an exception of the given types\n",
        "\n",
        "# code that will execute if there is no exception or a one that we are handling"
      ]
    },
    {
      "cell_type": "code",
      "execution_count": null,
      "metadata": {
        "id": "7for50WfdsWb"
      },
      "outputs": [],
      "source": [
        "# potential code before try catch\n",
        "\n",
        "try:\n",
        "    # code to try to execute\n",
        "except ZeroDivisionError:\n",
        "    # code to execute if there is a ZeroDivisionError\n",
        "except NameError:\n",
        "    # code to execute if there is a NameError\n",
        "\n",
        "# code that will execute if there is no exception or a one that we are handling"
      ]
    },
    {
      "cell_type": "markdown",
      "metadata": {
        "id": "hnpPoa-AdsWb"
      },
      "source": [
        "You can also have an empty <code>except</code> at the end to catch an unexpected exception:\n"
      ]
    },
    {
      "cell_type": "markdown",
      "metadata": {
        "id": "GdIicW9wdsWb"
      },
      "source": [
        "<b>Do not run, just to illustrate:</b>\n"
      ]
    },
    {
      "cell_type": "code",
      "execution_count": null,
      "metadata": {
        "id": "re6c05j6dsWb"
      },
      "outputs": [],
      "source": [
        "# potential code before try catch\n",
        "\n",
        "try:\n",
        "    # code to try to execute\n",
        "except ZeroDivisionError:\n",
        "    # code to execute if there is a ZeroDivisionError\n",
        "except NameError:\n",
        "    # code to execute if there is a NameError\n",
        "except:\n",
        "    # code to execute if ther is any exception\n",
        "\n",
        "# code that will execute if there is no exception or a one that we are handling"
      ]
    },
    {
      "cell_type": "markdown",
      "metadata": {
        "id": "5d-6quZDdsWb"
      },
      "source": [
        "### Try Except Specific Example\n"
      ]
    },
    {
      "cell_type": "markdown",
      "metadata": {
        "id": "1zajMQmMdsWc"
      },
      "source": [
        "This is the same example as above, but now we will add differentiated messages depending on the exception, letting the user know what is wrong with the input.\n"
      ]
    },
    {
      "cell_type": "code",
      "execution_count": 8,
      "metadata": {
        "colab": {
          "base_uri": "https://localhost:8080/"
        },
        "id": "X7WlJCZDdsWc",
        "outputId": "6ef9bb86-7b5e-45c7-9002-9141344ee36c"
      },
      "outputs": [
        {
          "output_type": "stream",
          "name": "stdout",
          "text": [
            "Please enter a number to divide a2\n",
            "Success a= 0.5\n"
          ]
        }
      ],
      "source": [
        "a = 1\n",
        "\n",
        "try:\n",
        "    b = int(input(\"Please enter a number to divide a\"))\n",
        "    a = a/b\n",
        "    print(\"Success a=\",a)\n",
        "except ZeroDivisionError:\n",
        "    print(\"The number you provided cant divide 1 because it is 0\")\n",
        "except ValueError:\n",
        "    print(\"You did not provide a number\")\n",
        "except:\n",
        "    print(\"Something went wrong\")\n",
        "\n"
      ]
    },
    {
      "cell_type": "markdown",
      "metadata": {
        "id": "igBzVFYqdsWc"
      },
      "source": [
        "### Try Except Else and Finally\n"
      ]
    },
    {
      "cell_type": "markdown",
      "metadata": {
        "id": "T9Lj_fJSdsWc"
      },
      "source": [
        "<code>else</code> allows one to check if there was no exception when executing the try block. This is useful when we want to execute something only if there were no errors.\n"
      ]
    },
    {
      "cell_type": "markdown",
      "metadata": {
        "id": "N9ygf-JkdsWd"
      },
      "source": [
        "<b>do not run, just to illustrate</b>\n"
      ]
    },
    {
      "cell_type": "code",
      "execution_count": null,
      "metadata": {
        "id": "lFI4WmM6dsWd"
      },
      "outputs": [],
      "source": [
        "# potential code before try catch\n",
        "\n",
        "try:\n",
        "    # code to try to execute\n",
        "except ZeroDivisionError:\n",
        "    # code to execute if there is a ZeroDivisionError\n",
        "except NameError:\n",
        "    # code to execute if there is a NameError\n",
        "except:\n",
        "    # code to execute if ther is any exception\n",
        "else:\n",
        "    # code to execute if there is no exception\n",
        "\n",
        "# code that will execute if there is no exception or a one that we are handling"
      ]
    },
    {
      "cell_type": "markdown",
      "metadata": {
        "id": "rUXD8of8dsWd"
      },
      "source": [
        "<code>finally</code> allows us to always execute something even if there is an exception or not. This is usually used to signify the end of the try except.\n"
      ]
    },
    {
      "cell_type": "code",
      "execution_count": null,
      "metadata": {
        "id": "gdi75ntPdsWd"
      },
      "outputs": [],
      "source": [
        "# potential code before try catch\n",
        "\n",
        "try:\n",
        "    # code to try to execute\n",
        "except ZeroDivisionError:\n",
        "    # code to execute if there is a ZeroDivisionError\n",
        "except NameError:\n",
        "    # code to execute if there is a NameError\n",
        "except:\n",
        "    # code to execute if ther is any exception\n",
        "else:\n",
        "    # code to execute if there is no exception\n",
        "finally:\n",
        "    # code to execute at the end of the try except no matter what\n",
        "\n",
        "# code that will execute if there is no exception or a one that we are handling"
      ]
    },
    {
      "cell_type": "markdown",
      "metadata": {
        "id": "Bao8-njXdsWd"
      },
      "source": [
        "### Try Except Else and Finally Example\n"
      ]
    },
    {
      "cell_type": "markdown",
      "metadata": {
        "id": "SGeuFZevdsWe"
      },
      "source": [
        "You might have noticed that even if there is an error the value of <code>a</code> is always printed. Let's use the <code>else</code> and print the value of <code>a</code> only if there is no error.\n"
      ]
    },
    {
      "cell_type": "code",
      "execution_count": 10,
      "metadata": {
        "colab": {
          "base_uri": "https://localhost:8080/"
        },
        "id": "BdXTr_23dsWe",
        "outputId": "efd06579-20b6-4018-9306-147c68498347"
      },
      "outputs": [
        {
          "output_type": "stream",
          "name": "stdout",
          "text": [
            "Please enter a number to divide a4\n",
            "success a= 0.25\n"
          ]
        }
      ],
      "source": [
        "a = 1\n",
        "\n",
        "try:\n",
        "    b = int(input(\"Please enter a number to divide a\"))\n",
        "    a = a/b\n",
        "except ZeroDivisionError:\n",
        "    print(\"The number you provided cant divide 1 because it is 0\")\n",
        "except ValueError:\n",
        "    print(\"You did not provide a number\")\n",
        "except:\n",
        "    print(\"Something went wrong\")\n",
        "else:\n",
        "    print(\"success a=\",a)"
      ]
    },
    {
      "cell_type": "markdown",
      "metadata": {
        "id": "JTDcCiVHdsWe"
      },
      "source": [
        "Now lets let the user know that we are done processing their answer. Using the <code>finally</code>, let's add a print.\n"
      ]
    },
    {
      "cell_type": "code",
      "execution_count": 11,
      "metadata": {
        "colab": {
          "base_uri": "https://localhost:8080/"
        },
        "id": "l_7ql_dZdsWe",
        "outputId": "294f76b3-c002-4af8-ec9b-b91510b62c8d"
      },
      "outputs": [
        {
          "output_type": "stream",
          "name": "stdout",
          "text": [
            "Please enter a number to divide a0\n",
            "The number you provided cant divide 1 because it is 0\n",
            "Processing Complete\n"
          ]
        }
      ],
      "source": [
        "a = 1\n",
        "\n",
        "try:\n",
        "    b = int(input(\"Please enter a number to divide a\"))\n",
        "    a = a/b\n",
        "except ZeroDivisionError:\n",
        "    print(\"The number you provided cant divide 1 because it is 0\")\n",
        "except ValueError:\n",
        "    print(\"You did not provide a number\")\n",
        "except:\n",
        "    print(\"Something went wrong\")\n",
        "else:\n",
        "    print(\"success a=\",a)\n",
        "finally:\n",
        "    print(\"Processing Complete\")"
      ]
    },
    {
      "cell_type": "markdown",
      "metadata": {
        "id": "V3GOZsP9dsWe"
      },
      "source": [
        "<center>\n",
        "    \n",
        "    \n",
        "# Practice Exercises\n",
        "\n",
        "</center>\n"
      ]
    },
    {
      "cell_type": "markdown",
      "metadata": {
        "id": "a73fCjK7dsWe"
      },
      "source": [
        "## Exercise 1: Handling ZeroDivisionError\n"
      ]
    },
    {
      "cell_type": "markdown",
      "metadata": {
        "id": "4G8uq1DddsWf"
      },
      "source": [
        "Imagine you have two numbers and want to determine what happens when you divide one number by the other. To do this, you need to create a Python function called `safe_divide.` You give this function two numbers, a `'numerator'` and a `'denominator'`. The 'numerator' is the number you want to divide, and the `'denominator'` is the number you want to divide by. Use the user input method of Python to take the values.\n",
        "\n",
        "The function should be able to do the division for you and give you the result. But here's the catch: if you try to divide by zero (which is not allowed in math), the function should be smart enough to catch that and tell you that it's not possible to divide by zero. Instead of showing an error, it should return None, which means 'nothing' or 'no value', and print `\"Error: Cannot divide by Zero.`\n"
      ]
    },
    {
      "cell_type": "code",
      "execution_count": 15,
      "metadata": {
        "colab": {
          "base_uri": "https://localhost:8080/"
        },
        "id": "SdqKyTqodsWf",
        "outputId": "401b24cc-94e8-4635-a400-6921c9c768f5"
      },
      "outputs": [
        {
          "output_type": "stream",
          "name": "stdout",
          "text": [
            "0.5\n",
            "Error: Cannot divide by zero.\n"
          ]
        },
        {
          "output_type": "execute_result",
          "data": {
            "text/plain": [
              "0.3333333333333333"
            ]
          },
          "metadata": {},
          "execution_count": 15
        }
      ],
      "source": [
        "#Type your code here\n",
        "def safe_divide(numerator,denominator):\n",
        "  try:\n",
        "    result = numerator / denominator\n",
        "    return result\n",
        "  except ZeroDivisionError:\n",
        "    print(\"Error: Cannot divide by zero.\")\n",
        "    return None\n",
        "\n",
        "print(safe_divide(1,2))\n",
        "safe_divide(1,0)\n",
        "safe_divide(1,3)"
      ]
    },
    {
      "cell_type": "markdown",
      "metadata": {
        "id": "bPYFc0_ddsWf"
      },
      "source": [
        "**Note:- Practice handling exceptions by trying different input types like using integers, strings, zero, negative values, or other data types.**\n"
      ]
    },
    {
      "cell_type": "markdown",
      "metadata": {
        "id": "iD-SCvCidsWf"
      },
      "source": [
        "<details><summary>Click here for the hints</summary>\n",
        "\n",
        "```python\n",
        "Follow these: -\n",
        "* Define a function to perform the division and use two arguments.\n",
        "* Use the try-except block to handle ZeroDivisionError.\n",
        "* Return the result of the division if no error occurs.\n",
        "* Return None if division by zero occurs.\n",
        "* take user input for numerator and denominator values.\n",
        "* call and print your function with the user inputs.\n",
        "**Note:- Test with different inputs to validate error handling.**\n",
        "```\n",
        "\n",
        "</details>\n"
      ]
    },
    {
      "cell_type": "markdown",
      "metadata": {
        "id": "SC9IMesSdsWf"
      },
      "source": [
        "\n",
        "<details><summary>Click here for the solution</summary>\n",
        "\n",
        "```python\n",
        "\n",
        "def safe_divide(numerator,denominator):\n",
        "    try:\n",
        "        result = numerator / denominator\n",
        "        return result\n",
        "    except ZeroDivisionError:\n",
        "        print(\"Error: Cannot divide by zero.\")\n",
        "        return None\n",
        "# Test case\n",
        "numerator=int(input(\"Enter the numerator value:-\"))\n",
        "denominator=int(input(\"Enter the denominator value:-\"))\n",
        "print(safe_divide(numerator,denominator))\n",
        "```\n",
        "\n",
        "</details>\n"
      ]
    },
    {
      "cell_type": "markdown",
      "metadata": {
        "id": "_iaJCumIdsWg"
      },
      "source": [
        "## Exercise 2: Handling ValueError\n"
      ]
    },
    {
      "cell_type": "markdown",
      "metadata": {
        "id": "ChzBAV2zdsWg"
      },
      "source": [
        "Imagine you have a number and want to calculate its square root. To do this, you need to create a Python function. You give this function one number, `'number1'`.\n",
        "\n",
        "The function should generate the square root value if you provide a positive integer or float value as input. However, the function should be clever enough to detect the mistake if you enter a negative value. It should kindly inform you with a message saying, `'Invalid input! Please enter a positive integer or a float value.`\n"
      ]
    },
    {
      "cell_type": "code",
      "execution_count": null,
      "metadata": {
        "id": "WszosVG4dsWg"
      },
      "outputs": [],
      "source": [
        "#Type your code here\n",
        "def sqrt_NO(number1):\n",
        "    try:\n",
        "        result = number1**0.5\n",
        "        return result\n",
        "    except ValueError:\n",
        "        print(\"Invalid input! Please enter a positive integer or a float value.\")\n",
        "        return None"
      ]
    },
    {
      "cell_type": "markdown",
      "metadata": {
        "id": "hXSuuBhfdsWh"
      },
      "source": [
        "**Note:- Practice handling exceptions by trying different input types like using integers, strings, zero, negative values, or other data types.**\n"
      ]
    },
    {
      "cell_type": "markdown",
      "metadata": {
        "id": "oVoZyG4ndsWh"
      },
      "source": [
        "<details><summary>Click here for the hints</summary>\n",
        "\n",
        "```python\n",
        "Follow these:-\n",
        "* Define a function to perform square root of the argument.\n",
        "* Use try-except block for error handling.\n",
        "* Use `sqrt()` function from the `math` package to calculate the square root. Catch ValueError and display the error message.\"\n",
        "* Take user input of the value, number1.\n",
        "* Test with negative numbers to validate error handling.\n",
        "```\n",
        "\n",
        "</details>\n"
      ]
    },
    {
      "cell_type": "markdown",
      "metadata": {
        "id": "egJyCU6wdsWh"
      },
      "source": [
        "<details><summary>Click here for the solution</summary>\n",
        "\n",
        "```python\n",
        "import math\n",
        "\n",
        "def perform_calculation(number1):\n",
        "    try:\n",
        "        result = math.sqrt(number1)\n",
        "        print(f\"Result: {result}\")\n",
        "    except ValueError:\n",
        "        print(\"Error: Invalid input! Please enter a positive integer or a float value.\")\n",
        "# Test case\n",
        "number1=float(input(\"Enter the number:-\"))\n",
        "perform_calculation(number1)\n",
        "```\n",
        "\n",
        "**Note:- Test with different inputs to validate error handling.**\n",
        "\n",
        "</details>\n"
      ]
    },
    {
      "cell_type": "markdown",
      "metadata": {
        "id": "C-xkQvAddsWh"
      },
      "source": [
        "## Exercise 3: Handling Generic Exceptions\n"
      ]
    },
    {
      "cell_type": "markdown",
      "metadata": {
        "id": "SyGD0bz7dsWh"
      },
      "source": [
        "Imagine you have a number and want to perform a complex mathematical task. The calculation requires dividing the value of the input argument `\"num\"` by the difference between `\"num\"` and 5, and the result has to be stored in a variable called `\"result\"`.\n",
        "\n",
        "You have to define a function so that it can perform that complex mathematical task. The function should handle any potential errors that occur during the calculation. To do this, you can use a try-except block. If any exception arises during the calculation, it should catch the error using the generic exception class `\"Exception\" as \"e\"`. When an exception occurs, the function should display `\"An error occurred during calculation.`\n"
      ]
    },
    {
      "cell_type": "code",
      "execution_count": 23,
      "metadata": {
        "colab": {
          "base_uri": "https://localhost:8080/"
        },
        "id": "s98nr58odsWh",
        "outputId": "3355c302-d3d2-4410-c0b0-fc3174f94153"
      },
      "outputs": [
        {
          "output_type": "stream",
          "name": "stdout",
          "text": [
            "Enter a number: 5\n",
            "An error occurred during calculation. float division by zero\n",
            "Result: None\n"
          ]
        }
      ],
      "source": [
        "#Type your code here\n",
        "def complex_task(num):\n",
        "    try:\n",
        "      result = num / (num - 5)\n",
        "      return result\n",
        "\n",
        "    except Exception as e:\n",
        "      print(f\"An error occurred during calculation. {e}\")\n",
        "      return None\n",
        "\n",
        "x = float(input(\"Enter a number: \"))\n",
        "y= complex_task(x)\n",
        "print(f\"Result: {y}\")"
      ]
    },
    {
      "cell_type": "markdown",
      "metadata": {
        "id": "EIHLdbvydsWh"
      },
      "source": [
        "**Note:- Practice handling exceptions by trying different input types like using integers, strings, zero, negative values, or other data types.**\n"
      ]
    },
    {
      "cell_type": "markdown",
      "metadata": {
        "id": "fqazLyUrdsWh"
      },
      "source": [
        "<details><summary>Click here for the hints</summary>\n",
        "\n",
        "```python\n",
        "Follow these:-\n",
        "* Define a function for the complex calculation and pass any argument.\n",
        "* Use a try-except block for error handling.\n",
        "* Perform the calculation and store the result in \"result.\"\n",
        "* Catch any exceptions using Exception as e.\n",
        "* Display \"An error occurred during calculation.\" when an exception is caught.\n",
        "* take user input\n",
        "* Call the defined function with the user input\n",
        "**Note:- Test with different inputs to validate error handling.**\n",
        "```\n",
        "\n",
        "</details>\n"
      ]
    },
    {
      "cell_type": "markdown",
      "metadata": {
        "id": "KEBOzlkIdsWi"
      },
      "source": [
        "<details><summary>Click here for the solution</summary>\n",
        "\n",
        "```python\n",
        "def complex_calculation(num):\n",
        "    try:\n",
        "        result = num / (num - 5)\n",
        "        print (f\"Result: {result}\")\n",
        "    except Exception as e:\n",
        "        print(\"An error occurred during calculation.\")\n",
        "# Test case\n",
        "user_input = float(input(\"Enter a number: \"))\n",
        "complex_calculation(user_input)\n",
        "```\n",
        "\n",
        "</details>\n"
      ]
    },
    {
      "cell_type": "markdown",
      "metadata": {
        "id": "B_ITyyL5dsWi"
      },
      "source": [
        "## Authors\n"
      ]
    },
    {
      "cell_type": "markdown",
      "metadata": {
        "id": "BmfJfwYwdsWi"
      },
      "source": [
        "<a href=\"https://www.linkedin.com/in/joseph-s-50398b136/\" target=\"_blank\">Joseph Santarcangelo</a>\n"
      ]
    },
    {
      "cell_type": "markdown",
      "metadata": {
        "id": "DJr4qOO5dsWi"
      },
      "source": [
        "## Change Log\n",
        "\n",
        "|  Date (YYYY-MM-DD) |  Version | Changed By  |  Change Description |\n",
        "|---|---|---|---|\n",
        "| 2023-11-02 | 2.2 | Abhishek Gagneja | Updated instructions |\n",
        "| 2023-08-01 | 2.1   | Akansha Yadav | Added optional practice section |\n",
        "| 2020-09-02  | 2.0  | Simran | Template updates to the file|\n",
        "|   |   |   |   |\n",
        "\n",
        "\n",
        "\n",
        "\n",
        "## <h3 align=\"center\"> © IBM Corporation 2023. All rights reserved. <h3/>\n"
      ]
    },
    {
      "cell_type": "code",
      "execution_count": null,
      "metadata": {
        "id": "-AaZkqUbdsWj"
      },
      "outputs": [],
      "source": []
    }
  ],
  "metadata": {
    "kernelspec": {
      "display_name": "Python",
      "language": "python",
      "name": "conda-env-python-py"
    },
    "language_info": {
      "codemirror_mode": {
        "name": "ipython",
        "version": 3
      },
      "file_extension": ".py",
      "mimetype": "text/x-python",
      "name": "python",
      "nbconvert_exporter": "python",
      "pygments_lexer": "ipython3",
      "version": "3.7.12"
    },
    "colab": {
      "provenance": []
    }
  },
  "nbformat": 4,
  "nbformat_minor": 0
}