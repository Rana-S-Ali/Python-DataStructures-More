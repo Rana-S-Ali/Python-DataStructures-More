{
  "cells": [
    {
      "cell_type": "markdown",
      "metadata": {
        "id": "7a97a061-c532-4fdc-90f5-686bf07a292b"
      },
      "source": [
        "<a href=\"https://cognitiveclass.ai/?utm_medium=Exinfluencer&utm_source=Exinfluencer&utm_content=000026UJ&utm_term=10006555&utm_id=NA-SkillsNetwork-Channel-SkillsNetworkCoursesIBMDeveloperSkillsNetworkPY0101ENSkillsNetwork19487395-2021-01-01\">\n",
        "    <img src=\"https://cf-courses-data.s3.us.cloud-object-storage.appdomain.cloud/IBMDeveloperSkillsNetwork-PY0101EN-SkillsNetwork/IDSNlogo.png\" width=\"300\" align=\"center\">\n",
        "</a>\n"
      ]
    },
    {
      "cell_type": "markdown",
      "metadata": {
        "id": "8535654f-881c-4e20-8852-d189b6f8d945"
      },
      "source": [
        "<h1> HTTP and Requests</h1>\n",
        "\n",
        "Estimated time needed: **30** minutes\n",
        "\n",
        "## Objectives\n",
        "\n",
        "After completing this lab you will be able to:\n",
        "\n",
        "*   Understand HTTP\n",
        "*   Handle HTTP Requests\n"
      ]
    },
    {
      "cell_type": "markdown",
      "metadata": {
        "id": "e74cded7-96ef-4190-b141-a53ae7798c72"
      },
      "source": [
        "<h2>Table of Contents</h2>\n",
        "\n",
        "<div class=\"alert alert-block alert-info\" style=\"margin-top: 20px\">\n",
        "    <ul>\n",
        "        <li>\n",
        "            <a href=\"#Overview-of-HTTP\">Overview of HTTP </a>\n",
        "            <ul>\n",
        "                <li><a href=\"#Uniform-Resource-Locator:URL\">Uniform Resource Locator:URL</a></li>\n",
        "                 <li><a href=\"#Request\">Request</a></li>\n",
        "                <li><a href=\"#Response\">Response</a></li>\n",
        "            </ul>\n",
        "        </li>\n",
        "        <li>\n",
        "            <a href=\"#Requests-in-Python\">Requests in Python  </a>\n",
        "            <ul>\n",
        "                <li><a href=\"#Get-Request-with-URL-Parameters\">Get Request with URL Parameters</a></li>\n",
        "                <li><a href=\"#Post-Requests\">Post Requests </a></li>\n",
        "\n",
        "</ul>\n",
        "\n",
        "</div>\n",
        "\n",
        "<hr>\n"
      ]
    },
    {
      "cell_type": "markdown",
      "metadata": {
        "id": "0d1d3357-6e17-4ccf-95ad-306859d59478"
      },
      "source": [
        "## Overview of HTTP\n"
      ]
    },
    {
      "cell_type": "markdown",
      "metadata": {
        "id": "d4211a76-757d-4c99-b9b2-d69c8065ce01"
      },
      "source": [
        "When you, the **client**, use a web page your browser sends an **HTTP** request to the **server** where the page is hosted. The server tries to find the desired **resource** by default \"<code>index.html</code>\". If your request is successful, the server will send the object to the client in an **HTTP response**. This includes information like the type of the **resource**, the length of the **resource**, and other information.\n",
        "\n",
        "<p>\n",
        "The figure below represents the process. The circle on the left represents the client, the circle on the right represents the Web server. The table under the Web server represents a list of resources stored in the web server. In  this case an <code>HTML</code> file, <code>png</code> image, and <code>txt</code> file .\n",
        "</p>\n",
        "<p>\n",
        "The <b>HTTP</b> protocol allows you to send and receive information through the web including webpages, images, and other web resources. In this lab, we will provide an overview of the Requests library for interacting with the <code>HTTP</code> protocol.\n",
        "</p\n"
      ]
    },
    {
      "cell_type": "markdown",
      "metadata": {
        "id": "06eb93bc-e2dc-4b27-b0bb-496987e38726"
      },
      "source": [
        "<div class=\"alert alert-block alert-info\" style=\"margin-top: 20px\">\n",
        "         <img src=\"https://cf-courses-data.s3.us.cloud-object-storage.appdomain.cloud/IBMDeveloperSkillsNetwork-PY0101EN-SkillsNetwork/labs/Module%205/images/reqest_basics.png\" width=\"750\" align=\"center\">\n",
        "\n",
        "</div>\n"
      ]
    },
    {
      "cell_type": "markdown",
      "metadata": {
        "id": "8d3e5318-26ea-4062-8deb-120b9438aea2"
      },
      "source": [
        "## Uniform Resource Locator:URL\n"
      ]
    },
    {
      "cell_type": "markdown",
      "metadata": {
        "id": "51ba4438-39a7-43eb-9cb6-f9fb7c0429c4"
      },
      "source": [
        "Uniform resource locator (URL) is the most popular way to find resources on the web.  We can break the URL into three parts.\n",
        "\n",
        "<ul>\n",
        "    <li><b>Scheme</b>:- This is this protocol, for this lab it will always be <code>http://</code>  </li>\n",
        "    <li><b> Internet address or  Base URL </b>:- This will be used to find the location here are some examples: <code>www.ibm.com</code> and  <code> www.gitlab.com </code> </li>\n",
        "    <li><b>Route</b>:- Location on the web server for example: <code>/images/IDSNlogo.png</code> </li>\n",
        "</ul>\n"
      ]
    },
    {
      "cell_type": "markdown",
      "metadata": {
        "id": "ea7c24c8-84f3-418c-a0ef-ba200f1c6b2b"
      },
      "source": [
        "You may also hear the term Uniform Resource Identifier (URI), URL are actually a subset of URIs. Another popular term is endpoint, this is the URL of an operation provided by a Web server.\n"
      ]
    },
    {
      "cell_type": "markdown",
      "metadata": {
        "id": "ffd6a77b-ba43-49e5-bf0d-d26f0eb0624c"
      },
      "source": [
        "## Request\n"
      ]
    },
    {
      "cell_type": "markdown",
      "metadata": {
        "id": "a06564c8-eeb0-484b-8291-b0cb8fb0a52f"
      },
      "source": [
        "The process can be broken into the <b>Request</b> and <b>Response </b> process.  The request using the get method is partially illustrated below. In the start line we have the <code>GET</code> method, this is an <code>HTTP</code> method. Also the location of the resource  <code>/index.html</code> and the <code>HTTP</code> version. The Request header passes additional information with an <code>HTTP</code> request:\n"
      ]
    },
    {
      "cell_type": "markdown",
      "metadata": {
        "id": "dca9262f-3fbf-4b68-96b0-455bcd7af589"
      },
      "source": [
        "<div class=\"alert alert-block alert-info\" style=\"margin-top: 20px\">\n",
        "         <img src=\"https://cf-courses-data.s3.us.cloud-object-storage.appdomain.cloud/IBMDeveloperSkillsNetwork-PY0101EN-SkillsNetwork/labs/Module%205/images/reqest_messege.png\" width=\"400\" align=\"center\">\n",
        "</div>\n"
      ]
    },
    {
      "cell_type": "markdown",
      "metadata": {
        "id": "cf97b0c9-f7d0-4442-904b-df5bf61a027f"
      },
      "source": [
        "When an <code>HTTP</code> request is made, an <code>HTTP</code> method is sent, this tells the server what action to perform.  A list of several <code>HTTP</code> methods is shown below. We will go over more examples later.\n"
      ]
    },
    {
      "cell_type": "markdown",
      "metadata": {
        "id": "07673dcf-d022-440b-8ae6-44aa319cf97c"
      },
      "source": [
        "<div class=\"alert alert-block alert-info\" style=\"margin-top: 20px\">\n",
        "         <img src=\"https://cf-courses-data.s3.us.cloud-object-storage.appdomain.cloud/IBMDeveloperSkillsNetwork-PY0101EN-SkillsNetwork/labs/Module%205/images/http_methods.png\" width=\"400\" align=\"center\">\n",
        "</div>\n"
      ]
    },
    {
      "cell_type": "markdown",
      "metadata": {
        "id": "a47afd15-0fa0-4ad1-baf5-b40aea548b71"
      },
      "source": [
        "## Response\n"
      ]
    },
    {
      "cell_type": "markdown",
      "metadata": {
        "id": "67050968-a61c-4e1c-85ba-a796d2edf8ed"
      },
      "source": [
        "The figure below represents the response; the response start line contains the version number <code>HTTP/1.0</code>, a status code (200) meaning success, followed by a descriptive phrase (OK). The response header contains useful information. Finally, we have the response body containing the requested file, an <code> HTML </code> document.  It should be noted that some requests have headers.\n"
      ]
    },
    {
      "cell_type": "markdown",
      "metadata": {
        "id": "f517d651-1a17-4fca-b36d-c358b2e9f956"
      },
      "source": [
        "<div class=\"alert alert-block alert-info\" style=\"margin-top: 20px\">\n",
        "         <img src=\"https://cf-courses-data.s3.us.cloud-object-storage.appdomain.cloud/IBMDeveloperSkillsNetwork-PY0101EN-SkillsNetwork/labs/Module%205/images/response_message.png\" width=\"400\" align=\"center\">\n",
        "</div>\n"
      ]
    },
    {
      "cell_type": "markdown",
      "metadata": {
        "id": "427480bb-0122-4ad2-9245-7ddd9752d85a"
      },
      "source": [
        "Some status code examples are shown in the table below, the prefix indicates the class. These are shown in yellow, with actual status codes shown in  white. Check out the following <a href=\"https://developer.mozilla.org/en-US/docs/Web/HTTP/Status?utm_medium=Exinfluencer&utm_source=Exinfluencer&utm_content=000026UJ&utm_term=10006555&utm_id=NA-SkillsNetwork-Channel-SkillsNetworkCoursesIBMDeveloperSkillsNetworkPY0101ENSkillsNetwork19487395-2021-01-01\">link </a> for more descriptions.\n"
      ]
    },
    {
      "cell_type": "markdown",
      "metadata": {
        "id": "5cb21255-3e8c-45e4-b64e-ffde17bf281b"
      },
      "source": [
        "<div class=\"alert alert-block alert-info\" style=\"margin-top: 20px\">\n",
        "         <img src=\"https://cf-courses-data.s3.us.cloud-object-storage.appdomain.cloud/IBMDeveloperSkillsNetwork-PY0101EN-SkillsNetwork/labs/Module%205/images/status_code.png\" width=\"300\" align=\"center\">\n",
        "</div>\n"
      ]
    },
    {
      "cell_type": "markdown",
      "metadata": {
        "id": "5813f0fc-ae9d-402e-a838-7a5ff8c776a5"
      },
      "source": [
        "## Requests in Python\n"
      ]
    },
    {
      "cell_type": "markdown",
      "metadata": {
        "id": "d454dc24-9002-4df5-8e32-cec6a785d639"
      },
      "source": [
        "Requests is a Python Library that allows you to send <code>HTTP/1.1</code> requests easily. We can import the library as follows:\n"
      ]
    },
    {
      "cell_type": "code",
      "execution_count": 4,
      "metadata": {
        "id": "7ec3d7f0-7af3-467e-8431-e12c8bc86a85"
      },
      "outputs": [],
      "source": [
        "import requests"
      ]
    },
    {
      "cell_type": "markdown",
      "metadata": {
        "id": "5044b120-3c87-4f22-bdaa-f23f5d2cfa61"
      },
      "source": [
        "We will also use the following libraries:\n"
      ]
    },
    {
      "cell_type": "code",
      "execution_count": 5,
      "metadata": {
        "id": "9c25ba7c-9d28-47f0-8c3f-b1fe905c6f2c"
      },
      "outputs": [],
      "source": [
        "import os\n",
        "from PIL import Image\n",
        "from IPython.display import IFrame"
      ]
    },
    {
      "cell_type": "markdown",
      "metadata": {
        "id": "50fe8ea5-5882-41da-ae4b-a3e28900999e"
      },
      "source": [
        "You can make a <code>GET</code> request via the method <code>get</code> to [www.ibm.com](http://www.ibm.com/?utm_source=Exinfluencer&utm_content=000026UJ&utm_id=NA-SkillsNetwork-Channel-SkillsNetworkCoursesIBMDeveloperSkillsNetworkPY0101ENSkillsNetwork19487395-2021-01-01&utm_medium=Exinfluencer&utm_term=10006555):\n"
      ]
    },
    {
      "cell_type": "code",
      "execution_count": 6,
      "metadata": {
        "id": "2afec458-50a6-4103-b97d-28b8af3e77c7"
      },
      "outputs": [],
      "source": [
        "\n",
        "url='https://www.ibm.com/'\n",
        "r=requests.get(url)\n"
      ]
    },
    {
      "cell_type": "markdown",
      "metadata": {
        "id": "0cbae8b4-87a5-4188-9868-03f1da4acb5f"
      },
      "source": [
        "We have the response object <code>r</code>, this has information about the request, like the status of the request. We can view the status code using the attribute <code>status_code</code>.\n"
      ]
    },
    {
      "cell_type": "code",
      "execution_count": 7,
      "metadata": {
        "colab": {
          "base_uri": "https://localhost:8080/"
        },
        "id": "59daac5e-b681-4d06-94a0-f6bf9dd97b5f",
        "outputId": "dd84b6e1-8df1-4c8e-cbbe-a66f2a909c90"
      },
      "outputs": [
        {
          "data": {
            "text/plain": [
              "200"
            ]
          },
          "execution_count": 7,
          "metadata": {},
          "output_type": "execute_result"
        }
      ],
      "source": [
        "r.status_code"
      ]
    },
    {
      "cell_type": "markdown",
      "metadata": {
        "id": "85e69bb0-3033-42fd-a25e-d3582dc22358"
      },
      "source": [
        "You can view the request headers:\n"
      ]
    },
    {
      "cell_type": "code",
      "execution_count": 8,
      "metadata": {
        "colab": {
          "base_uri": "https://localhost:8080/"
        },
        "id": "d648f165-574f-4af9-ae5c-7d0d1f304ac2",
        "outputId": "076bafed-cfd9-454d-ee15-35f55b67771b"
      },
      "outputs": [
        {
          "name": "stdout",
          "output_type": "stream",
          "text": [
            "{'User-Agent': 'python-requests/2.31.0', 'Accept-Encoding': 'gzip, deflate', 'Accept': '*/*', 'Connection': 'keep-alive', 'Cookie': '_abck=991D9874BAB247BA5D2DC6AF7D26EB79~-1~YAAQzunHF+2fQFSQAQAA/EHoYAyS8oi34A1ieLKd4r7jcFcHKEMg8SjzUySZoN15+y7PfMXEDUqBlkEGE0HU8/7R1bVl2NQc+u2wG+YNRKb4hupWZ5IO08/RpaowqN2cmJHgjmVNU8por5ChMXS56aVOhLrAOKdQXeQ8hGT5U9M79wcDTdqs+wJytawKy7itbNoWXZOoxo8qx4dLp6PGxrAqeWuS8UVbs2Gc+sRu6ZKlhhOtf+CW8PWQvnjhKK0tvg/b5YNASH4cPG6hQOuQgAhBSXAf3kkrbr0s2Mf8B69g+WV4JNhE14ZsP8m0ZXocDCTMSPPuCWYVuYdGVBbpsOAwc2EBO6VCIRxflXFRY1TR2VYXm7U=~-1~-1~-1; bm_sz=A00E9F850BFBA142EB0B99C9375EF8C1~YAAQzunHF+6fQFSQAQAA/EHoYBjuoNT2mwIxWVtMh2K0fcjbC/eKquRcMxOcbhnt7+ofK+wONJuSOqwHzK8GESHAv4BVBoiok0zM5vc4Z6vozIfnTW6hrOuMPFpm3eBbdXVZRqDFBCWm6DKJhN3In/yLiERpSmavtFlytaLUif8YaXnZAXpkKfH5rnlOHNoVR0q75fDg+TIMCi11X0pG8E6/5OudqMDYPcXJJdXizTWocuH7hUA850CK4Ndws9p9zQ44P0THPdifrRbsmW/48rwau2r0oI843EbH/w5dPtSln0cZ1VBKbg2rhWW3JQsIvmfLThuK6Mk1pYcgSJJnaY/ZeTTHY989kFM=~3355970~3159107'}\n"
          ]
        }
      ],
      "source": [
        "print(r.request.headers)"
      ]
    },
    {
      "cell_type": "markdown",
      "metadata": {
        "id": "bedd42f3-37af-43fe-8a75-d8e6213e1a17"
      },
      "source": [
        "You can view the request body, in the following line, as there is no body for a get request we get a <code>None</code>:\n"
      ]
    },
    {
      "cell_type": "code",
      "execution_count": 9,
      "metadata": {
        "colab": {
          "base_uri": "https://localhost:8080/"
        },
        "id": "35907d40-77ba-4de2-a36d-ec6b4f467ef4",
        "outputId": "6a1b4135-85fc-46ec-9c03-66ce0ec27c83"
      },
      "outputs": [
        {
          "name": "stdout",
          "output_type": "stream",
          "text": [
            "request body: None\n"
          ]
        }
      ],
      "source": [
        "print(\"request body:\", r.request.body)"
      ]
    },
    {
      "cell_type": "markdown",
      "metadata": {
        "id": "b71c9386-d8cf-4942-ae86-453a53f85112"
      },
      "source": [
        "You can view the <code>HTTP</code> response header using the attribute <code>headers</code>. This returns a python dictionary of <code>HTTP</code> response headers.\n"
      ]
    },
    {
      "cell_type": "code",
      "execution_count": 10,
      "metadata": {
        "colab": {
          "base_uri": "https://localhost:8080/"
        },
        "id": "4a0bfa1e-4027-432c-a5e7-e0f2f9f2e946",
        "outputId": "92678611-f32d-4e6a-bc8a-7179f98ccb0d"
      },
      "outputs": [
        {
          "name": "stdout",
          "output_type": "stream",
          "text": [
            "{'Content-Security-Policy': 'upgrade-insecure-requests', 'x-frame-options': 'SAMEORIGIN', 'Last-Modified': 'Fri, 28 Jun 2024 22:05:07 GMT', 'ETag': 'W/\"16990-61bfa70bf58d3-gzip\"', 'Accept-Ranges': 'bytes', 'Content-Type': 'text/html;charset=utf-8', 'X-Content-Type-Options': 'nosniff', 'Cache-Control': 'max-age=600', 'Expires': 'Fri, 28 Jun 2024 22:22:32 GMT', 'X-Akamai-Transformed': '9 12611 0 pmb=mTOE,2', 'Content-Encoding': 'gzip', 'Date': 'Fri, 28 Jun 2024 22:12:32 GMT', 'Content-Length': '12805', 'Connection': 'keep-alive', 'Vary': 'Accept-Encoding', 'Strict-Transport-Security': 'max-age=31536000'}\n"
          ]
        }
      ],
      "source": [
        "header=r.headers\n",
        "print(r.headers)"
      ]
    },
    {
      "cell_type": "markdown",
      "metadata": {
        "id": "e9c0ad4a-92fc-41d6-bd58-0cffca02fcf7"
      },
      "source": [
        "We can obtain the date the request was sent using the key <code>Date</code>.\n"
      ]
    },
    {
      "cell_type": "code",
      "execution_count": 11,
      "metadata": {
        "colab": {
          "base_uri": "https://localhost:8080/",
          "height": 35
        },
        "id": "e7923946-0510-471c-ad05-db14365ae16a",
        "outputId": "947f6a5c-f108-469e-8c2a-b095ae2faf9d"
      },
      "outputs": [
        {
          "data": {
            "application/vnd.google.colaboratory.intrinsic+json": {
              "type": "string"
            },
            "text/plain": [
              "'Fri, 28 Jun 2024 22:12:32 GMT'"
            ]
          },
          "execution_count": 11,
          "metadata": {},
          "output_type": "execute_result"
        }
      ],
      "source": [
        "header['date']"
      ]
    },
    {
      "cell_type": "markdown",
      "metadata": {
        "id": "42a0584b-bbed-4a97-bfe3-e874e2ad14b4"
      },
      "source": [
        "<code>Content-Type</code> indicates the type of data:\n"
      ]
    },
    {
      "cell_type": "code",
      "execution_count": 12,
      "metadata": {
        "colab": {
          "base_uri": "https://localhost:8080/",
          "height": 35
        },
        "id": "7664eb3a-0817-4a82-aebb-a11c7eb4e510",
        "outputId": "03f02dcf-519e-47af-a2a8-191142e81590"
      },
      "outputs": [
        {
          "data": {
            "application/vnd.google.colaboratory.intrinsic+json": {
              "type": "string"
            },
            "text/plain": [
              "'text/html;charset=utf-8'"
            ]
          },
          "execution_count": 12,
          "metadata": {},
          "output_type": "execute_result"
        }
      ],
      "source": [
        "header['Content-Type']"
      ]
    },
    {
      "cell_type": "markdown",
      "metadata": {
        "id": "f753bcc0-bc07-4ff1-8e3a-2c579d56c4e4"
      },
      "source": [
        "You can also check the <code>encoding</code>:\n"
      ]
    },
    {
      "cell_type": "code",
      "execution_count": 20,
      "metadata": {
        "id": "5823f1fe-5a6f-4035-b124-8666cf0aad78"
      },
      "outputs": [],
      "source": [
        " r.encoding"
      ]
    },
    {
      "cell_type": "markdown",
      "metadata": {
        "id": "a5648f96-c2ff-418f-8c6d-7c7ab336a86b"
      },
      "source": [
        "As the <code>Content-Type</code> is <code>text/html</code> we can use the attribute <code>text</code> to display the <code>HTML</code> in the body. We can review the first 100 characters:\n"
      ]
    },
    {
      "cell_type": "code",
      "execution_count": 14,
      "metadata": {
        "colab": {
          "base_uri": "https://localhost:8080/",
          "height": 35
        },
        "id": "e4730625-b422-4f0c-bbd0-5f914c1a593a",
        "outputId": "40e59d05-b376-4058-c782-5e870b45dfdf"
      },
      "outputs": [
        {
          "data": {
            "application/vnd.google.colaboratory.intrinsic+json": {
              "type": "string"
            },
            "text/plain": [
              "'\\n<!DOCTYPE HTML>\\n<html lang=\"en-us\">\\n<head>\\r\\n    \\r\\n    \\r\\n    \\r\\n    \\r\\n    \\r\\n    \\r\\n    \\r\\n    <meta cha'"
            ]
          },
          "execution_count": 14,
          "metadata": {},
          "output_type": "execute_result"
        }
      ],
      "source": [
        "r.text[0:100]"
      ]
    },
    {
      "cell_type": "markdown",
      "metadata": {
        "id": "0f7d0b8e-f6c6-4139-a422-0ee151ffbb80"
      },
      "source": [
        "You can load other types of data for non-text requests, like images. Consider the URL of the following image:\n"
      ]
    },
    {
      "cell_type": "code",
      "execution_count": 15,
      "metadata": {
        "id": "40be2891-ad2b-4277-a8a5-145d931b6d0c"
      },
      "outputs": [],
      "source": [
        "# Use single quotation marks for defining string\n",
        "url='https://cf-courses-data.s3.us.cloud-object-storage.appdomain.cloud/IBMDeveloperSkillsNetwork-PY0101EN-SkillsNetwork/IDSNlogo.png'"
      ]
    },
    {
      "cell_type": "markdown",
      "metadata": {
        "id": "0534dafe-41a7-4da0-a245-39dec48f85fb"
      },
      "source": [
        "We can make a get request:\n"
      ]
    },
    {
      "cell_type": "code",
      "execution_count": 16,
      "metadata": {
        "id": "303293d5-ecb7-48dd-8cbd-d36f2378c6d4"
      },
      "outputs": [],
      "source": [
        "r=requests.get(url)"
      ]
    },
    {
      "cell_type": "markdown",
      "metadata": {
        "id": "114c9bbc-71bb-4086-a576-f9df30c22b97"
      },
      "source": [
        "We can look at the response header:\n"
      ]
    },
    {
      "cell_type": "code",
      "execution_count": 17,
      "metadata": {
        "colab": {
          "base_uri": "https://localhost:8080/"
        },
        "id": "c43fcf5b-88da-4a3c-b4ee-d3c1fa84f874",
        "outputId": "af501784-884f-4241-931e-4992352f05ee"
      },
      "outputs": [
        {
          "name": "stdout",
          "output_type": "stream",
          "text": [
            "{'Date': 'Fri, 28 Jun 2024 22:15:06 GMT', 'X-Clv-Request-Id': 'e72b0f35-78f2-463d-8ce3-4e02da9bec54', 'Server': 'Cleversafe', 'X-Clv-S3-Version': '2.5', 'Accept-Ranges': 'bytes', 'x-amz-request-id': 'e72b0f35-78f2-463d-8ce3-4e02da9bec54', 'ETag': '\"8bb44578fff8fdcc3d2972be9ece0164\"', 'Content-Type': 'image/png', 'Last-Modified': 'Wed, 16 Nov 2022 03:32:41 GMT', 'Content-Length': '78776'}\n"
          ]
        }
      ],
      "source": [
        "print(r.headers)"
      ]
    },
    {
      "cell_type": "markdown",
      "metadata": {
        "id": "2d189b95-5d73-46a8-a660-aa8144b49e41"
      },
      "source": [
        "We can see the <code>'Content-Type'</code>\n"
      ]
    },
    {
      "cell_type": "code",
      "execution_count": 21,
      "metadata": {
        "colab": {
          "base_uri": "https://localhost:8080/",
          "height": 35
        },
        "id": "406dd357-55b5-47b4-bdbf-cda7ff8d6005",
        "outputId": "031b305d-0fb2-4671-bf24-c3ff8b4272c6"
      },
      "outputs": [
        {
          "data": {
            "application/vnd.google.colaboratory.intrinsic+json": {
              "type": "string"
            },
            "text/plain": [
              "'image/png'"
            ]
          },
          "execution_count": 21,
          "metadata": {},
          "output_type": "execute_result"
        }
      ],
      "source": [
        "r.headers['Content-Type']"
      ]
    },
    {
      "cell_type": "markdown",
      "metadata": {
        "id": "531f0ecf-aa0a-45a5-90d7-cda82dd82b36"
      },
      "source": [
        "An image is a response object that contains the image as a <a href=\"https://docs.python.org/3/glossary.html?utm_medium=Exinfluencer&utm_source=Exinfluencer&utm_content=000026UJ&utm_term=10006555&utm_id=NA-SkillsNetwork-Channel-SkillsNetworkCoursesIBMDeveloperSkillsNetworkPY0101ENSkillsNetwork19487395-2021-01-01#term-bytes-like-object\">bytes-like object</a>. As a result, we must save it using a file object. First, we specify the <u>file path and\n",
        "name</u>\n"
      ]
    },
    {
      "cell_type": "code",
      "execution_count": 23,
      "metadata": {
        "id": "48eb0639-6c0f-45c4-8ec2-8580d6bf7c73"
      },
      "outputs": [],
      "source": [
        "path=os.path.join(os.getcwd(),'image.png')"
      ]
    },
    {
      "cell_type": "markdown",
      "metadata": {
        "id": "ccb14b4d-bb35-4433-aa57-61a691e6ddad"
      },
      "source": [
        "We save the file, in order to access the body of the response we use the attribute <code>content</code> then save it using the <code>open</code> function and write <code>method</code>:\n"
      ]
    },
    {
      "cell_type": "code",
      "execution_count": 24,
      "metadata": {
        "id": "5a172209-8134-4f0d-aa25-2ec1a0b13443"
      },
      "outputs": [],
      "source": [
        "with open(path,'wb') as f:\n",
        "    f.write(r.content)"
      ]
    },
    {
      "cell_type": "markdown",
      "metadata": {
        "id": "9318475b-3b28-43a7-af58-ac15a610bb34"
      },
      "source": [
        "We can view the image:\n"
      ]
    },
    {
      "cell_type": "code",
      "execution_count": null,
      "metadata": {
        "id": "bf525053-f34f-4bbb-b151-e0b9ab87cef0"
      },
      "outputs": [],
      "source": [
        "Image.open(path)"
      ]
    },
    {
      "cell_type": "markdown",
      "metadata": {
        "id": "b35bec33-2ba2-432f-89b0-8674510823c5"
      },
      "source": [
        "<h3>Question: Download a file </h3>\n"
      ]
    },
    {
      "cell_type": "markdown",
      "metadata": {
        "id": "a7b74d98-5227-4cb5-902f-706b1f0cfedd"
      },
      "source": [
        "Consider the following URL.\n"
      ]
    },
    {
      "cell_type": "markdown",
      "metadata": {
        "id": "5b9f8669-e85a-4a36-9dcd-a2fccf562a81"
      },
      "source": [
        "<code>URL = <https://cf-courses-data.s3.us.cloud-object-storage.appdomain.cloud/IBMDeveloperSkillsNetwork-PY0101EN-SkillsNetwork/labs/Module%205/data/Example1.txt</code>\n"
      ]
    },
    {
      "cell_type": "code",
      "execution_count": 32,
      "metadata": {
        "colab": {
          "base_uri": "https://localhost:8080/"
        },
        "id": "f6efba0b-9ac1-4c89-a619-99218050572d",
        "outputId": "1b767d79-15d2-4793-d8d4-d0952da12bb1"
      },
      "outputs": [
        {
          "name": "stdout",
          "output_type": "stream",
          "text": [
            "{'Date': 'Fri, 28 Jun 2024 22:49:54 GMT', 'X-Clv-Request-Id': 'ea15446c-52bb-4d5d-b706-61e7433729ae', 'Server': 'Cleversafe', 'X-Clv-S3-Version': '2.5', 'Accept-Ranges': 'bytes', 'x-amz-request-id': 'ea15446c-52bb-4d5d-b706-61e7433729ae', 'Cache-Control': 'max-age=0,public', 'ETag': '\"522bc63a850f3569b8924c51131d5fe4\"', 'Content-Type': 'text/plain', 'Last-Modified': 'Wed, 12 Oct 2022 22:36:17 GMT', 'Content-Length': '45'}\n",
            "text/plain\n",
            "/content/example1.txt\n",
            "/content\n"
          ]
        }
      ],
      "source": [
        "\n",
        "\n",
        "URL = \"https://cf-courses-data.s3.us.cloud-object-storage.appdomain.cloud/IBMDeveloperSkillsNetwork-PY0101EN-SkillsNetwork/labs/Module%205/data/Example1.txt\"\n",
        "import requests\n",
        "import os\n",
        "response = requests.get(URL)\n",
        "if r.status_code == 200:\n",
        "    header=response.headers\n",
        "    print(header)\n",
        "    print(response.headers['Content-Type'])\n",
        "    # print(response.text[0:100])\n",
        "    if response.headers['Content-Type'] == 'text/plain':\n",
        "        path=os.path.join(os.getcwd(),'example1.txt')\n",
        "        print(path)\n",
        "        print(os.getcwd())\n",
        "        with open(path,'w') as f:\n",
        "            f.write(response.text)\n",
        "else:\n",
        "    print(\"Error\")\n",
        "\n",
        "\n",
        "\n"
      ]
    },
    {
      "cell_type": "markdown",
      "metadata": {
        "id": "451e569b-384a-42dc-b501-2d2f6c27fab1"
      },
      "source": [
        "Write the commands to download the txt file in the given link.\n"
      ]
    },
    {
      "cell_type": "code",
      "execution_count": 48,
      "metadata": {
        "colab": {
          "base_uri": "https://localhost:8080/",
          "height": 265
        },
        "id": "TyuN5oW1_3w4",
        "outputId": "49244547-a644-48c1-9ba2-f66e06328e9f"
      },
      "outputs": [
        {
          "name": "stdout",
          "output_type": "stream",
          "text": [
            "{'Date': 'Fri, 28 Jun 2024 23:27:00 GMT', 'X-Clv-Request-Id': '864e9e8a-89bf-405f-85e8-c73210a32297', 'Server': 'Cleversafe', 'X-Clv-S3-Version': '2.5', 'Accept-Ranges': 'bytes', 'x-amz-request-id': '864e9e8a-89bf-405f-85e8-c73210a32297', 'Cache-Control': 'max-age=0,public', 'ETag': '\"522bc63a850f3569b8924c51131d5fe4\"', 'Content-Type': 'text/plain', 'Last-Modified': 'Wed, 12 Oct 2022 22:36:17 GMT', 'Content-Length': '45'}\n",
            "text/plain\n"
          ]
        },
        {
          "ename": "FileNotFoundError",
          "evalue": "[Errno 2] No such file or directory: 'C:\\\\Users\\\\ranas\\\\OneDrive\\\\Documents\\\\Npower\\\\Python\\\\Code\\\\tmp/example1.txt'",
          "output_type": "error",
          "traceback": [
            "\u001b[0;31m---------------------------------------------------------------------------\u001b[0m",
            "\u001b[0;31mFileNotFoundError\u001b[0m                         Traceback (most recent call last)",
            "\u001b[0;32m<ipython-input-48-45851e5b5eb8>\u001b[0m in \u001b[0;36m<cell line: 6>\u001b[0;34m()\u001b[0m\n\u001b[1;32m     14\u001b[0m         \u001b[0;31m# path1 = r\"C:\\Users\\ranas\\OneDrive\\Documents\\Npower\\Python\\Code\\tmp\"\u001b[0m\u001b[0;34m\u001b[0m\u001b[0;34m\u001b[0m\u001b[0m\n\u001b[1;32m     15\u001b[0m         \u001b[0;31m# path = path1 + r\"\\example1.txt\"\u001b[0m\u001b[0;34m\u001b[0m\u001b[0;34m\u001b[0m\u001b[0m\n\u001b[0;32m---> 16\u001b[0;31m         \u001b[0;32mwith\u001b[0m \u001b[0mopen\u001b[0m\u001b[0;34m(\u001b[0m\u001b[0mpath\u001b[0m\u001b[0;34m,\u001b[0m\u001b[0;34m'wb'\u001b[0m\u001b[0;34m)\u001b[0m \u001b[0;32mas\u001b[0m \u001b[0mf\u001b[0m\u001b[0;34m:\u001b[0m\u001b[0;34m\u001b[0m\u001b[0;34m\u001b[0m\u001b[0m\n\u001b[0m\u001b[1;32m     17\u001b[0m             \u001b[0mf\u001b[0m\u001b[0;34m.\u001b[0m\u001b[0mwrite\u001b[0m\u001b[0;34m(\u001b[0m\u001b[0mresponse\u001b[0m\u001b[0;34m.\u001b[0m\u001b[0mtext\u001b[0m\u001b[0;34m)\u001b[0m\u001b[0;34m\u001b[0m\u001b[0;34m\u001b[0m\u001b[0m\n\u001b[1;32m     18\u001b[0m \u001b[0;32melse\u001b[0m\u001b[0;34m:\u001b[0m\u001b[0;34m\u001b[0m\u001b[0;34m\u001b[0m\u001b[0m\n",
            "\u001b[0;31mFileNotFoundError\u001b[0m: [Errno 2] No such file or directory: 'C:\\\\Users\\\\ranas\\\\OneDrive\\\\Documents\\\\Npower\\\\Python\\\\Code\\\\tmp/example1.txt'"
          ]
        }
      ],
      "source": [
        "\n",
        "\n",
        "URL = \"https://cf-courses-data.s3.us.cloud-object-storage.appdomain.cloud/IBMDeveloperSkillsNetwork-PY0101EN-SkillsNetwork/labs/Module%205/data/Example1.txt\"\n",
        "import requests\n",
        "import os\n",
        "import re\n",
        "response = requests.get(URL)\n",
        "if r.status_code == 200:\n",
        "    header=response.headers\n",
        "    print(header)\n",
        "    print(response.headers['Content-Type'])\n",
        "    # print(response.text[0:100])\n",
        "    if response.headers['Content-Type'] == 'text/plain':\n",
        "        path1 = r\"C:\\Users\\ranas\\OneDrive\\Documents\\Npower\\Python\\Code\\tmp\"\n",
        "        path = os.path.join(path1, 'example1.txt')\n",
        "        # path1 = r\"C:\\Users\\ranas\\OneDrive\\Documents\\Npower\\Python\\Code\\tmp\"\n",
        "        # path = path1 + r\"\\example1.txt\"\n",
        "        with open(path,'wb') as f:\n",
        "            f.write(response.text)\n",
        "else:\n",
        "    print(\"Error\")\n",
        "\n",
        "url='https://cf-courses-data.s3.us.cloud-object-storage.appdomain.cloud/IBMDeveloperSkillsNetwork-PY0101EN-SkillsNetwork/labs/Module%205/data/Example1.txt'\n",
        "path=os.path.join(os.getcwd(),'example1.txt')\n",
        "r=requests.get(url)\n",
        "print(path)\n",
        "print(os.getcwd())\n",
        "with open(path,'wb') as f:\n",
        "    f.write(r.content)\n",
        "\n",
        "\n",
        "\n"
      ]
    },
    {
      "cell_type": "markdown",
      "metadata": {
        "id": "35815032-b413-490d-862a-ea2137b103ea"
      },
      "source": [
        "<details><summary>Click here for the solution</summary>\n",
        "\n",
        "```python\n",
        "url='https://cf-courses-data.s3.us.cloud-object-storage.appdomain.cloud/IBMDeveloperSkillsNetwork-PY0101EN-SkillsNetwork/labs/Module%205/data/Example1.txt'\n",
        "path=os.path.join(os.getcwd(),'example1.txt')\n",
        "r=requests.get(url)\n",
        "with open(path,'wb') as f:\n",
        "    f.write(r.content)\n",
        "\n",
        "```\n",
        "\n",
        "</details>\n"
      ]
    },
    {
      "cell_type": "markdown",
      "metadata": {
        "id": "7a4901ca-120e-4077-a339-b309e073f11d"
      },
      "source": [
        "## Get Request with URL Parameters\n"
      ]
    },
    {
      "cell_type": "markdown",
      "metadata": {
        "id": "143fe3b6-e901-4f99-aa2d-27f38c8106e2"
      },
      "source": [
        "You can use the <b>GET</b> method to modify the results of your query, for example retrieving data from an API. We send a <b>GET</b> request to the  server. Like before we have the <b>Base URL</b>, in the <b>Route</b> we append <code>/get</code>, this indicates we would like to preform a <code>GET</code> request.\n"
      ]
    },
    {
      "cell_type": "markdown",
      "metadata": {
        "id": "a7ec770a-8aad-46ed-a6a5-193fd7e2ea40"
      },
      "source": [
        "The Base URL is for <code>[http://httpbin.org/](http://httpbin.org/?utm_medium=Exinfluencer&utm_source=Exinfluencer&utm_content=000026UJ&utm_term=10006555&utm_id=NA-SkillsNetwork-Channel-SkillsNetworkCoursesIBMDeveloperSkillsNetworkPY0101ENSkillsNetwork19487395-2021-01-01)</code> is a simple HTTP Request & Response Service. The <code>URL</code> in Python is given by:\n"
      ]
    },
    {
      "cell_type": "code",
      "execution_count": 59,
      "metadata": {
        "id": "7fd51ea1-8448-4eae-8fc0-3653e83a972c"
      },
      "outputs": [],
      "source": [
        "url_get='http://httpbin.org/get'"
      ]
    },
    {
      "cell_type": "markdown",
      "metadata": {
        "id": "9da75f16-2b03-45e6-9aa0-2b1e3cba0d8c"
      },
      "source": [
        "A <a href=\"https://en.wikipedia.org/wiki/Query_string?utm_medium=Exinfluencer&utm_source=Exinfluencer&utm_content=000026UJ&utm_term=10006555&utm_id=NA-SkillsNetwork-Channel-SkillsNetworkCoursesIBMDeveloperSkillsNetworkPY0101ENSkillsNetwork19487395-2021-01-01\">query string</a> is a part of a uniform resource locator (URL), this sends other information to the web server. The start of the query is a <code>?</code>, followed by a series of parameter and value pairs, as shown in the table below. The first parameter name is <code>name</code> and the value is <code>Joseph</code>. The second parameter name is <code>ID</code> and the Value is <code>123</code>. Each pair, parameter, and value is separated by an equals sign, <code>=</code>.\n",
        "The series of pairs is separated by the ampersand <code>&</code>.\n"
      ]
    },
    {
      "cell_type": "markdown",
      "metadata": {
        "id": "58511985-1a3b-4321-8129-95982e1d31f1"
      },
      "source": [
        "<div class=\"alert alert-block alert-info\" style=\"margin-top: 20px\">\n",
        "         <img src=\"https://cf-courses-data.s3.us.cloud-object-storage.appdomain.cloud/IBMDeveloperSkillsNetwork-PY0101EN-SkillsNetwork/labs/Module%205/images/query_string.png\" width=\"500\" align=\"center\">\n",
        "</div>\n"
      ]
    },
    {
      "cell_type": "markdown",
      "metadata": {
        "id": "445c5000-de55-405c-99d1-3958f87703f3"
      },
      "source": [
        "To create a Query string, add a dictionary. The keys are the parameter names and the values are the value of the Query string.\n"
      ]
    },
    {
      "cell_type": "code",
      "execution_count": 61,
      "metadata": {
        "id": "cee3d964-0e2a-42e0-9728-c2b98f74fd12"
      },
      "outputs": [],
      "source": [
        "payload={\"name\":\"Joseph\",\"ID\":\"123\"}"
      ]
    },
    {
      "cell_type": "markdown",
      "metadata": {
        "id": "41604260-a26e-445b-84fe-e35038c1d578"
      },
      "source": [
        "Then passing the dictionary <code>payload</code> to the <code>params</code> parameter of the <code> get()</code> function:\n"
      ]
    },
    {
      "cell_type": "code",
      "execution_count": 62,
      "metadata": {
        "id": "ceca4589-ea03-421d-9b3b-85232c3d97ea"
      },
      "outputs": [],
      "source": [
        "r=requests.get(url_get,params=payload)"
      ]
    },
    {
      "cell_type": "markdown",
      "metadata": {
        "id": "a47bb3a5-fe7f-407c-b6f8-48b73d47e9d0"
      },
      "source": [
        "We can print out the <code>URL</code> and see the name and values.\n"
      ]
    },
    {
      "cell_type": "code",
      "execution_count": 68,
      "metadata": {
        "colab": {
          "base_uri": "https://localhost:8080/",
          "height": 35
        },
        "id": "3fddfb1f-f367-45b5-8f5a-c6f2c8c0808a",
        "outputId": "de446077-550b-4d2f-86bf-f431e4a31c95"
      },
      "outputs": [
        {
          "data": {
            "application/vnd.google.colaboratory.intrinsic+json": {
              "type": "string"
            },
            "text/plain": [
              "'http://httpbin.org/get?name=Joseph&ID=123'"
            ]
          },
          "execution_count": 68,
          "metadata": {},
          "output_type": "execute_result"
        }
      ],
      "source": [
        "r.url"
      ]
    },
    {
      "cell_type": "markdown",
      "metadata": {
        "id": "4a48fc1b-fe17-4f2b-8151-a78a3ae6b8d5"
      },
      "source": [
        "There is no request body.\n"
      ]
    },
    {
      "cell_type": "code",
      "execution_count": 64,
      "metadata": {
        "colab": {
          "base_uri": "https://localhost:8080/"
        },
        "id": "86b74ac2-a290-4013-89d5-686a60497343",
        "outputId": "79f9ea98-a21f-4243-a746-a2a66df89130"
      },
      "outputs": [
        {
          "name": "stdout",
          "output_type": "stream",
          "text": [
            "request body: None\n"
          ]
        }
      ],
      "source": [
        "print(\"request body:\", r.request.body)"
      ]
    },
    {
      "cell_type": "markdown",
      "metadata": {
        "id": "fc1e3d0b-350f-40dc-96e6-a02ee16a0260"
      },
      "source": [
        "We can print out the status code.\n"
      ]
    },
    {
      "cell_type": "code",
      "execution_count": 65,
      "metadata": {
        "colab": {
          "base_uri": "https://localhost:8080/"
        },
        "id": "01748a08-3b4c-470f-96a3-097e1eb2ce35",
        "outputId": "ff68c89f-bcde-409e-fb6e-a05538e997be"
      },
      "outputs": [
        {
          "name": "stdout",
          "output_type": "stream",
          "text": [
            "200\n"
          ]
        }
      ],
      "source": [
        "print(r.status_code)"
      ]
    },
    {
      "cell_type": "markdown",
      "metadata": {
        "id": "e9a1d807-ffbd-4028-9e4e-629d07911843"
      },
      "source": [
        "We can view the response as text:\n"
      ]
    },
    {
      "cell_type": "code",
      "execution_count": 66,
      "metadata": {
        "colab": {
          "base_uri": "https://localhost:8080/"
        },
        "id": "9d03541b-5925-4b3d-93b4-d2275ea159d4",
        "outputId": "734d63e6-58bc-4d76-ec2b-5be75de25d72"
      },
      "outputs": [
        {
          "name": "stdout",
          "output_type": "stream",
          "text": [
            "{\n",
            "  \"args\": {\n",
            "    \"ID\": \"123\", \n",
            "    \"name\": \"Joseph\"\n",
            "  }, \n",
            "  \"headers\": {\n",
            "    \"Accept\": \"*/*\", \n",
            "    \"Accept-Encoding\": \"gzip, deflate\", \n",
            "    \"Host\": \"httpbin.org\", \n",
            "    \"User-Agent\": \"python-requests/2.31.0\", \n",
            "    \"X-Amzn-Trace-Id\": \"Root=1-667f487a-2646ec3e77872cec64470076\"\n",
            "  }, \n",
            "  \"origin\": \"34.125.198.97\", \n",
            "  \"url\": \"http://httpbin.org/get?name=Joseph&ID=123\"\n",
            "}\n",
            "\n"
          ]
        }
      ],
      "source": [
        "print(r.text)"
      ]
    },
    {
      "cell_type": "markdown",
      "metadata": {
        "id": "14baf7ab-3818-48f6-b50e-8b789ecd8586"
      },
      "source": [
        "We can look at the <code>'Content-Type'</code>.\n"
      ]
    },
    {
      "cell_type": "code",
      "execution_count": 67,
      "metadata": {
        "colab": {
          "base_uri": "https://localhost:8080/",
          "height": 35
        },
        "id": "6d8b6f93-97ea-4c9f-9e33-1b2ed935d561",
        "outputId": "256d26a6-4a66-42e1-c808-bd50ae75b7aa"
      },
      "outputs": [
        {
          "data": {
            "application/vnd.google.colaboratory.intrinsic+json": {
              "type": "string"
            },
            "text/plain": [
              "'application/json'"
            ]
          },
          "execution_count": 67,
          "metadata": {},
          "output_type": "execute_result"
        }
      ],
      "source": [
        "r.headers['Content-Type']"
      ]
    },
    {
      "cell_type": "markdown",
      "metadata": {
        "id": "3e1d33af-bdd5-4710-83a6-21554c3f20b4"
      },
      "source": [
        "As the content <code>'Content-Type'</code> is in the <code>JSON</code> format we can use the method <code>json()</code>, it returns a Python <code>dict</code>:\n"
      ]
    },
    {
      "cell_type": "code",
      "execution_count": 57,
      "metadata": {
        "colab": {
          "base_uri": "https://localhost:8080/"
        },
        "id": "23021e9b-f15d-4e86-947e-e09aea3df3dc",
        "outputId": "6d1ed978-378e-4328-9233-f2232fc0892b"
      },
      "outputs": [
        {
          "data": {
            "text/plain": [
              "{'args': {'ID': '123', 'name': 'Joseph'},\n",
              " 'headers': {'Accept': '*/*',\n",
              "  'Accept-Encoding': 'gzip, deflate',\n",
              "  'Host': 'httpbin.org',\n",
              "  'User-Agent': 'python-requests/2.31.0',\n",
              "  'X-Amzn-Trace-Id': 'Root=1-667f4702-133281e00794cde338a13164'},\n",
              " 'origin': '34.125.198.97',\n",
              " 'url': 'http://httpbin.org/get?name=Joseph&ID=123'}"
            ]
          },
          "execution_count": 57,
          "metadata": {},
          "output_type": "execute_result"
        }
      ],
      "source": [
        "r.json()"
      ]
    },
    {
      "cell_type": "markdown",
      "metadata": {
        "id": "f40bdf0f-1404-40c8-8b1c-a65a35926999"
      },
      "source": [
        "The key <code>args</code> has the name and values:\n"
      ]
    },
    {
      "cell_type": "code",
      "execution_count": 58,
      "metadata": {
        "colab": {
          "base_uri": "https://localhost:8080/"
        },
        "id": "1d9be5b0-91ee-43c4-ab9e-3f016f37a4d3",
        "outputId": "c7fd7206-ebcb-418e-b068-cd610e5e9c19"
      },
      "outputs": [
        {
          "data": {
            "text/plain": [
              "{'ID': '123', 'name': 'Joseph'}"
            ]
          },
          "execution_count": 58,
          "metadata": {},
          "output_type": "execute_result"
        }
      ],
      "source": [
        "r.json()['args']"
      ]
    },
    {
      "cell_type": "markdown",
      "metadata": {
        "id": "8e3e2ad1-09a1-4d71-842e-b3fa53510885"
      },
      "source": [
        "## Post Requests\n"
      ]
    },
    {
      "cell_type": "markdown",
      "metadata": {
        "id": "90322565-7e6f-4aa1-a812-f3302d01abc6"
      },
      "source": [
        "Like a <code>GET</code> request, a <code>POST</code> is used to send data to a server, but the <code>POST</code> request sends the data in a request body. In order to send the Post Request in Python, in the <code>URL</code> we change the route to <code>POST</code>:\n"
      ]
    },
    {
      "cell_type": "code",
      "execution_count": 69,
      "metadata": {
        "id": "bc1fd34c-fa49-48b6-81d5-206d63f65034"
      },
      "outputs": [],
      "source": [
        "url_post='http://httpbin.org/post'"
      ]
    },
    {
      "cell_type": "markdown",
      "metadata": {
        "id": "3a333e7c-c723-4cf0-a391-f46188f1c7b9"
      },
      "source": [
        "This endpoint will expect data as a file or as a form. A form is convenient way to configure an HTTP request to send data to a server.\n"
      ]
    },
    {
      "cell_type": "markdown",
      "metadata": {
        "id": "1b9c1eb8-f59b-475d-a4ce-286fb8f48419"
      },
      "source": [
        "To make a <code>POST</code> request we use the <code>post()</code> function, the variable <code>payload</code> is passed to the parameter <code> data </code>:\n"
      ]
    },
    {
      "cell_type": "code",
      "execution_count": 70,
      "metadata": {
        "id": "61b1b28c-7b11-4e08-8e7a-d3f26dd27628"
      },
      "outputs": [],
      "source": [
        "r_post=requests.post(url_post,data=payload)"
      ]
    },
    {
      "cell_type": "markdown",
      "metadata": {
        "id": "e2b78314-903b-45f9-9e3c-8da5d2f546fb"
      },
      "source": [
        "Comparing the URL from the response object of the <code>GET</code> and <code>POST</code> request we see the <code>POST</code> request has no name or value pairs.\n"
      ]
    },
    {
      "cell_type": "code",
      "execution_count": 71,
      "metadata": {
        "colab": {
          "base_uri": "https://localhost:8080/"
        },
        "id": "f589b139-90f3-40dd-990d-473200d940e0",
        "outputId": "ab150cf3-caf0-4b68-cdb6-5a52c2768a11"
      },
      "outputs": [
        {
          "name": "stdout",
          "output_type": "stream",
          "text": [
            "POST request URL: http://httpbin.org/post\n",
            "GET request URL: http://httpbin.org/get?name=Joseph&ID=123\n"
          ]
        }
      ],
      "source": [
        "print(\"POST request URL:\",r_post.url )\n",
        "print(\"GET request URL:\",r.url)"
      ]
    },
    {
      "cell_type": "markdown",
      "metadata": {
        "id": "f606f64c-3351-4ad2-be85-ef36d248374e"
      },
      "source": [
        "We can compare the <code>POST</code> and <code>GET</code> request body, we see only the <code>POST</code> request has a body:\n"
      ]
    },
    {
      "cell_type": "code",
      "execution_count": 72,
      "metadata": {
        "colab": {
          "base_uri": "https://localhost:8080/"
        },
        "id": "191b4973-c7da-4d76-9e69-4dcd4db40e79",
        "outputId": "f3e68868-01f0-4549-953f-9bcbf239c84c"
      },
      "outputs": [
        {
          "name": "stdout",
          "output_type": "stream",
          "text": [
            "POST request body: name=Joseph&ID=123\n",
            "GET request body: None\n"
          ]
        }
      ],
      "source": [
        "print(\"POST request body:\",r_post.request.body)\n",
        "print(\"GET request body:\",r.request.body)"
      ]
    },
    {
      "cell_type": "markdown",
      "metadata": {
        "id": "5593d7e8-7fa1-49fd-a539-345db8723ef7"
      },
      "source": [
        "We can view the form as well:\n"
      ]
    },
    {
      "cell_type": "code",
      "execution_count": 73,
      "metadata": {
        "colab": {
          "base_uri": "https://localhost:8080/"
        },
        "id": "992c108e-c20a-4378-a5ed-ca5a595a8404",
        "outputId": "1cdc0e98-cf92-4531-fc65-beea55e2ba11"
      },
      "outputs": [
        {
          "data": {
            "text/plain": [
              "{'ID': '123', 'name': 'Joseph'}"
            ]
          },
          "execution_count": 73,
          "metadata": {},
          "output_type": "execute_result"
        }
      ],
      "source": [
        "r_post.json()['form']"
      ]
    },
    {
      "cell_type": "markdown",
      "metadata": {
        "id": "cd28fa57-20ad-44d3-b2d6-7d14be66dde2"
      },
      "source": [
        "There is a lot more you can do. Check out <a href=\"https://requests.readthedocs.io/en/master/?utm_medium=Exinfluencer&utm_source=Exinfluencer&utm_content=000026UJ&utm_term=10006555&utm_id=NA-SkillsNetwork-Channel-SkillsNetworkCoursesIBMDeveloperSkillsNetworkPY0101ENSkillsNetwork19487395-2021-01-01\">Requests </a> for more.\n"
      ]
    },
    {
      "cell_type": "markdown",
      "metadata": {
        "id": "48d5602c-78c1-4ebf-b977-40f30c2ff819"
      },
      "source": [
        "<hr>\n"
      ]
    },
    {
      "cell_type": "markdown",
      "metadata": {
        "id": "1311b484-a05b-49c6-a163-68ad225086d0"
      },
      "source": [
        "## Authors\n",
        "\n",
        "<p><a href=\"https://www.linkedin.com/in/joseph-s-50398b136/?utm_medium=Exinfluencer&utm_source=Exinfluencer&utm_content=000026UJ&utm_term=10006555&utm_id=NA-SkillsNetwork-Channel-SkillsNetworkCoursesIBMDeveloperSkillsNetworkPY0101ENSkillsNetwork19487395-2021-01-01\" target=\"_blank\">Joseph Santarcangelo</a> <br>A Data Scientist at IBM, and holds a PhD in Electrical Engineering. His research focused on using Machine Learning, Signal Processing, and Computer Vision to determine how videos impact human cognition. Joseph has been working for IBM since he completed his PhD.</p>\n"
      ]
    },
    {
      "cell_type": "markdown",
      "metadata": {
        "id": "2317650b-84a1-425a-9f1d-1f467d1a10d9"
      },
      "source": [
        "### Other Contributors\n",
        "\n",
        "<a href=\"https://www.linkedin.com/in/jiahui-mavis-zhou-a4537814a?utm_medium=Exinfluencer&utm_source=Exinfluencer&utm_content=000026UJ&utm_term=10006555&utm_id=NA-SkillsNetwork-Channel-SkillsNetworkCoursesIBMDeveloperSkillsNetworkPY0101ENSkillsNetwork19487395-2021-01-01\">Mavis Zhou</a>\n"
      ]
    },
    {
      "cell_type": "markdown",
      "metadata": {
        "id": "89e20d86-4248-4f2e-ad07-edc85bb69ff9"
      },
      "source": [
        "## Change Log\n",
        "\n",
        "| Date (YYYY-MM-DD) | Version | Changed By | Change Description           |\n",
        "| ----------------- | ------- | ---------- | ---------------------------- |\n",
        "| 2023-11-02 | 2.4 | Abhishek Gagneja | Updated instructions |\n",
        "| 2023-06-07        | 2.3     |Akansha Yadav| Spell Check                 |\n",
        "| 2021-12-20        | 2.1     | Malika     | Updated the links            |\n",
        "| 2020-09-02        | 2.0     | Simran     | Template updates to the file |\n",
        "|                   |         |            |                              |\n",
        "|                   |         |            |                              |\n",
        "\n",
        "## <h3 align=\"center\"> © IBM Corporation 2023. All rights reserved. <h3/>\n"
      ]
    },
    {
      "cell_type": "code",
      "execution_count": null,
      "metadata": {
        "id": "34eaeb57-7b25-4454-a6e1-f85d21231231"
      },
      "outputs": [],
      "source": []
    }
  ],
  "metadata": {
    "colab": {
      "provenance": []
    },
    "kernelspec": {
      "display_name": "Python 3",
      "language": "python",
      "name": "python3"
    },
    "language_info": {
      "codemirror_mode": {
        "name": "ipython",
        "version": 3
      },
      "file_extension": ".py",
      "mimetype": "text/x-python",
      "name": "python",
      "nbconvert_exporter": "python",
      "pygments_lexer": "ipython3",
      "version": "3.12.2"
    },
    "prev_pub_hash": "f8656eccf63ec8124b5c29d5e218184808a02a24089258c726c4d9455f963111"
  },
  "nbformat": 4,
  "nbformat_minor": 0
}
