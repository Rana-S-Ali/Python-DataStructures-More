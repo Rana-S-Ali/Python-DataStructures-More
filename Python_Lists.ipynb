{
  "nbformat": 4,
  "nbformat_minor": 0,
  "metadata": {
    "colab": {
      "provenance": []
    },
    "kernelspec": {
      "name": "python3",
      "display_name": "Python 3"
    },
    "language_info": {
      "name": "python"
    }
  },
  "cells": [
    {
      "cell_type": "code",
      "source": [
        "fruits = [\"apple\", \"banana\", \"orange\"]\n",
        "fruits.append(\"mango\")\n",
        "print(fruits)"
      ],
      "metadata": {
        "colab": {
          "base_uri": "https://localhost:8080/"
        },
        "id": "6nRwqKj7N2QU",
        "outputId": "b62e3ba2-24fe-4322-c387-1be876aab07a"
      },
      "execution_count": 2,
      "outputs": [
        {
          "output_type": "stream",
          "name": "stdout",
          "text": [
            "['apple', 'banana', 'orange', 'mango']\n"
          ]
        }
      ]
    },
    {
      "cell_type": "code",
      "source": [
        "my_list = [1, 2, 3, 4, 5]\n",
        "new_list = my_list.copy()\n",
        "print(new_list)\n",
        "# Output: [1, 2, 3, 4, 5]"
      ],
      "metadata": {
        "colab": {
          "base_uri": "https://localhost:8080/"
        },
        "id": "iN_hEbqzOBDt",
        "outputId": "94383619-c009-4164-8cbd-39054dace576"
      },
      "execution_count": 4,
      "outputs": [
        {
          "output_type": "stream",
          "name": "stdout",
          "text": [
            "[1, 2, 3, 4, 5]\n"
          ]
        }
      ]
    },
    {
      "cell_type": "code",
      "source": [
        "my_list = [1, 2, 2, 3, 4, 2, 5, 2]\n",
        "count = my_list.count(2)\n",
        "print(count)\n",
        "# Output: 4"
      ],
      "metadata": {
        "colab": {
          "base_uri": "https://localhost:8080/"
        },
        "id": "f7FKDTPEOTs9",
        "outputId": "48212688-0092-4a7a-afb1-b3cb90158a6e"
      },
      "execution_count": 5,
      "outputs": [
        {
          "output_type": "stream",
          "name": "stdout",
          "text": [
            "4\n"
          ]
        }
      ]
    },
    {
      "cell_type": "code",
      "source": [
        "my_list = [10, 20, 30, 40, 50]\n",
        "del my_list[2] # Removes the element at index 2\n",
        "print(my_list) # Output: [10, 20, 40, 50]"
      ],
      "metadata": {
        "colab": {
          "base_uri": "https://localhost:8080/"
        },
        "id": "_jEMedSAOiwf",
        "outputId": "60bce208-d778-4d75-aa4b-a6ad7481dad0"
      },
      "execution_count": 8,
      "outputs": [
        {
          "output_type": "stream",
          "name": "stdout",
          "text": [
            "[10, 20, 40, 50]\n"
          ]
        }
      ]
    },
    {
      "cell_type": "code",
      "source": [
        "fruits = [\"apple\", \"banana\", \"orange\"]\n",
        "more_fruits = [\"mango\", \"grape\"]\n",
        "fruits.extend(more_fruits)\n",
        "print(fruits)"
      ],
      "metadata": {
        "colab": {
          "base_uri": "https://localhost:8080/"
        },
        "id": "a-yO-DP-PMAP",
        "outputId": "88aae1d3-791b-4c45-8a9b-f368978c9bfc"
      },
      "execution_count": 9,
      "outputs": [
        {
          "output_type": "stream",
          "name": "stdout",
          "text": [
            "['apple', 'banana', 'orange', 'mango', 'grape']\n"
          ]
        }
      ]
    },
    {
      "cell_type": "code",
      "source": [
        "my_list = [10, 20, 30, 40, 50]\n",
        "print(my_list[0])\n",
        "# Output: 10 (accessing the first element)\n",
        "print(my_list[-1])\n",
        "# Output: 50 (accessing the last element using negative indexing)"
      ],
      "metadata": {
        "colab": {
          "base_uri": "https://localhost:8080/"
        },
        "id": "hXf0x1e9POxV",
        "outputId": "5fce5f86-90ee-421a-e1a5-ed5871b5528e"
      },
      "execution_count": 11,
      "outputs": [
        {
          "output_type": "stream",
          "name": "stdout",
          "text": [
            "10\n",
            "50\n"
          ]
        }
      ]
    },
    {
      "cell_type": "code",
      "source": [
        "my_list = [1, 2, 3, 4, 5]\n",
        "my_list.insert(2, 6)  # list_name.insert(index, element)\n",
        "print(my_list)"
      ],
      "metadata": {
        "colab": {
          "base_uri": "https://localhost:8080/"
        },
        "id": "a01VP8-6P4st",
        "outputId": "905cfeb1-574d-4d2c-81c5-8e5bf26518db"
      },
      "execution_count": 12,
      "outputs": [
        {
          "output_type": "stream",
          "name": "stdout",
          "text": [
            "[1, 2, 6, 3, 4, 5]\n"
          ]
        }
      ]
    },
    {
      "cell_type": "code",
      "source": [
        "my_list = [10, 20, 30, 40, 50]\n",
        "my_list[1] = 25 # Modifying the second element\n",
        "print(my_list) # Output: [10, 25, 30, 40, 50]"
      ],
      "metadata": {
        "colab": {
          "base_uri": "https://localhost:8080/"
        },
        "id": "pwdRjnUvQNSf",
        "outputId": "bbed74b1-2844-4be3-873a-a3c03ba9b80a"
      },
      "execution_count": 13,
      "outputs": [
        {
          "output_type": "stream",
          "name": "stdout",
          "text": [
            "[10, 25, 30, 40, 50]\n"
          ]
        }
      ]
    },
    {
      "cell_type": "code",
      "source": [
        "my_list = [10, 20, 30, 40, 50]\n",
        "removed_element = my_list.pop(2) # Removes and returns the element at index 2\n",
        "print(removed_element) # Output: 30\n",
        "print(my_list) # Output: [10, 20, 40, 50]"
      ],
      "metadata": {
        "colab": {
          "base_uri": "https://localhost:8080/"
        },
        "id": "YRo1PP1uQcK2",
        "outputId": "bf520320-f845-4c02-a1f9-46351967cb4d"
      },
      "execution_count": 14,
      "outputs": [
        {
          "output_type": "stream",
          "name": "stdout",
          "text": [
            "30\n",
            "[10, 20, 40, 50]\n"
          ]
        }
      ]
    },
    {
      "cell_type": "code",
      "source": [
        "my_list = [10, 20, 30, 40, 50]\n",
        "removed_element = my_list.pop() # Removes and returns the last element\n",
        "print(removed_element) # Output: 50\n",
        "print(my_list) # Output: [10, 20, 30, 40]"
      ],
      "metadata": {
        "colab": {
          "base_uri": "https://localhost:8080/"
        },
        "id": "WTF4U9BIQpDI",
        "outputId": "720ca017-b1c9-40e4-d045-6d8a4861b63d"
      },
      "execution_count": 15,
      "outputs": [
        {
          "output_type": "stream",
          "name": "stdout",
          "text": [
            "50\n",
            "[10, 20, 30, 40]\n"
          ]
        }
      ]
    },
    {
      "cell_type": "code",
      "source": [
        "my_list = [10, 20, 30, 40, 50]\n",
        "my_list.remove(30) # Removes the element 30\n",
        "print(my_list) # Output: [10, 20, 40, 50]"
      ],
      "metadata": {
        "colab": {
          "base_uri": "https://localhost:8080/"
        },
        "id": "Gf6E5UxsQ6w5",
        "outputId": "791ea86c-05cd-4f7f-89dc-164d229e3e74"
      },
      "execution_count": 16,
      "outputs": [
        {
          "output_type": "stream",
          "name": "stdout",
          "text": [
            "[10, 20, 40, 50]\n"
          ]
        }
      ]
    },
    {
      "cell_type": "code",
      "source": [
        "my_list = [1, 2, 3, 4, 5]\n",
        "my_list.reverse()\n",
        "print(my_list) # Output: [5, 4, 3, 2, 1]"
      ],
      "metadata": {
        "colab": {
          "base_uri": "https://localhost:8080/"
        },
        "id": "YUU40dimQ_T8",
        "outputId": "5cfa0bc4-56c9-434d-ba01-0ccea144a7da"
      },
      "execution_count": 17,
      "outputs": [
        {
          "output_type": "stream",
          "name": "stdout",
          "text": [
            "[5, 4, 3, 2, 1]\n"
          ]
        }
      ]
    },
    {
      "cell_type": "code",
      "source": [
        "my_list = [1, 2, 3, 4, 5]\n",
        "print(my_list[1:4]) # Output: [2, 3, 4] (elements from index 1 to 3)\n",
        "print(my_list[:3]) # Output: [1, 2, 3] (elements from the beginning up to index 2)\n",
        "print(my_list[2:]) # Output: [3, 4, 5] (elements from index 2 to the end)\n",
        "print(my_list[::2]) # Output: [1, 3, 5] (every second element)"
      ],
      "metadata": {
        "colab": {
          "base_uri": "https://localhost:8080/"
        },
        "id": "DmR7QWZ8RJq8",
        "outputId": "d093de87-2771-484d-a0f6-ee6ffbaf2f6f"
      },
      "execution_count": 18,
      "outputs": [
        {
          "output_type": "stream",
          "name": "stdout",
          "text": [
            "[2, 3, 4]\n",
            "[1, 2, 3]\n",
            "[3, 4, 5]\n",
            "[1, 3, 5]\n"
          ]
        }
      ]
    },
    {
      "cell_type": "code",
      "source": [
        "my_list = [5, 2, 8, 1, 9]\n",
        "my_list.sort()\n",
        "print(my_list) # Output: [1, 2, 5, 8, 9]"
      ],
      "metadata": {
        "colab": {
          "base_uri": "https://localhost:8080/"
        },
        "id": "UwyWt-XTRauD",
        "outputId": "268c3b77-d831-4084-c01b-2f263fbb9e40"
      },
      "execution_count": 19,
      "outputs": [
        {
          "output_type": "stream",
          "name": "stdout",
          "text": [
            "[1, 2, 5, 8, 9]\n"
          ]
        }
      ]
    },
    {
      "cell_type": "code",
      "source": [
        "my_list = [5, 2, 8, 1, 9]\n",
        "my_list.sort(reverse=True)\n",
        "print(my_list) # Output: [9, 8, 5, 2, 1]"
      ],
      "metadata": {
        "colab": {
          "base_uri": "https://localhost:8080/"
        },
        "id": "G6sefAH3RkdM",
        "outputId": "2c4c39c4-c156-4bda-8338-6b5c43f0d516"
      },
      "execution_count": 20,
      "outputs": [
        {
          "output_type": "stream",
          "name": "stdout",
          "text": [
            "[9, 8, 5, 2, 1]\n"
          ]
        }
      ]
    },
    {
      "cell_type": "code",
      "source": [
        "L = [ \"Michael Jacfson\", 10.2]\n",
        "L.extend(['pop', 10])\n",
        "print(L)"
      ],
      "metadata": {
        "colab": {
          "base_uri": "https://localhost:8080/"
        },
        "id": "A6ReLOV6RwIS",
        "outputId": "2cefece3-d8b5-4174-de25-9a88398ec860"
      },
      "execution_count": 21,
      "outputs": [
        {
          "output_type": "stream",
          "name": "stdout",
          "text": [
            "['Michael Jacfson', 10.2, 'pop', 10]\n"
          ]
        }
      ]
    },
    {
      "cell_type": "code",
      "source": [
        "L1 = [ \"Michael Jacfson\", 10.2]\n",
        "L1.append(['pop', 10])\n",
        "print(L1)"
      ],
      "metadata": {
        "colab": {
          "base_uri": "https://localhost:8080/"
        },
        "id": "ivOcGxKITDXP",
        "outputId": "e663bc51-e684-4862-95e0-516096e7434a"
      },
      "execution_count": 22,
      "outputs": [
        {
          "output_type": "stream",
          "name": "stdout",
          "text": [
            "['Michael Jackson', 10.2, ['pop', 10]]\n"
          ]
        }
      ]
    },
    {
      "cell_type": "code",
      "source": [
        "# Change the element based on the index\n",
        "\n",
        "A = [\"sisco\", 10, 1.2]\n",
        "print('Before change:', A)\n",
        "A[0] = 'A rock'\n",
        "print('After change:', A)\n",
        "############\n",
        "print('Before del:', A)\n",
        "del(A[0])\n",
        "print('After del:', A)"
      ],
      "metadata": {
        "colab": {
          "base_uri": "https://localhost:8080/"
        },
        "id": "-IK3DXqyTobp",
        "outputId": "0198c65d-b5f6-479d-edac-b64f74c4862a"
      },
      "execution_count": 24,
      "outputs": [
        {
          "output_type": "stream",
          "name": "stdout",
          "text": [
            "Before change: ['sisco', 10, 1.2]\n",
            "After change: ['A rock', 10, 1.2]\n",
            "Before del: ['A rock', 10, 1.2]\n",
            "After del: [10, 1.2]\n"
          ]
        }
      ]
    },
    {
      "cell_type": "code",
      "source": [
        "# Split the string, default is by space\n",
        "\n",
        "L2='nice rock'.split()\n",
        "print(L2)"
      ],
      "metadata": {
        "colab": {
          "base_uri": "https://localhost:8080/"
        },
        "id": "dJ9rXgY5TxgO",
        "outputId": "229bf243-cc07-4bce-aa71-51eecd3e8cb5"
      },
      "execution_count": 25,
      "outputs": [
        {
          "output_type": "stream",
          "name": "stdout",
          "text": [
            "['nice', 'rock']\n"
          ]
        }
      ]
    },
    {
      "cell_type": "code",
      "source": [
        "# Split the string by comma\n",
        "\n",
        "LL='A,B,C,D'.split(',')\n",
        "print(LL)"
      ],
      "metadata": {
        "colab": {
          "base_uri": "https://localhost:8080/"
        },
        "id": "uzmV5LQzUKZ-",
        "outputId": "21ad0742-1307-47bb-bc00-d0d50c13a78b"
      },
      "execution_count": 26,
      "outputs": [
        {
          "output_type": "stream",
          "name": "stdout",
          "text": [
            "['A', 'B', 'C', 'D']\n"
          ]
        }
      ]
    },
    {
      "cell_type": "markdown",
      "source": [],
      "metadata": {
        "id": "HC099h2AUEVZ"
      }
    },
    {
      "cell_type": "code",
      "source": [
        "# Copy (copy by reference) the list A\n",
        "\n",
        "A = [\"hard rock\", 10, 1.2]\n",
        "B = A\n",
        "C = A[:]\n",
        "print('A:', A)\n",
        "print('B:', B)\n",
        "print('C:', C)\n",
        "print('A is B?', A is B)\n",
        "\n",
        "A[0] = 'banana'\n",
        "print('A:', A)\n",
        "print('B:', B)\n",
        "print('C:', C)"
      ],
      "metadata": {
        "colab": {
          "base_uri": "https://localhost:8080/"
        },
        "id": "WYgRG5n4Uhdz",
        "outputId": "2ffbb7a8-1775-4d47-cd5c-fd28852725c1"
      },
      "execution_count": 31,
      "outputs": [
        {
          "output_type": "stream",
          "name": "stdout",
          "text": [
            "A: ['hard rock', 10, 1.2]\n",
            "B: ['hard rock', 10, 1.2]\n",
            "C: ['hard rock', 10, 1.2]\n",
            "A is B? True\n",
            "A: ['banana', 10, 1.2]\n",
            "B: ['banana', 10, 1.2]\n",
            "C: ['hard rock', 10, 1.2]\n"
          ]
        }
      ]
    },
    {
      "cell_type": "code",
      "source": [
        "a_list=[1, \"hello\", [1,2,3], True]\n",
        "print(a_list[1])\n",
        "print(a_list[1:4])"
      ],
      "metadata": {
        "colab": {
          "base_uri": "https://localhost:8080/"
        },
        "id": "-E0K-o5FVs0-",
        "outputId": "2e569a1a-136a-435f-e1be-75baacb1ee4e"
      },
      "execution_count": 32,
      "outputs": [
        {
          "output_type": "stream",
          "name": "stdout",
          "text": [
            "hello\n",
            "['hello', [1, 2, 3], True]\n"
          ]
        }
      ]
    },
    {
      "cell_type": "code",
      "source": [
        "A = [1, 'a']\n",
        "B = [2, 1, 'd']\n",
        "A = A + B\n",
        "print(A)"
      ],
      "metadata": {
        "colab": {
          "base_uri": "https://localhost:8080/"
        },
        "id": "loBqcvctWhcA",
        "outputId": "4d26703a-1c84-47c8-a6ff-3e712f6f1934"
      },
      "execution_count": 36,
      "outputs": [
        {
          "output_type": "stream",
          "name": "stdout",
          "text": [
            "[1, 'a', 2, 1, 'd']\n"
          ]
        }
      ]
    },
    {
      "cell_type": "code",
      "source": [
        "Shopping_list=[]\n",
        "# store the number of items to the shopping_list: Watch, Laptop, Shoes, Pen, Clothes\n",
        "Shopping_list.extend(['Watch', 'Laptop', 'Shoes', 'Pen', 'Clothes'])\n",
        "print(Shopping_list)\n",
        "# Another way\n",
        "#Shopping_list.append('Watch')\n",
        "#Shopping_list.append('Laptop')\n",
        "#Shopping_list.append('Shoes')\n",
        "#Shopping_list.append('Pen')\n",
        "#Shopping_list.append('Clothes')\n",
        "Shopping_list.append(\"Football\")\n",
        "print(Shopping_list[0])\n",
        "print(Shopping_list[-1])\n",
        "print(Shopping_list)\n",
        "print(Shopping_list[1:3])\n",
        "Shopping_list[3] = \"Notebook\"\n",
        "print(Shopping_list)\n",
        "del (Shopping_list[4]) # delete clothes\n",
        "print(Shopping_list)"
      ],
      "metadata": {
        "colab": {
          "base_uri": "https://localhost:8080/"
        },
        "id": "YcGzrJY2XoV9",
        "outputId": "feb4cdf7-992c-413c-a435-3bee15005bfb"
      },
      "execution_count": 41,
      "outputs": [
        {
          "output_type": "stream",
          "name": "stdout",
          "text": [
            "['Watch', 'Laptop', 'Shoes', 'Pen', 'Clothes']\n",
            "Watch\n",
            "Football\n",
            "['Watch', 'Laptop', 'Shoes', 'Pen', 'Clothes', 'Football']\n",
            "['Laptop', 'Shoes']\n",
            "['Watch', 'Laptop', 'Shoes', 'Notebook', 'Clothes', 'Football']\n",
            "['Watch', 'Laptop', 'Shoes', 'Notebook', 'Football']\n"
          ]
        }
      ]
    },
    {
      "cell_type": "code",
      "source": [],
      "metadata": {
        "colab": {
          "base_uri": "https://localhost:8080/",
          "height": 158
        },
        "id": "-lZM7-c5ZanM",
        "outputId": "36d3e40d-c176-4f36-a5b3-92144b0652fe"
      },
      "execution_count": 39,
      "outputs": [
        {
          "output_type": "error",
          "ename": "NameError",
          "evalue": "name 'shopping_list' is not defined",
          "traceback": [
            "\u001b[0;31m---------------------------------------------------------------------------\u001b[0m",
            "\u001b[0;31mNameError\u001b[0m                                 Traceback (most recent call last)",
            "\u001b[0;32m<ipython-input-39-cba16bfc55c1>\u001b[0m in \u001b[0;36m<cell line: 1>\u001b[0;34m()\u001b[0m\n\u001b[0;32m----> 1\u001b[0;31m \u001b[0;32mdel\u001b[0m \u001b[0;34m(\u001b[0m\u001b[0mshopping_list\u001b[0m\u001b[0;34m[\u001b[0m\u001b[0;36m4\u001b[0m\u001b[0;34m]\u001b[0m\u001b[0;34m)\u001b[0m \u001b[0;31m# delete clothes\u001b[0m\u001b[0;34m\u001b[0m\u001b[0;34m\u001b[0m\u001b[0m\n\u001b[0m\u001b[1;32m      2\u001b[0m \u001b[0mprint\u001b[0m\u001b[0;34m(\u001b[0m\u001b[0mshopping_list\u001b[0m\u001b[0;34m)\u001b[0m\u001b[0;34m\u001b[0m\u001b[0;34m\u001b[0m\u001b[0m\n",
            "\u001b[0;31mNameError\u001b[0m: name 'shopping_list' is not defined"
          ]
        }
      ]
    }
  ]
}