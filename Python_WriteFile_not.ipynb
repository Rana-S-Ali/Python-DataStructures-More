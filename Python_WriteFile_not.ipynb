{
  "metadata": {
    "kernelspec": {
      "name": "python",
      "display_name": "Python (Pyodide)",
      "language": "python"
    },
    "language_info": {
      "codemirror_mode": {
        "name": "python",
        "version": 3
      },
      "file_extension": ".py",
      "mimetype": "text/x-python",
      "name": "python",
      "nbconvert_exporter": "python",
      "pygments_lexer": "ipython3",
      "version": "3.8"
    },
    "colab": {
      "provenance": []
    }
  },
  "nbformat_minor": 0,
  "nbformat": 4,
  "cells": [
    {
      "cell_type": "markdown",
      "source": [
        "<p style=\"text-align:center\">\n",
        "    <a href=\"https://skills.network\" target=\"_blank\">\n",
        "    <img src=\"https://cf-courses-data.s3.us.cloud-object-storage.appdomain.cloud/assets/logos/SN_web_lightmode.png\" width=\"200\" alt=\"Skills Network Logo\">\n",
        "    </a>\n",
        "</p>\n",
        "\n",
        "\n",
        "# Write and Save Files in Python\n",
        "\n",
        "\n",
        "Estimated time needed: **30** minutes\n",
        "    \n",
        "\n",
        "## Objectives\n",
        "\n",
        "After completing this lab you will be able to:\n",
        "\n",
        "* Write to files using Python libraries\n"
      ],
      "metadata": {
        "id": "DXzAjV9UyChS"
      }
    },
    {
      "cell_type": "markdown",
      "source": [
        "<h2>Table of Contents</h2>\n",
        "<div class=\"alert alert-block alert-info\" style=\"margin-top: 20px\">\n",
        "    <ul>\n",
        "        <li><a href=\"#Writing-Files\">Writing Files</a></li>\n",
        "        <li><a href=\"#Appending-Files\">Appending Files</a></li>\n",
        "        <li><a href=\"#Additional-File-modes\">Additional File modes</a></li>\n",
        "        <li><a href=\"#Copy-a-File\">Copy a File</a></li>\n",
        "    </ul>\n",
        "\n",
        "</div>\n",
        "\n",
        "<hr>\n"
      ],
      "metadata": {
        "id": "DopU4CPZyChU"
      }
    },
    {
      "cell_type": "markdown",
      "source": [
        "## Writing Files\n"
      ],
      "metadata": {
        "id": "EnuuNC5VyChV"
      }
    },
    {
      "cell_type": "markdown",
      "source": [
        " We can open a file object using the method <code>write()</code> to save the text file to a list. To write to a file, the mode argument must be set to **w**. Let’s write a file **Example2.txt** with the line: **“This is line A”**\n"
      ],
      "metadata": {
        "id": "opLguhlPyChV"
      }
    },
    {
      "cell_type": "code",
      "source": [
        "# Write line to file\n",
        "exmp2 = '/Example2.txt'\n",
        "with open(exmp2, 'w') as writefile:\n",
        "    writefile.write(\"This is line A\")"
      ],
      "metadata": {
        "id": "0DS2gc6ZyChV"
      },
      "outputs": [],
      "execution_count": 1
    },
    {
      "cell_type": "markdown",
      "source": [
        " We can read the file to see if it worked:\n"
      ],
      "metadata": {
        "id": "pMvyIFh8yChW"
      }
    },
    {
      "cell_type": "code",
      "source": [
        "# Read file\n",
        "\n",
        "with open(exmp2, 'r') as testwritefile:\n",
        "    print(testwritefile.read())"
      ],
      "metadata": {
        "colab": {
          "base_uri": "https://localhost:8080/"
        },
        "id": "9YZ4Q0qAyChW",
        "outputId": "cb04de14-24f1-47cc-92dc-1b442d6b97a7"
      },
      "outputs": [
        {
          "output_type": "stream",
          "name": "stdout",
          "text": [
            "This is line A\n"
          ]
        }
      ],
      "execution_count": 2
    },
    {
      "cell_type": "markdown",
      "source": [
        "We can write multiple lines:\n"
      ],
      "metadata": {
        "id": "I9YYMXoyyChW"
      }
    },
    {
      "cell_type": "code",
      "source": [
        "# Write lines to file\n",
        "\n",
        "with open(exmp2, 'w') as writefile:\n",
        "    writefile.write(\"This is line A\\n\")\n",
        "    writefile.write(\"This is line B\\n\")"
      ],
      "metadata": {
        "id": "fsDAexw1yChW"
      },
      "outputs": [],
      "execution_count": 4
    },
    {
      "cell_type": "markdown",
      "source": [
        "The method <code>.write()</code> works similar to the method <code>.readline()</code>, except instead of reading a new line it writes a new line. The process is illustrated in the figure. The different colour coding of the grid represents a new line added to the file after each method call.\n"
      ],
      "metadata": {
        "id": "f6I1-yPKyChW"
      }
    },
    {
      "cell_type": "markdown",
      "source": [
        "<img src=\"https://cf-courses-data.s3.us.cloud-object-storage.appdomain.cloud/IBMDeveloperSkillsNetwork-PY0101EN-SkillsNetwork/labs/Module%204/images/WriteLine.png\" width=\"500\">\n"
      ],
      "metadata": {
        "id": "0UUwxKklyChW"
      }
    },
    {
      "cell_type": "markdown",
      "source": [
        "You can check the file to see if your results are correct\n"
      ],
      "metadata": {
        "id": "8yGVKHYSyChX"
      }
    },
    {
      "cell_type": "code",
      "source": [
        "# Check whether write to file\n",
        "\n",
        "with open(exmp2, 'r') as testwritefile:\n",
        "    print(testwritefile.read())"
      ],
      "metadata": {
        "colab": {
          "base_uri": "https://localhost:8080/"
        },
        "id": "97NqVS1byChX",
        "outputId": "a1b58e6d-7358-4bef-9ca9-56b1ed545e6a"
      },
      "outputs": [
        {
          "output_type": "stream",
          "name": "stdout",
          "text": [
            "This is line A\n",
            "This is line B\n",
            "\n"
          ]
        }
      ],
      "execution_count": 5
    },
    {
      "cell_type": "markdown",
      "source": [
        " We write a list to a **.txt** file  as follows:\n"
      ],
      "metadata": {
        "id": "pPNlaStPyChX"
      }
    },
    {
      "cell_type": "code",
      "source": [
        "# Sample list of text\n",
        "\n",
        "Lines = [\"This is line A\\n\", \"This is line B\\n\", \"This is line C\\n\"]\n",
        "Lines"
      ],
      "metadata": {
        "colab": {
          "base_uri": "https://localhost:8080/"
        },
        "id": "i0lsP7wfyChX",
        "outputId": "d640daed-393f-41dc-9911-df4988743d46"
      },
      "outputs": [
        {
          "output_type": "execute_result",
          "data": {
            "text/plain": [
              "['This is line A\\n', 'This is line B\\n', 'This is line C\\n']"
            ]
          },
          "metadata": {},
          "execution_count": 6
        }
      ],
      "execution_count": 6
    },
    {
      "cell_type": "code",
      "source": [
        "# Write the strings in the list to text file\n",
        "\n",
        "with open('/Example2.txt', 'w') as writefile:\n",
        "    for line in Lines:\n",
        "        print(line)\n",
        "        writefile.write(line)"
      ],
      "metadata": {
        "colab": {
          "base_uri": "https://localhost:8080/"
        },
        "id": "sgdXpNCqyChX",
        "outputId": "194d7a06-aac2-4dba-9572-66250b930231"
      },
      "outputs": [
        {
          "output_type": "stream",
          "name": "stdout",
          "text": [
            "This is line A\n",
            "\n",
            "This is line B\n",
            "\n",
            "This is line C\n",
            "\n"
          ]
        }
      ],
      "execution_count": 7
    },
    {
      "cell_type": "markdown",
      "source": [
        " We can verify the file is written by reading it and printing out the values:  \n"
      ],
      "metadata": {
        "id": "guOAkinpyChY"
      }
    },
    {
      "cell_type": "code",
      "source": [
        "# Verify if writing to file is successfully executed\n",
        "\n",
        "with open('/Example2.txt', 'r') as testwritefile:\n",
        "    print(testwritefile.read())"
      ],
      "metadata": {
        "colab": {
          "base_uri": "https://localhost:8080/"
        },
        "id": "QWCZcdg8yChY",
        "outputId": "814a488e-e3a3-41dc-c8cb-947749b31070"
      },
      "outputs": [
        {
          "output_type": "stream",
          "name": "stdout",
          "text": [
            "This is line A\n",
            "This is line B\n",
            "This is line C\n",
            "\n"
          ]
        }
      ],
      "execution_count": 8
    },
    {
      "cell_type": "markdown",
      "source": [
        "However, note that setting the mode to __w__ overwrites all the existing data in the file.\n"
      ],
      "metadata": {
        "id": "Ub-HjdhyyChY"
      }
    },
    {
      "cell_type": "code",
      "source": [
        "with open('/Example2.txt', 'w') as writefile:\n",
        "    writefile.write(\"Overwrite\\n\")\n",
        "with open('/Example2.txt', 'r') as testwritefile:\n",
        "    print(testwritefile.read())"
      ],
      "metadata": {
        "colab": {
          "base_uri": "https://localhost:8080/"
        },
        "id": "ZdPLln1ayChY",
        "outputId": "7fc48f6a-182c-4f95-d3ee-574fb487de6e"
      },
      "outputs": [
        {
          "output_type": "stream",
          "name": "stdout",
          "text": [
            "Overwrite\n",
            "\n"
          ]
        }
      ],
      "execution_count": 9
    },
    {
      "cell_type": "markdown",
      "source": [
        "## Appending Files\n"
      ],
      "metadata": {
        "id": "FUu_pHtnyChY"
      }
    },
    {
      "cell_type": "markdown",
      "source": [
        " We can write to files without losing any of the existing data as follows by setting the mode argument to append: **a**.  you can append a new line as follows:\n"
      ],
      "metadata": {
        "id": "oGx4gRf1yChY"
      }
    },
    {
      "cell_type": "code",
      "source": [
        "# Write a new line to text file\n",
        "\n",
        "with open('/Example2.txt', 'a') as testwritefile:\n",
        "    testwritefile.write(\"This is line C\\n\")\n",
        "    testwritefile.write(\"This is line D\\n\")\n",
        "    testwritefile.write(\"This is line E\\n\")"
      ],
      "metadata": {
        "id": "sUM-BqygyChY"
      },
      "outputs": [],
      "execution_count": 10
    },
    {
      "cell_type": "markdown",
      "source": [
        " You can verify the file has changed by running the following cell:\n"
      ],
      "metadata": {
        "id": "GYJ3zNG9yChZ"
      }
    },
    {
      "cell_type": "code",
      "source": [
        "# Verify if the new line is in the text file\n",
        "\n",
        "with open('/Example2.txt', 'r') as testwritefile:\n",
        "    print(testwritefile.read())"
      ],
      "metadata": {
        "colab": {
          "base_uri": "https://localhost:8080/"
        },
        "id": "BRcYV8aPyChZ",
        "outputId": "83523336-bdfd-43fd-cb0a-f362837d8491"
      },
      "outputs": [
        {
          "output_type": "stream",
          "name": "stdout",
          "text": [
            "Overwrite\n",
            "This is line C\n",
            "This is line D\n",
            "This is line E\n",
            "\n"
          ]
        }
      ],
      "execution_count": 11
    },
    {
      "cell_type": "markdown",
      "source": [
        "## Additional modes\n"
      ],
      "metadata": {
        "id": "bbLD2XzlyChZ"
      }
    },
    {
      "cell_type": "markdown",
      "source": [
        "It's fairly ineffecient to open the file in **a** or **w** and then reopening it in **r** to read any lines. Luckily we can access the file in the following modes:\n",
        "- **r+** : Reading and writing. Cannot truncate the file.\n",
        "- **w+** : Writing and reading. Truncates the file.\n",
        "- **a+** : Appending and Reading. Creates a new file, if none exists.\n",
        "You dont have to dwell on the specifics of each mode for this lab.\n"
      ],
      "metadata": {
        "id": "QbNI_S9gyChZ"
      }
    },
    {
      "cell_type": "markdown",
      "source": [
        "Let's try out the __a+__ mode:\n"
      ],
      "metadata": {
        "id": "C1t4PoC3yCha"
      }
    },
    {
      "cell_type": "code",
      "source": [
        "with open('/Example2.txt', 'a+') as testwritefile:\n",
        "    testwritefile.write(\"This is line E\\n\")\n",
        "    print(testwritefile.read())\n",
        "    testwritefile.seek(0,0)\n",
        "    print(testwritefile.read())\n",
        "    print(testwritefile.tell())"
      ],
      "metadata": {
        "colab": {
          "base_uri": "https://localhost:8080/"
        },
        "id": "RIqlBDs5yCha",
        "outputId": "a5a5d88c-bf63-4597-804b-5a4b7151f014"
      },
      "outputs": [
        {
          "output_type": "stream",
          "name": "stdout",
          "text": [
            "\n",
            "Overwrite\n",
            "This is line C\n",
            "This is line D\n",
            "This is line E\n",
            "This is line E\n",
            "This is line E\n",
            "This is line E\n",
            "This is line E\n",
            "This is line E\n",
            "This is line E\n",
            "\n",
            "145\n"
          ]
        }
      ],
      "execution_count": 17
    },
    {
      "cell_type": "code",
      "source": [
        "with open('/Example2.txt', 'r+') as testwritefile:\n",
        "  print(len(\"This is new line \\n\"))\n",
        "  print(testwritefile.read())\n",
        "  testwritefile.write(\"This is new line \\n\")\n",
        "  print(testwritefile.read())\n",
        "  testwritefile.seek(0,0)\n",
        "  print(testwritefile.read())\n",
        "  print(testwritefile.tell())\n",
        "  # move teh file pointer to the end to write a new line\n",
        "  testwritefile.seek(0,2)\n",
        "  testwritefile.write(\"This is new new line \\n\")\n",
        "  testwritefile.seek(0,0)\n",
        "  print(testwritefile.read())"
      ],
      "metadata": {
        "id": "YCX2DQcw85LB"
      },
      "execution_count": null,
      "outputs": []
    },
    {
      "cell_type": "code",
      "source": [
        "with open('/Example2.txt', 'w+') as testwritefile:\n",
        "  print(testwritefile.read())\n",
        "  testwritefile.write(\"This is new line \\n\")\n",
        "  print(testwritefile.read())\n",
        "  testwritefile.seek(0,0)\n",
        "  print(testwritefile.read())\n",
        "with open('/Example2.txt', 'r') as testwritefile:\n",
        "  print(testwritefile.read())"
      ],
      "metadata": {
        "colab": {
          "base_uri": "https://localhost:8080/"
        },
        "id": "1c6oDGTx-THK",
        "outputId": "1ca9b449-a28b-448e-8af5-acb90a40ab8f"
      },
      "execution_count": 28,
      "outputs": [
        {
          "output_type": "stream",
          "name": "stdout",
          "text": [
            "\n",
            "\n",
            "This is new line \n",
            "\n",
            "This is new line \n",
            "\n"
          ]
        }
      ]
    },
    {
      "cell_type": "markdown",
      "source": [],
      "metadata": {
        "id": "0JeZOeep84uo"
      }
    },
    {
      "cell_type": "markdown",
      "source": [
        "There were no errors but <code>read()</code> also did not output anything. This is because of our location in the file.\n"
      ],
      "metadata": {
        "id": "EtqUOHomyChb"
      }
    },
    {
      "cell_type": "markdown",
      "source": [
        "Most of the file methods we've looked at work in a certain location in the file. <code>.write() </code> writes at a certain location in the file. <code>.read()</code> reads at a certain location in the file and so on. You can think of this as moving your pointer around in the notepad to make changes at specific location.\n"
      ],
      "metadata": {
        "id": "lUKo6Yo-yChb"
      }
    },
    {
      "cell_type": "markdown",
      "source": [
        "Opening the file in **w** is akin to opening the .txt file, moving your cursor to the beginning of the text file, writing new text and deleting everything that follows.\n",
        "Whereas opening the file in **a** is similiar to opening the .txt file, moving your cursor to the very end and then adding the new pieces of text. <br>\n",
        "It is often very useful to know where the 'cursor' is in a file and be able to control it. The following methods allow us to do precisely this -\n",
        "- <code>.tell()</code> - returns the current position in bytes\n",
        "- <code>.seek(offset,from)</code> - changes the position by 'offset' bytes with respect to 'from'. From can take the value of 0,1,2 corresponding to beginning, relative to current position and end\n"
      ],
      "metadata": {
        "id": "51BjI-PTyChb"
      }
    },
    {
      "cell_type": "markdown",
      "source": [
        "Now lets revisit **a+**\n"
      ],
      "metadata": {
        "id": "2FwvZg8LyChb"
      }
    },
    {
      "cell_type": "markdown",
      "source": [],
      "metadata": {
        "id": "dbR-bAZ2-tQJ"
      }
    },
    {
      "cell_type": "markdown",
      "source": [
        "In seek(0, 1), the second argument 1 indicates that the offset (which is 0 in this case) is relative to the current position of the file pointer.\n",
        "\n",
        "Here's a breakdown of the possible values for the second argument:\n",
        "\n",
        "0: Seek from the beginning of the file.\n",
        "\n",
        "\n",
        "1: Seek from the current position of the file pointer.\n",
        "\n",
        "\n",
        "2: Seek from the end of the file.\n"
      ],
      "metadata": {
        "id": "IEOnZZpsEkit"
      }
    },
    {
      "cell_type": "code",
      "source": [
        "with open('/Example2.txt', 'r') as testwritefile:\n",
        "  print(\"Initial Location: {}\".format(testwritefile.tell()))\n",
        "  print(testwritefile.read())\n",
        "  print(\"Initial Location: {}\".format(testwritefile.tell()))\n",
        "with open('/Example2.txt', 'a+') as testwritefile:\n",
        "    print(\"Initial Location: {}\".format(testwritefile.tell()))\n",
        "\n",
        "    data = testwritefile.read()\n",
        "    if (not data):  #empty strings return false in python\n",
        "            print('Read nothing')\n",
        "    else:\n",
        "            print(testwritefile.read())\n",
        "\n",
        "    testwritefile.seek(0,0) # move 0 bytes from beginning.\n",
        "\n",
        "    print(\"\\nNew Location : {}\".format(testwritefile.tell()))\n",
        "    data = testwritefile.read()\n",
        "    if (not data):\n",
        "            print('Read nothing')\n",
        "    else:\n",
        "            print(data)\n",
        "\n",
        "    print(\"Location after read: {}\".format(testwritefile.tell()) )"
      ],
      "metadata": {
        "colab": {
          "base_uri": "https://localhost:8080/"
        },
        "id": "rHRfX60kyChb",
        "outputId": "12ea27e5-bbe8-45d5-dd34-6784f80c5457"
      },
      "outputs": [
        {
          "output_type": "stream",
          "name": "stdout",
          "text": [
            "Initial Location: 0\n",
            "This is new line \n",
            "\n",
            "Initial Location: 18\n",
            "Initial Location: 18\n",
            "Read nothing\n",
            "\n",
            "New Location : 0\n",
            "This is new line \n",
            "\n",
            "Location after read: 18\n"
          ]
        }
      ],
      "execution_count": 34
    },
    {
      "cell_type": "markdown",
      "source": [
        "Finally, a note on the difference between **w+** and **r+**. Both of these modes allow access to read and write methods, however, opening a file in **w+** overwrites it and deletes all pre-existing data. <br>\n",
        "\n",
        "In the following code block, Run the code as it is first and then run it without the <code>.truncate()</code>.\n"
      ],
      "metadata": {
        "id": "I7CqNUEOyChb"
      }
    },
    {
      "cell_type": "code",
      "source": [
        "with open('/Example2.txt', 'r+') as testwritefile:\n",
        "    testwritefile.seek(0,0)         #write at beginning of file\n",
        "    testwritefile.write(\"Line 1\" + \"\\n\")\n",
        "    testwritefile.write(\"Line 2\" + \"\\n\")\n",
        "    testwritefile.write(\"Line 3\" + \"\\n\")\n",
        "    testwritefile.write(\"Line 4\" + \"\\n\")\n",
        "    testwritefile.write(\"finished\\n\")\n",
        "    testwritefile.seek(0,0)\n",
        "    print(testwritefile.read())\n",
        "with open('/Example2.txt', 'r+') as testwritefile:\n",
        "    testwritefile.seek(0,0)         #write at beginning of file\n",
        "    testwritefile.write(\"1st line only\" + \"\\n\")\n",
        "    testwritefile.seek(0,0)\n",
        "    print(testwritefile.read())\n",
        "with open('/Example2.txt', 'w+') as testwritefile:\n",
        "    testwritefile.seek(0,0)         #write at beginning of file\n",
        "    testwritefile.write(\"Line 1\" + \"\\n\")\n",
        "    testwritefile.write(\"Line 2\" + \"\\n\")\n",
        "    testwritefile.write(\"Line 3\" + \"\\n\")\n",
        "    testwritefile.write(\"Line 4\" + \"\\n\")\n",
        "    testwritefile.write(\"finished\\n\")\n",
        "    testwritefile.seek(0,0)\n",
        "    print(testwritefile.read())\n",
        "with open('/Example2.txt', 'w+') as testwritefile:\n",
        "    testwritefile.seek(0,0)         #write at beginning of file\n",
        "    testwritefile.write(\"This Line will rewritten everything\" + \"\\n\")\n",
        "    testwritefile.seek(0,0)\n",
        "    print(testwritefile.read())"
      ],
      "metadata": {
        "colab": {
          "base_uri": "https://localhost:8080/"
        },
        "id": "JJfcuo8lyChb",
        "outputId": "9a7bec67-6df9-4694-cf77-a32185e90bc9"
      },
      "outputs": [
        {
          "output_type": "stream",
          "name": "stdout",
          "text": [
            "Line 1\n",
            "Line 2\n",
            "Line 3\n",
            "Line 4\n",
            "finished\n",
            "\n",
            "1st line only\n",
            "Line 3\n",
            "Line 4\n",
            "finished\n",
            "\n",
            "Line 1\n",
            "Line 2\n",
            "Line 3\n",
            "Line 4\n",
            "finished\n",
            "\n",
            "This Line will rewritten everything\n",
            "\n"
          ]
        }
      ],
      "execution_count": 43
    },
    {
      "cell_type": "markdown",
      "source": [
        "To work with a file on existing data, use **r+** and **a+**. While using **r+**, it can be useful to add a <code>.truncate()</code> method at the end of your data. This will reduce the file to your data and delete everything that follows. <br>\n"
      ],
      "metadata": {
        "id": "aA5OpqcHyChb"
      }
    },
    {
      "cell_type": "code",
      "source": [
        "with open('/Example2.txt', 'r+') as testwritefile:\n",
        "  for i in range(10):\n",
        "      testwritefile.write(f\"This is line {i}\\n\")\n",
        "  testwritefile.seek(0,0)\n",
        "  print(testwritefile.read())\n",
        "with open('/Example2.txt', 'r+') as testwritefile:\n",
        "    testwritefile.seek(0,0) #write at beginning of file\n",
        "    testwritefile.write(\"Line 1\" + \"\\n\")\n",
        "    testwritefile.write(\"Line 2\" + \"\\n\")\n",
        "    testwritefile.write(\"Line 3\" + \"\\n\")\n",
        "    testwritefile.write(\"Line 4\" + \"\\n\")\n",
        "    testwritefile.write(\"finished\\n\")\n",
        "    #Uncomment the line below\n",
        "    testwritefile.truncate()\n",
        "    testwritefile.seek(0,0)\n",
        "    print(testwritefile.read())\n",
        ""
      ],
      "metadata": {
        "colab": {
          "base_uri": "https://localhost:8080/"
        },
        "id": "G1_J2srhyChb",
        "outputId": "7b2fbfe0-0a74-4a3e-c186-0fe5026143d1"
      },
      "outputs": [
        {
          "output_type": "stream",
          "name": "stdout",
          "text": [
            "This is line 0\n",
            "This is line 1\n",
            "This is line 2\n",
            "This is line 3\n",
            "This is line 4\n",
            "This is line 5\n",
            "This is line 6\n",
            "This is line 7\n",
            "This is line 8\n",
            "This is line 9\n",
            "\n",
            "Line 1\n",
            "Line 2\n",
            "Line 3\n",
            "Line 4\n",
            "finished\n",
            "\n"
          ]
        }
      ],
      "execution_count": 46
    },
    {
      "cell_type": "markdown",
      "source": [
        "<hr>\n"
      ],
      "metadata": {
        "id": "CJEWy_Z5yChc"
      }
    },
    {
      "cell_type": "markdown",
      "source": [
        "## Copy a File\n"
      ],
      "metadata": {
        "id": "zDwc_W0byChc"
      }
    },
    {
      "cell_type": "markdown",
      "source": [
        "Let's copy the file **Example2.txt** to the file **Example3.txt**:\n"
      ],
      "metadata": {
        "id": "N3CRXe0NyChc"
      }
    },
    {
      "cell_type": "code",
      "source": [
        "# Copy file to another\n",
        "\n",
        "with open('/Example2.txt','r') as readfile:\n",
        "    with open('/Example3.txt','w') as writefile:\n",
        "          for line in readfile:\n",
        "                writefile.write(line)"
      ],
      "metadata": {
        "id": "s6SCiy9ZyChc"
      },
      "outputs": [],
      "execution_count": 31
    },
    {
      "cell_type": "markdown",
      "source": [
        "We can read the file to see if everything works:\n"
      ],
      "metadata": {
        "id": "R4G53GkDyChc"
      }
    },
    {
      "cell_type": "code",
      "source": [
        "# Verify if the copy is successfully executed\n",
        "\n",
        "with open('/Example3.txt','r') as testwritefile:\n",
        "    print(testwritefile.read())"
      ],
      "metadata": {
        "colab": {
          "base_uri": "https://localhost:8080/"
        },
        "id": "I9jLu5wmyChc",
        "outputId": "b2f7ae89-6df4-4add-9681-1db8eae07126"
      },
      "outputs": [
        {
          "output_type": "stream",
          "name": "stdout",
          "text": [
            "This is new line \n",
            "\n"
          ]
        }
      ],
      "execution_count": 32
    },
    {
      "cell_type": "markdown",
      "source": [
        " After reading files, we can also write data into files and save them in different file formats like **.txt, .csv, .xls (for excel files) etc**. You will come across these in further examples\n"
      ],
      "metadata": {
        "id": "VsH1EK4oyChc"
      }
    },
    {
      "cell_type": "markdown",
      "source": [
        "**NOTE:** If you wish to open and view the `example3.txt` file, download this lab [here](https://cf-courses-data.s3.us.cloud-object-storage.appdomain.cloud/IBMDeveloperSkillsNetwork-PY0101EN-SkillsNetwork/labs/Module%204/PY0101EN-4-2-WriteFile.ipynb) and run it locally on your machine. Then go to the working directory to ensure the `example3.txt` file exists and contains the summary data that we wrote.\n"
      ],
      "metadata": {
        "id": "V3wpWVJsyChc"
      }
    },
    {
      "cell_type": "markdown",
      "source": [
        "<hr>\n"
      ],
      "metadata": {
        "id": "OnRpW0q1yChd"
      }
    },
    {
      "cell_type": "markdown",
      "source": [
        "<h2> Exercise </h2>\n"
      ],
      "metadata": {
        "id": "MWTDNH5KyChd"
      }
    },
    {
      "cell_type": "markdown",
      "source": [
        "Your local university's Raptors fan club maintains a register of its active members on a .txt document. Every month they update the file by removing the members who are not active. You have been tasked with automating this with your Python skills. <br>\n",
        "Given the file `currentMem`, Remove each member with a 'no' in their Active column. Keep track of each of the removed members and append them to the `exMem` file. Make sure that the format of the original files in preserved.   (*Hint: Do this by reading/writing whole lines and ensuring the header remains* )\n",
        "<br>\n",
        "Run the code block below prior to starting the exercise. The skeleton code has been provided for you. Edit only the `cleanFiles` function.\n"
      ],
      "metadata": {
        "id": "l_sBMFvSyChd"
      }
    },
    {
      "cell_type": "code",
      "source": [
        "#Run this prior to starting the exercise\n",
        "from random import randint as rnd\n",
        "\n",
        "memReg = '/members.txt'\n",
        "exReg = '/inactive.txt'\n",
        "fee =('yes','no')\n",
        "\n",
        "def genFiles(current,old):\n",
        "    with open(current,'w+') as writefile:\n",
        "        writefile.write('Membership No  Date Joined  Active  \\n')\n",
        "        data = \"{:^13}  {:<11}  {:<6}\\n\"\n",
        "\n",
        "        for rowno in range(20):\n",
        "            date = str(rnd(2015,2020))+ '-' + str(rnd(1,12))+'-'+str(rnd(1,25))\n",
        "            writefile.write(data.format(rnd(10000,99999),date,fee[rnd(0,1)]))\n",
        "        writefile.truncate()\n",
        "\n",
        "    with open(old,'w+') as writefile:\n",
        "        writefile.write('Membership No  Date Joined  Active  \\n')\n",
        "        data = \"{:^13}  {:<11}  {:<6}\\n\"\n",
        "        for rowno in range(3):\n",
        "            date = str(rnd(2015,2020))+ '-' + str(rnd(1,12))+'-'+str(rnd(1,25))\n",
        "            writefile.write(data.format(rnd(10000,99999),date,fee[1]))\n",
        "        writefile.truncate()\n",
        "\n",
        "genFiles(memReg,exReg)\n"
      ],
      "metadata": {
        "id": "QnW9wQItyChd"
      },
      "outputs": [],
      "execution_count": 53
    },
    {
      "cell_type": "markdown",
      "source": [
        "Now that you've run the prerequisite code cell above, which prepared the files for this exercise, you are ready to move on to the implementation.\n",
        "\n",
        "#### **Exercise:** Implement the cleanFiles function in the code cell below.\n"
      ],
      "metadata": {
        "id": "c8NXjlqYyChd"
      }
    },
    {
      "cell_type": "code",
      "source": [
        "from types import UnionType\n",
        "\n",
        "'''\n",
        "The two arguments for this function are the files:\n",
        "    - currentMem: File containing list of current members\n",
        "    - exMem: File containing list of old members\n",
        "\n",
        "    This function should remove all rows from currentMem containing 'no'\n",
        "    in the 'Active' column and appends them to exMem.\n",
        "    '''\n",
        "def cleanFiles(currentMem, exMem):\n",
        "    # TODO: Open the currentMem file as in r+ mode\n",
        "    #TODO: Open the exMem file in a+ mode\n",
        "    with open(currentMem,'r+') as current:\n",
        "        with open(exMem,'a+') as exMem:\n",
        "           # skip the first line in the currentMem file with seek()\n",
        "           # Hint: Recall that the first line in the file is the header.\n",
        "            current.readline()\n",
        "\n",
        "            #TODO: Read each member in the currentMem (1 member per row) file into a list.\n",
        "            members = []\n",
        "            for line in current:\n",
        "                members.append(line)\n",
        "\n",
        "           #TODO: iterate through the members and create a new list of the innactive members\n",
        "            inactive = [member for member in members if (' no' in member)]\n",
        "        # TODO: Iterate through the members list.\n",
        "        # If a member is inactive, add them to exMem, otherwise write them into currentMem\n",
        "            current.seek(0)   # Go to the beginning of the currentMem file\n",
        "            current.write('Membership No  Date Joined  Active  \\n')\n",
        "            for member in members:\n",
        "                if member in inactive:\n",
        "                  exMem.write(member)\n",
        "                  # delete this member from current\n",
        "                else:\n",
        "                  current.write(member)\n",
        "            current.truncate()\n",
        "\n",
        "\n",
        "# The code below is to help you view the files.\n",
        "# Do not modify this code for this exercise.\n",
        "memReg = '/members.txt'\n",
        "exReg = '/inactive.txt'\n",
        "cleanFiles(memReg,exReg)\n",
        "\n",
        "\n",
        "headers = \"Membership No  Date Joined  Active  \\n\"\n",
        "with open(memReg,'r') as readFile:\n",
        "    print(\"Active Members: \\n\\n\")\n",
        "    print(readFile.read())\n",
        "\n",
        "with open(exReg,'r') as readFile:\n",
        "    print(\"Inactive Members: \\n\\n\")\n",
        "    print(readFile.read())\n",
        "\n",
        ""
      ],
      "metadata": {
        "colab": {
          "base_uri": "https://localhost:8080/"
        },
        "id": "Dje5R-kvyChd",
        "outputId": "91f24c72-de54-42b5-b45a-a9cd8466ae7e"
      },
      "outputs": [
        {
          "output_type": "stream",
          "name": "stdout",
          "text": [
            "Active Members: \n",
            "\n",
            "\n",
            "Membership No  Date Joined  Active  \n",
            "    22303      2016-7-3     yes   \n",
            "    15354      2015-4-20    yes   \n",
            "    73780      2016-6-10    yes   \n",
            "    81890      2016-5-3     yes   \n",
            "    85628      2015-5-18    yes   \n",
            "    63741      2019-2-13    yes   \n",
            "    96418      2015-4-15    yes   \n",
            "    68397      2019-4-22    yes   \n",
            "\n",
            "Inactive Members: \n",
            "\n",
            "\n",
            "Membership No  Date Joined  Active  \n",
            "    70446      2017-4-16    no    \n",
            "    64786      2015-10-25   no    \n",
            "    96875      2020-9-2     no    \n",
            "    82392      2018-1-23    no    \n",
            "    62741      2015-3-13    no    \n",
            "    87928      2016-2-8     no    \n",
            "    10121      2017-4-16    no    \n",
            "    57605      2017-10-16   no    \n",
            "    58890      2020-12-13   no    \n",
            "    50429      2015-2-7     no    \n",
            "    19073      2020-5-3     no    \n",
            "    81690      2018-7-13    no    \n",
            "\n"
          ]
        }
      ],
      "execution_count": 59
    },
    {
      "cell_type": "markdown",
      "source": [
        "The code cell below is to verify your solution. Please do not modify the code and run it to test your implementation of `cleanFiles`.\n"
      ],
      "metadata": {
        "id": "rvsuLmVzyChd"
      }
    },
    {
      "cell_type": "code",
      "source": [
        "def testMsg(passed):\n",
        "    if passed:\n",
        "       return 'Test Passed'\n",
        "    else :\n",
        "       return 'Test Failed'\n",
        "\n",
        "testWrite = \"/testWrite.txt\"\n",
        "testAppend = \"/testAppend.txt\"\n",
        "passed = True\n",
        "\n",
        "genFiles(testWrite,testAppend)\n",
        "\n",
        "with open(testWrite,'r') as file:\n",
        "    ogWrite = file.readlines()\n",
        "\n",
        "with open(testAppend,'r') as file:\n",
        "    ogAppend = file.readlines()\n",
        "\n",
        "try:\n",
        "    cleanFiles(testWrite,testAppend)\n",
        "except:\n",
        "    print('Error')\n",
        "\n",
        "with open(testWrite,'r') as file:\n",
        "    clWrite = file.readlines()\n",
        "\n",
        "with open(testAppend,'r') as file:\n",
        "    clAppend = file.readlines()\n",
        "\n",
        "# checking if total no of rows is same, including headers\n",
        "\n",
        "if (len(ogWrite) + len(ogAppend) != len(clWrite) + len(clAppend)):\n",
        "    print(\"The number of rows do not add up. Make sure your final files have the same header and format.\")\n",
        "    passed = False\n",
        "\n",
        "for line in clWrite:\n",
        "    if  'no' in line:\n",
        "        passed = False\n",
        "        print(\"Inactive members in file\")\n",
        "        break\n",
        "    else:\n",
        "        if line not in ogWrite:\n",
        "            print(\"Data in file does not match original file\")\n",
        "            passed = False\n",
        "print (\"{}\".format(testMsg(passed)))\n",
        "\n",
        "\n"
      ],
      "metadata": {
        "colab": {
          "base_uri": "https://localhost:8080/"
        },
        "id": "NDhrfmMZyChd",
        "outputId": "809c2980-97c9-4d4c-a447-2d17777073b3"
      },
      "outputs": [
        {
          "output_type": "stream",
          "name": "stdout",
          "text": [
            "Test Passed\n"
          ]
        }
      ],
      "execution_count": 60
    },
    {
      "cell_type": "markdown",
      "source": [
        "<details><summary>Click here for the solution</summary>\n",
        "\n",
        "```python\n",
        "def cleanFiles(currentMem,exMem):\n",
        "    with open(currentMem,'r+') as writeFile:\n",
        "        with open(exMem,'a+') as appendFile:\n",
        "            #get the data\n",
        "            writeFile.seek(0)\n",
        "            members = writeFile.readlines()\n",
        "            #remove header\n",
        "            header = members[0]\n",
        "            members.pop(0)\n",
        "                \n",
        "            inactive = [member for member in members if ('no' in member)]\n",
        "            '''\n",
        "            The above is the same as\n",
        "\n",
        "            for member in members:\n",
        "            if 'no' in member:\n",
        "                inactive.append(member)\n",
        "            '''\n",
        "            #go to the beginning of the write file\n",
        "            writeFile.seek(0)\n",
        "            writeFile.write(header)\n",
        "            for member in members:\n",
        "                if (member in inactive):\n",
        "                    appendFile.write(member)\n",
        "                else:\n",
        "                    writeFile.write(member)      \n",
        "            writeFile.truncate()\n",
        "                \n",
        "memReg = 'members.txt'\n",
        "exReg = 'inactive.txt'\n",
        "cleanFiles(memReg,exReg)\n",
        "\n",
        "# code to help you see the files\n",
        "\n",
        "headers = \"Membership No  Date Joined  Active  \\n\"\n",
        "\n",
        "with open(memReg,'r') as readFile:\n",
        "    print(\"Active Members: \\n\\n\")\n",
        "    print(readFile.read())\n",
        "    \n",
        "with open(exReg,'r') as readFile:\n",
        "    print(\"Inactive Members: \\n\\n\")\n",
        "    print(readFile.read())\n",
        "    \n",
        "```\n",
        "\n",
        "</details>\n",
        "\n",
        "    \n"
      ],
      "metadata": {
        "id": "eyHNZf8AyChe"
      }
    },
    {
      "cell_type": "markdown",
      "source": [
        "<hr>\n",
        "<h2>The last exercise!</h2>\n",
        "<p>Congratulations, you have completed this lesson and hands-on lab in Python.\n",
        "<hr>\n"
      ],
      "metadata": {
        "id": "hSFtrgbYyChe"
      }
    },
    {
      "cell_type": "markdown",
      "source": [
        "## Author\n",
        "\n",
        "<a href=\"https://www.linkedin.com/in/joseph-s-50398b136/\" target=\"_blank\">Joseph Santarcangelo</a>\n",
        "\n",
        "\n",
        "### Other Contributors\n",
        "<a href=\"www.linkedin.com/in/jiahui-mavis-zhou-a4537814a\">Mavis Zhou</a>\n",
        "\n",
        "\n",
        "## Change Log\n",
        "\n",
        "\n",
        "|  Date (YYYY-MM-DD) |  Version | Changed By  |  Change Description |\n",
        "|---|---|---|---|\n",
        "| 2023-11-02 | 2.2 | Abhishek Gagneja | Updated instructions |\n",
        "| 2022-01-10  | 2.1  | Malika  | Removed the readme for GitShare|\n",
        "| 2020-10-16  | 1.3  | Arjun Swani  |  Added exercise |\n",
        "| 2020-10-16  | 1.2  | Arjun Swani  |  Added section additional file modes |\n",
        "| 2020-10-16  | 1.1  | Arjun Swani |  Made append a different section |\n",
        "| 2020-08-28  | 0.2  | Lavanya  |  Moved lab to course repo in GitLab |\n",
        "\n",
        "\n",
        "\n",
        "<hr>\n",
        "\n",
        "## <h3 align=\"center\"> © IBM Corporation 2023. All rights reserved. <h3/>\n"
      ],
      "metadata": {
        "id": "qfv4A0LnyChe"
      }
    }
  ]
}