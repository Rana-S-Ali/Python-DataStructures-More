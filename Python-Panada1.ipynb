{
  "nbformat": 4,
  "nbformat_minor": 0,
  "metadata": {
    "colab": {
      "provenance": []
    },
    "kernelspec": {
      "name": "python3",
      "display_name": "Python 3"
    },
    "language_info": {
      "name": "python"
    }
  },
  "cells": [
    {
      "cell_type": "code",
      "execution_count": 2,
      "metadata": {
        "colab": {
          "base_uri": "https://localhost:8080/"
        },
        "id": "2VF048rN_6x4",
        "outputId": "4f776390-38c7-4292-9447-b761b647a69f"
      },
      "outputs": [
        {
          "output_type": "stream",
          "name": "stdout",
          "text": [
            "      Name  Age           City\n",
            "0    Alice   25       New York\n",
            "1      Bob   30  San Francisco\n",
            "2  Charlie   35    Los Angeles\n",
            "3    David   28        Chicago\n",
            "0      Alice\n",
            "1        Bob\n",
            "2    Charlie\n",
            "3      David\n",
            "Name: Name, dtype: object\n"
          ]
        }
      ],
      "source": [
        "import pandas as pd\n",
        "\n",
        "# Creating a DataFrame from a dictionary\n",
        "data = {'Name': ['Alice', 'Bob', 'Charlie', 'David'],\n",
        "        'Age': [25, 30, 35, 28],\n",
        "        'City': ['New York', 'San Francisco', 'Los Angeles', 'Chicago']}\n",
        "\n",
        "df = pd.DataFrame(data)\n",
        "\n",
        "print(df)\n"
      ]
    },
    {
      "cell_type": "code",
      "source": [
        "print(df['Name'])  # Access the 'Name' column\n"
      ],
      "metadata": {
        "colab": {
          "base_uri": "https://localhost:8080/"
        },
        "id": "hBZqU9rRAUmz",
        "outputId": "6bf0b947-34e3-491f-9395-6af448dda5f3"
      },
      "execution_count": 3,
      "outputs": [
        {
          "output_type": "stream",
          "name": "stdout",
          "text": [
            "0      Alice\n",
            "1        Bob\n",
            "2    Charlie\n",
            "3      David\n",
            "Name: Name, dtype: object\n"
          ]
        }
      ]
    },
    {
      "cell_type": "code",
      "source": [
        "print(df.iloc[2])   # Access the third row by position\n",
        "print(df.loc[1])    # Access the second row by label"
      ],
      "metadata": {
        "colab": {
          "base_uri": "https://localhost:8080/"
        },
        "id": "JSHx3MlhAc71",
        "outputId": "e9bd2cb5-19a1-4972-8174-36128e2ee036"
      },
      "execution_count": 4,
      "outputs": [
        {
          "output_type": "stream",
          "name": "stdout",
          "text": [
            "Name        Charlie\n",
            "Age              35\n",
            "City    Los Angeles\n",
            "Name: 2, dtype: object\n",
            "Name              Bob\n",
            "Age                30\n",
            "City    San Francisco\n",
            "Name: 1, dtype: object\n"
          ]
        }
      ]
    },
    {
      "cell_type": "code",
      "source": [
        "print(df[['Name', 'Age']])  # Select specific columns\n",
        "print(df[1:3])             # Select specific rows"
      ],
      "metadata": {
        "colab": {
          "base_uri": "https://localhost:8080/"
        },
        "id": "znn5p-8PAs8X",
        "outputId": "ca52ebd1-7704-4e06-ead1-77ad36c64816"
      },
      "execution_count": 5,
      "outputs": [
        {
          "output_type": "stream",
          "name": "stdout",
          "text": [
            "      Name  Age\n",
            "0    Alice   25\n",
            "1      Bob   30\n",
            "2  Charlie   35\n",
            "3    David   28\n",
            "      Name  Age           City\n",
            "1      Bob   30  San Francisco\n",
            "2  Charlie   35    Los Angeles\n"
          ]
        }
      ]
    },
    {
      "cell_type": "code",
      "source": [
        "unique_dates = df['Age'].unique()\n",
        "print(unique_dates)"
      ],
      "metadata": {
        "colab": {
          "base_uri": "https://localhost:8080/"
        },
        "id": "2aypUJ6JAzwx",
        "outputId": "26f3d544-017b-43e0-ed56-93eff1d1ea4a"
      },
      "execution_count": 7,
      "outputs": [
        {
          "output_type": "stream",
          "name": "stdout",
          "text": [
            "[25 30 35 28]\n"
          ]
        }
      ]
    },
    {
      "cell_type": "code",
      "source": [
        "high_above_102 = df[df['Age'] > 25]\n",
        "print(high_above_102)"
      ],
      "metadata": {
        "colab": {
          "base_uri": "https://localhost:8080/"
        },
        "id": "cnGX-tqKA-nw",
        "outputId": "824af175-e2a5-4037-b8de-781b6f84302d"
      },
      "execution_count": 8,
      "outputs": [
        {
          "output_type": "stream",
          "name": "stdout",
          "text": [
            "      Name  Age           City\n",
            "1      Bob   30  San Francisco\n",
            "2  Charlie   35    Los Angeles\n",
            "3    David   28        Chicago\n"
          ]
        }
      ]
    },
    {
      "cell_type": "code",
      "source": [
        "print(df.shape)\n",
        "print(df.info())\n",
        "print(df.describe())\n",
        "print(df.head())\n",
        "print(df.tail())  # Print the last 5 rows\n",
        " # mean(), sum(), min(), max()\n",
        "print(df.count())\n",
        "#print(df.unique())\n",
        "print(df.nunique())\n",
        "print(df['Age'].value_counts())\n",
        " # count(), unique(), nunique(), value_counts()\n",
        " # sort_values(), sort_index()\n",
        " # groupby()\n",
        " # apply(), applymap()\n",
        " # merge(), join()\n",
        " # concat()\n",
        " #sort_values(): Sort the DataFrame by one or more columns.\n",
        "# groupby(): Group data based on specific columns for aggregation.\n",
        "# fillna(), drop(), rename(): Handle missing values, drop columns, or rename columns.\n",
        "# apply(): Apply a function to each element, row, or column of the DataFrame.\n"
      ],
      "metadata": {
        "colab": {
          "base_uri": "https://localhost:8080/"
        },
        "id": "KYKbDWKbCeIU",
        "outputId": "6b6e49ac-3417-498a-b374-d1f6deb86581"
      },
      "execution_count": 19,
      "outputs": [
        {
          "output_type": "stream",
          "name": "stdout",
          "text": [
            "(4, 3)\n",
            "<class 'pandas.core.frame.DataFrame'>\n",
            "RangeIndex: 4 entries, 0 to 3\n",
            "Data columns (total 3 columns):\n",
            " #   Column  Non-Null Count  Dtype \n",
            "---  ------  --------------  ----- \n",
            " 0   Name    4 non-null      object\n",
            " 1   Age     4 non-null      int64 \n",
            " 2   City    4 non-null      object\n",
            "dtypes: int64(1), object(2)\n",
            "memory usage: 224.0+ bytes\n",
            "None\n",
            "             Age\n",
            "count   4.000000\n",
            "mean   29.500000\n",
            "std     4.203173\n",
            "min    25.000000\n",
            "25%    27.250000\n",
            "50%    29.000000\n",
            "75%    31.250000\n",
            "max    35.000000\n",
            "      Name  Age           City\n",
            "0    Alice   25       New York\n",
            "1      Bob   30  San Francisco\n",
            "2  Charlie   35    Los Angeles\n",
            "3    David   28        Chicago\n",
            "      Name  Age           City\n",
            "0    Alice   25       New York\n",
            "1      Bob   30  San Francisco\n",
            "2  Charlie   35    Los Angeles\n",
            "3    David   28        Chicago\n",
            "Name    4\n",
            "Age     4\n",
            "City    4\n",
            "dtype: int64\n",
            "Name    4\n",
            "Age     4\n",
            "City    4\n",
            "dtype: int64\n",
            "Age\n",
            "25    1\n",
            "30    1\n",
            "35    1\n",
            "28    1\n",
            "Name: count, dtype: int64\n"
          ]
        }
      ]
    },
    {
      "cell_type": "code",
      "source": [
        "df.to_csv('trading_data.csv', index=False)"
      ],
      "metadata": {
        "id": "kDeh32dXA_dc"
      },
      "execution_count": 9,
      "outputs": []
    }
  ]
}