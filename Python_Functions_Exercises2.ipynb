{
  "cells": [
    {
      "cell_type": "markdown",
      "metadata": {
        "id": "qOCuOCx0BtoA"
      },
      "source": [
        "# Functions Exercises"
      ]
    },
    {
      "cell_type": "code",
      "execution_count": null,
      "metadata": {
        "id": "hSqbd0scBtoC"
      },
      "outputs": [],
      "source": [
        "#Q1 Write Python function that takes two inputs\n",
        "#and return their sum value\n",
        "def sum_tow(a,b):\n",
        "  return(a+b)"
      ]
    },
    {
      "cell_type": "code",
      "execution_count": null,
      "metadata": {
        "id": "SxDQHg9KBtoD"
      },
      "outputs": [],
      "source": [
        "#Q2 Write Python function the takes a celsius temprature\n",
        "#and converts it into fahrenheit\n",
        "def cel_to_feh(c):\n",
        "  return((c*9/5)+32)\n"
      ]
    },
    {
      "cell_type": "code",
      "execution_count": null,
      "metadata": {
        "id": "7drNyswbBtoD"
      },
      "outputs": [],
      "source": [
        "#Q3 Write a Python function to find the Max of three numbers\n",
        "def find_max(a,b,c):\n",
        "  if a>b and a>c:\n",
        "    return a\n",
        "  elif b>a and b>c:\n",
        "    return b\n",
        "  else:\n",
        "    return c"
      ]
    },
    {
      "cell_type": "code",
      "execution_count": null,
      "metadata": {
        "id": "-62xrJqpBtoD"
      },
      "outputs": [],
      "source": [
        "#Q4 Write a Python function to check whether a number\n",
        "#is in a given range [5,12]\n",
        "def check_num(n):\n",
        "  if n in range(5,13):\n",
        "    return true\n",
        "  else :\n",
        "    return false"
      ]
    },
    {
      "cell_type": "code",
      "execution_count": null,
      "metadata": {
        "colab": {
          "base_uri": "https://localhost:8080/"
        },
        "id": "KvjiNv_jBtoE",
        "outputId": "4e18797f-cb48-4ece-e7a7-a4aec2a9cfe2"
      },
      "outputs": [
        {
          "output_type": "stream",
          "name": "stdout",
          "text": [
            "[1, 4, 5, 6]\n"
          ]
        }
      ],
      "source": [
        "#Q5 Write a Python function that takes a list\n",
        "#and returns a new list with unique elements of the first\n",
        "Sample_List = [1,2,3,3,3,3,4,5,2,6]\n",
        "def uniqe(l):\n",
        "  uniqe_list=[]\n",
        "  for i in l:\n",
        "    if l.count(i) == 1:\n",
        "      uniqe_list.append(i)\n",
        "  return uniqe_list\n",
        "List2 = []\n",
        "List2 = uniqe(Sample_List)\n",
        "print(List2)\n"
      ]
    },
    {
      "cell_type": "code",
      "execution_count": null,
      "metadata": {
        "colab": {
          "base_uri": "https://localhost:8080/"
        },
        "id": "rGpcscBgBtoE",
        "outputId": "6940df7c-21c5-448c-da56-4ed5dcdd3742"
      },
      "outputs": [
        {
          "output_type": "stream",
          "name": "stdout",
          "text": [
            "[1, 2, 5, 4, 1] The first and last number of the list is same\n"
          ]
        }
      ],
      "source": [
        "#Q6 Given a list of numbers, return True if first\n",
        "#and last number of a list is same\n",
        "list1=[1,2,5,4,1]\n",
        "list2=[5,6,3,2,1]\n",
        "list3=[88,44,55,66,77,88]\n",
        "def first_last(l):\n",
        "  if l[0] == l[-1]:\n",
        "    return True\n",
        "  else:\n",
        "    return False\n",
        "if first_last(list1):\n",
        "  print(list1,\"The first and last number of the list is same\")\n",
        "else:\n",
        "  print(\"The first and last number of the list is not same\")\n"
      ]
    }
  ],
  "metadata": {
    "kernelspec": {
      "display_name": "Python 3 (ipykernel)",
      "language": "python",
      "name": "python3"
    },
    "language_info": {
      "codemirror_mode": {
        "name": "ipython",
        "version": 3
      },
      "file_extension": ".py",
      "mimetype": "text/x-python",
      "name": "python",
      "nbconvert_exporter": "python",
      "pygments_lexer": "ipython3",
      "version": "3.9.12"
    },
    "colab": {
      "provenance": []
    }
  },
  "nbformat": 4,
  "nbformat_minor": 0
}