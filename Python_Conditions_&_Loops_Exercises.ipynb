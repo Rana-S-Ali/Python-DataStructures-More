{
  "cells": [
    {
      "cell_type": "markdown",
      "metadata": {
        "id": "yPIxrEjmxEUc"
      },
      "source": [
        "# Conditions & Loops Exercises"
      ]
    },
    {
      "cell_type": "code",
      "execution_count": null,
      "metadata": {
        "colab": {
          "base_uri": "https://localhost:8080/"
        },
        "id": "WFYTC_dyxEUe",
        "outputId": "ba04dd2f-69c6-44d3-a4c4-7c7400872707"
      },
      "outputs": [
        {
          "output_type": "stream",
          "name": "stdout",
          "text": [
            "60\n"
          ]
        }
      ],
      "source": [
        "#Q1 Given two integer numbers.\n",
        "#If any of the numbers are greater than 50 return their product,\n",
        "#else return their sum\n",
        "number1= 20\n",
        "number2= 40\n",
        "if number1>50 or number2>50:\n",
        "  print(number1*number2)\n",
        "else:\n",
        "  print(number1+number2)\n"
      ]
    },
    {
      "cell_type": "code",
      "execution_count": null,
      "metadata": {
        "colab": {
          "base_uri": "https://localhost:8080/"
        },
        "id": "b-Io5OcSxEUf",
        "outputId": "b911a1ad-c6b8-489f-bdd2-0d01c1952775"
      },
      "outputs": [
        {
          "output_type": "stream",
          "name": "stdout",
          "text": [
            "the first and last elemnts are the same\n"
          ]
        }
      ],
      "source": [
        "#Q2 Given a list of numbers,\n",
        "#return True if first and last number of a list is same\n",
        "list=[1,2,5,4,1]\n",
        "if list[0] == list [-1] :\n",
        "   print(\"the first and last elemnts are the same\")\n",
        "else : print(\"the first and last elemnts are not the same\")\n"
      ]
    },
    {
      "cell_type": "code",
      "execution_count": null,
      "metadata": {
        "colab": {
          "base_uri": "https://localhost:8080/"
        },
        "id": "pjcY3hY8xEUf",
        "outputId": "71f055eb-8e34-408b-c46a-7281d6387e41"
      },
      "outputs": [
        {
          "output_type": "stream",
          "name": "stdout",
          "text": [
            "1\n",
            "3\n",
            "5\n",
            "7\n",
            "9\n",
            "11\n",
            "13\n",
            "15\n",
            "17\n"
          ]
        }
      ],
      "source": [
        "#Q3 Given a range of the first 10 numbers[1:10],\n",
        "#Iterate from the start number to the end number,\n",
        "#and In each iteration print the sum of the current number and previous number\n",
        "for i in range(1,10):\n",
        "  print(i+(i-1))"
      ]
    },
    {
      "cell_type": "code",
      "execution_count": null,
      "metadata": {
        "colab": {
          "base_uri": "https://localhost:8080/"
        },
        "id": "RKjtd1_WxEUg",
        "outputId": "e97a73fe-c9b9-4d37-a27f-8ce7ef1b71e8"
      },
      "outputs": [
        {
          "output_type": "stream",
          "name": "stdout",
          "text": [
            "N\n",
            "o\n",
            "e\n",
            "C\n",
            "n\n",
            "d\n"
          ]
        }
      ],
      "source": [
        "#Q4 Given a string name,\n",
        "#display only those characters which are present at an even index number\n",
        "name=\"NPowerCanada\"\n",
        "for i in range(0,len(name)):\n",
        "  if i%2 == 0 :\n",
        "    print(name[i])"
      ]
    },
    {
      "cell_type": "code",
      "execution_count": null,
      "metadata": {
        "colab": {
          "base_uri": "https://localhost:8080/"
        },
        "id": "KZ7ugdRJxEUg",
        "outputId": "69ecd593-da12-40e8-ec8e-3cf08f1fedd9"
      },
      "outputs": [
        {
          "output_type": "stream",
          "name": "stdout",
          "text": [
            "Course\n"
          ]
        }
      ],
      "source": [
        "#Q5 Given a string oldString and an integer number n,\n",
        "#remove characters from a string starting from zero up to n\n",
        "#and return a newString\n",
        "oldString=\"PythonCourse\"\n",
        "n=6\n",
        "newString = oldString[n:]\n",
        "print(newString)\n",
        "\n"
      ]
    },
    {
      "cell_type": "code",
      "execution_count": null,
      "metadata": {
        "colab": {
          "base_uri": "https://localhost:8080/"
        },
        "id": "a0mmtRmKxEUg",
        "outputId": "9ef4b536-af1d-4dfa-f497-d0ead42fe4b3"
      },
      "outputs": [
        {
          "output_type": "stream",
          "name": "stdout",
          "text": [
            "*\n",
            "\n",
            "**\n",
            "\n",
            "***\n",
            "\n",
            "****\n",
            "\n"
          ]
        }
      ],
      "source": [
        "#Q6 Print the follwoing pattern\n",
        "\n",
        "#*\n",
        "#**\n",
        "#***\n",
        "#****\n",
        "n=5\n",
        "for i in range(1,n):\n",
        "  for j in range(1,i+1):\n",
        "    print(\"*\",end=\"\")\n",
        "  print(\"\\n\")\n"
      ]
    },
    {
      "cell_type": "code",
      "execution_count": null,
      "metadata": {
        "colab": {
          "base_uri": "https://localhost:8080/"
        },
        "id": "USCIQB-LxEUg",
        "outputId": "4708d118-018b-49ad-905f-25ede3cf8f62"
      },
      "outputs": [
        {
          "output_type": "stream",
          "name": "stdout",
          "text": [
            "[60, 50, 70, 90]\n"
          ]
        }
      ],
      "source": [
        "#Q7 Reverse the following list using for loop\n",
        "list1=[90,70,50,60]\n",
        "#list1.reverse()\n",
        "list2 = []\n",
        "length = len(list1)\n",
        "for i in range(-1, -length-1,-1):\n",
        "  list2.append(list1[i])\n",
        "print(list2)"
      ]
    },
    {
      "cell_type": "code",
      "execution_count": null,
      "metadata": {
        "colab": {
          "base_uri": "https://localhost:8080/"
        },
        "id": "kfq2CUBkxEUg",
        "outputId": "7a799e6e-d7ee-44e8-9e9b-8b03970ec826"
      },
      "outputs": [
        {
          "output_type": "stream",
          "name": "stdout",
          "text": [
            "-10\n",
            "-9\n",
            "-8\n",
            "-7\n",
            "-6\n",
            "-5\n",
            "-4\n",
            "-3\n",
            "-2\n",
            "-1\n"
          ]
        }
      ],
      "source": [
        "#Q8 Display numbers from -10 to -1 using for loop\n",
        "#[hint use range method]\n",
        "for i in range(-10,0):\n",
        "  print(i)"
      ]
    },
    {
      "cell_type": "code",
      "source": [
        "x = 1\n",
        "x = x > 5\n",
        "print (x)"
      ],
      "metadata": {
        "id": "70xS9RZmKYcn",
        "outputId": "1dd4eee4-49af-405e-e7a3-51b512d56a17",
        "colab": {
          "base_uri": "https://localhost:8080/"
        }
      },
      "execution_count": null,
      "outputs": [
        {
          "output_type": "stream",
          "name": "stdout",
          "text": [
            "False\n"
          ]
        }
      ]
    }
  ],
  "metadata": {
    "kernelspec": {
      "display_name": "Python 3 (ipykernel)",
      "language": "python",
      "name": "python3"
    },
    "language_info": {
      "codemirror_mode": {
        "name": "ipython",
        "version": 3
      },
      "file_extension": ".py",
      "mimetype": "text/x-python",
      "name": "python",
      "nbconvert_exporter": "python",
      "pygments_lexer": "ipython3",
      "version": "3.9.12"
    },
    "colab": {
      "provenance": []
    }
  },
  "nbformat": 4,
  "nbformat_minor": 0
}