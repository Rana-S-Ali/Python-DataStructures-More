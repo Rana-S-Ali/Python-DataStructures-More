{
  "cells": [
    {
      "cell_type": "markdown",
      "metadata": {
        "id": "-F3ByrWC9K7k"
      },
      "source": [
        "# Python Lists Exercises"
      ]
    },
    {
      "cell_type": "code",
      "execution_count": null,
      "metadata": {
        "id": "aYzTyWgE9K7l"
      },
      "outputs": [],
      "source": [
        "#Q1 Create a tuple with all participant names in the JDA program\n",
        "JDA_tuple = (\"Abolaji\", \"Aditya\", \"Ahmed Uddin\", \"Amandeep\", \"Amen Abera\", \"Anshika\", \"Ayush\",\n",
        "             \"Charandeep\",\"Rana\",\"Rinkel\",\"Ridet\",\"Rohnet\",\"Rosty\",\"Josiphine\",\"Savpreet\",\"Nimmy Augustine\",\n",
        "             \"Nirajan Shrestha\", \"Ogaga Umurhohwo\", \"Oleh Koval\", \"Parisa Roozgarian\",\n",
        "             \"Prabhjeet Kaur Hothi\", \"Prabu Padmavathy Madhavan\", \"Prathyusha Devireddy\"\n",
        "              \"Dylan Mahyuddin\",\n",
        "    \"Esther Efunkomaya\",\n",
        "    \"Geeta Tawniya\",\n",
        "    \"Gowshalini Athavan\",\n",
        "    \"Guohui WanHarsh\" ,\"Nakrani\",\n",
        "    \"Hasib Chowdhury\",\n",
        "    \"Hoang Lan Tang\",\n",
        "    \"Iuliia Moroz\",\n",
        "    \"Jaskiran Kaur Saini\",\n",
        "    \"Zubair Mohammed Iftekhar\",\n",
        "    \"Johanna Andrea\",\"Romero Munar\",\n",
        "    \"Joshua Joachimpilla\",\n",
        "    \"Kamrun Naher\",\n",
        "     \"Dylan Mahyuddin\",\n",
        "    \"Esther Efunkomaya\",\n",
        "    \"Geeta Tawniya\",\n",
        "    \"Gowshalini Athavan\",\n",
        "    \"Guohui WanHarsh Nakrani\",\n",
        "    \"Hasib Chowdhury\",\n",
        "    \"Hoang Lan Tang\",\n",
        "    \"Iuliia Moroz\",\n",
        "    \"Jaskiran Kaur Saini\",\n",
        "    \"Zubair Mohammed Iftekhar\",\n",
        "    \"Johanna Andrea Romero Munar\",\n",
        "    \"Joshua Joachimpilla\",\n",
        "    \"Kamrun Naher\",\n",
        "    \"Charandeep Singh\",\"Makan\",\n",
        "    \"Deepasri Subramaniyam\",\n",
        "    \"Dhruvilkumar Patel\",\n",
        "    \"Dinglyu\", \"Feng Dinnghel\",\n",
        "    \"Tesfagiorges\", \"Dolly Sukhadiya\"\n",
        "             )\n",
        "\n"
      ]
    },
    {
      "cell_type": "code",
      "execution_count": null,
      "metadata": {
        "id": "xePQxTAG9K7m"
      },
      "outputs": [],
      "source": [
        "#Q2 Convert the tuple into a list called pps_L\n",
        "pps_L = list(JDA_tuple)"
      ]
    },
    {
      "cell_type": "code",
      "execution_count": null,
      "metadata": {
        "colab": {
          "base_uri": "https://localhost:8080/"
        },
        "id": "6iu7eJzg9K7n",
        "outputId": "332fa1d6-6dae-4c87-e1ec-1d74de713f81"
      },
      "outputs": [
        {
          "output_type": "stream",
          "name": "stdout",
          "text": [
            "58\n"
          ]
        }
      ],
      "source": [
        "#Q3 What is the length of your list\n",
        "print(len(pps_L))"
      ]
    },
    {
      "cell_type": "code",
      "execution_count": null,
      "metadata": {
        "colab": {
          "base_uri": "https://localhost:8080/"
        },
        "id": "CnjFFLri9K7n",
        "outputId": "2d0dbe3d-fefd-4648-9afb-65531894b053"
      },
      "outputs": [
        {
          "output_type": "stream",
          "name": "stdout",
          "text": [
            "Amandeep\n",
            "Anshika\n",
            "Savpreet\n",
            "Iuliia Moroz\n",
            "Esther Efunkomaya\n"
          ]
        }
      ],
      "source": [
        "#Q4 Find the values stored in indexes [3],[5],[14],[30],[38]\n",
        "print(JDA_tuple[3])\n",
        "print(JDA_tuple[5])\n",
        "print(JDA_tuple[14])\n",
        "print(JDA_tuple[30])\n",
        "print(JDA_tuple[38])\n"
      ]
    },
    {
      "cell_type": "code",
      "execution_count": null,
      "metadata": {
        "colab": {
          "base_uri": "https://localhost:8080/"
        },
        "id": "3zleG81N9K7n",
        "outputId": "3e47baec-7b62-4522-e6c9-cddb892832af"
      },
      "outputs": [
        {
          "output_type": "stream",
          "name": "stdout",
          "text": [
            "Sarah is not in the list\n"
          ]
        }
      ],
      "source": [
        "#Q5 Check if \"Sarah\" is in the list\n",
        "if \"Sarah\" in pps_L:\n",
        "    print(\"Sarah is in the list\")\n",
        "else:\n",
        "    print(\"Sarah is not in the list\")"
      ]
    },
    {
      "cell_type": "code",
      "execution_count": null,
      "metadata": {
        "colab": {
          "base_uri": "https://localhost:8080/"
        },
        "id": "KyTxD0ow9K7n",
        "outputId": "bf1f43f6-1497-4ab6-b3c0-5c05b12058ab"
      },
      "outputs": [
        {
          "output_type": "stream",
          "name": "stdout",
          "text": [
            "['Abolaji', 'Aditya', 'Ahmed Uddin', 'Amandeep', 'Amen Abera', 'Anshika', 'Ayush', 'Charandeep', 'Rana', 'Rinkel', 'Ridet', 'Rohnet', 'Rosty', 'Josiphine', 'Savpreet', 'Nimmy Augustine', 'Nirajan Shrestha', 'Ogaga Umurhohwo', 'Oleh Koval', 'Parisa Roozgarian', 'Prabhjeet Kaur Hothi', 'Prabu Padmavathy Madhavan', 'Prathyusha DevireddyDylan Mahyuddin', 'Esther Efunkomaya', 'Geeta Tawniya', 'Gowshalini Athavan', 'Guohui WanHarsh', 'Nakrani', 'Hasib Chowdhury', 'Hoang Lan Tang', 'Iuliia Moroz', 'Jaskiran Kaur Saini', 'Zubair Mohammed Iftekhar', 'Johanna Andrea', 'Romero Munar', 'Joshua Joachimpilla', 'Kamrun Naher', 'Dylan Mahyuddin', 'Esther Efunkomaya', 'Geeta Tawniya', 'Gowshalini Athavan', 'Guohui WanHarsh Nakrani', 'Hasib Chowdhury', 'Hoang Lan Tang', 'Iuliia Moroz', 'Jaskiran Kaur Saini', 'Zubair Mohammed Iftekhar', 'Johanna Andrea Romero Munar', 'Joshua Joachimpilla', 'Kamrun Naher', 'Charandeep Singh', 'Makan', 'Deepasri Subramaniyam', 'Dhruvilkumar Patel', 'Dinglyu', 'Feng Dinnghel', 'Tesfagiorges', 'Dolly Sukhadiya', 'Sarah']\n"
          ]
        }
      ],
      "source": [
        "#Q6 Add \"Sarah\" to your list\n",
        "pps_L.append(\"Sarah\")\n",
        "print(pps_L)"
      ]
    },
    {
      "cell_type": "code",
      "execution_count": null,
      "metadata": {
        "colab": {
          "base_uri": "https://localhost:8080/"
        },
        "id": "ANgfgK_b9K7o",
        "outputId": "271309b9-3f48-40af-9bba-ff7f8334e9d7"
      },
      "outputs": [
        {
          "output_type": "stream",
          "name": "stdout",
          "text": [
            "Bashir is not in the list\n"
          ]
        }
      ],
      "source": [
        "#Q7 Check if \"Bashir\" is in the list\n",
        "if \"Bashir\" in pps_L:\n",
        "    print(\"Bashir is in the list\")\n",
        "else:\n",
        "    print(\"Bashir is not in the list\")"
      ]
    },
    {
      "cell_type": "code",
      "execution_count": null,
      "metadata": {
        "colab": {
          "base_uri": "https://localhost:8080/"
        },
        "id": "-tOKbQ0G9K7o",
        "outputId": "cc166398-fc0e-4e6d-871c-f5ecf67385f2"
      },
      "outputs": [
        {
          "output_type": "stream",
          "name": "stdout",
          "text": [
            "['Abolaji', 'Aditya', 'Ahmed Uddin', 'Amandeep', 'Amen Abera', 'Anshika', 'Ayush', 'Charandeep', 'Rana', 'Rinkel', 'Ridet', 'Rohnet', 'Rosty', 'Josiphine', 'Savpreet', 'Nimmy Augustine', 'Nirajan Shrestha', 'Ogaga Umurhohwo', 'Oleh Koval', 'Parisa Roozgarian', 'Prabhjeet Kaur Hothi', 'Prabu Padmavathy Madhavan', 'Prathyusha DevireddyDylan Mahyuddin', 'Esther Efunkomaya', 'Geeta Tawniya', 'Gowshalini Athavan', 'Guohui WanHarsh', 'Nakrani', 'Hasib Chowdhury', 'Hoang Lan Tang', 'Iuliia Moroz', 'Jaskiran Kaur Saini', 'Zubair Mohammed Iftekhar', 'Johanna Andrea', 'Romero Munar', 'Joshua Joachimpilla', 'Kamrun Naher', 'Dylan Mahyuddin', 'Esther Efunkomaya', 'Geeta Tawniya', 'Gowshalini Athavan', 'Guohui WanHarsh Nakrani', 'Hasib Chowdhury', 'Hoang Lan Tang', 'Iuliia Moroz', 'Jaskiran Kaur Saini', 'Zubair Mohammed Iftekhar', 'Johanna Andrea Romero Munar', 'Joshua Joachimpilla', 'Kamrun Naher', 'Charandeep Singh', 'Makan', 'Deepasri Subramaniyam', 'Dhruvilkumar Patel', 'Dinglyu', 'Feng Dinnghel', 'Tesfagiorges', 'Dolly Sukhadiya', 'Sarah', 'Bashir']\n"
          ]
        }
      ],
      "source": [
        "#Q9 Add \"Bashir\" to your list\n",
        "pps_L.append(\"Bashir\")\n",
        "print(pps_L)\n"
      ]
    },
    {
      "cell_type": "code",
      "execution_count": null,
      "metadata": {
        "colab": {
          "base_uri": "https://localhost:8080/"
        },
        "id": "o5QhgF3a9K7o",
        "outputId": "3685c4af-2e58-43e2-891b-3b34e10bd9b3"
      },
      "outputs": [
        {
          "output_type": "stream",
          "name": "stdout",
          "text": [
            "58\n"
          ]
        }
      ],
      "source": [
        "#Q10 Find the index of the element \"Sarah\" in the list\n",
        "print(pps_L.index(\"Sarah\"))\n"
      ]
    },
    {
      "cell_type": "code",
      "execution_count": null,
      "metadata": {
        "colab": {
          "base_uri": "https://localhost:8080/"
        },
        "id": "K3feh3Uu9K7o",
        "outputId": "ca9ec87f-f673-4fe3-ad10-0dd19c420a48"
      },
      "outputs": [
        {
          "output_type": "stream",
          "name": "stdout",
          "text": [
            "['Abolaji', 'Aditya', 'Ahmed Uddin', 'Amandeep', 'Amen Abera', 'Anshika', 'Ayush', 'Charandeep', 'Rana', 'Rinkel', 'Ridet', 'Rohnet', 'Rosty', 'Josiphine', 'Savpreet', 'Nimmy Augustine', 'Nirajan Shrestha', 'Ogaga Umurhohwo', 'Oleh Koval', 'Parisa Roozgarian', 'Prabhjeet Kaur Hothi', 'Prabu Padmavathy Madhavan', 'Prathyusha DevireddyDylan Mahyuddin', 'Esther Efunkomaya', 'Geeta Tawniya', 'Gowshalini Athavan', 'Guohui WanHarsh', 'Nakrani', 'Hasib Chowdhury', 'Hoang Lan Tang', 'Iuliia Moroz', 'Jaskiran Kaur Saini', 'Zubair Mohammed Iftekhar', 'Johanna Andrea', 'Romero Munar', 'Joshua Joachimpilla', 'Kamrun Naher', 'Dylan Mahyuddin', 'Esther Efunkomaya', 'Geeta Tawniya', 'Gowshalini Athavan', 'Guohui WanHarsh Nakrani', 'Hasib Chowdhury', 'Hoang Lan Tang', 'Iuliia Moroz', 'Jaskiran Kaur Saini', 'Zubair Mohammed Iftekhar', 'Johanna Andrea Romero Munar', 'Joshua Joachimpilla', 'Kamrun Naher', 'Charandeep Singh', 'Makan', 'Deepasri Subramaniyam', 'Dhruvilkumar Patel', 'Dinglyu', 'Feng Dinnghel', 'Tesfagiorges', 'Dolly Sukhadiya', 'Instructor', 'Bashir']\n"
          ]
        }
      ],
      "source": [
        "#Q11 Change the value of the index in Q10 from \"Sarah\" to \"Instructor\"\n",
        "index = pps_L.index(\"Sarah\")\n",
        "pps_L[index] = \"Instructor\"\n",
        "print(pps_L)"
      ]
    },
    {
      "cell_type": "code",
      "execution_count": null,
      "metadata": {
        "colab": {
          "base_uri": "https://localhost:8080/"
        },
        "id": "2YYWB-Uc9K7p",
        "outputId": "50f3a072-f7da-4d4e-bfe1-3def5945291b"
      },
      "outputs": [
        {
          "output_type": "stream",
          "name": "stdout",
          "text": [
            "59\n"
          ]
        }
      ],
      "source": [
        "#Q12 Find the index of the element \"Bashir\" in the list\n",
        "index2 = pps_L.index(\"Bashir\")\n",
        "print(index2)"
      ]
    },
    {
      "cell_type": "code",
      "execution_count": null,
      "metadata": {
        "colab": {
          "base_uri": "https://localhost:8080/"
        },
        "id": "umy2HU5c9K7p",
        "outputId": "24e174e6-2d0f-462d-d85f-ee1c3383db8e"
      },
      "outputs": [
        {
          "output_type": "stream",
          "name": "stdout",
          "text": [
            "['Abolaji', 'Aditya', 'Ahmed Uddin', 'Amandeep', 'Amen Abera', 'Anshika', 'Ayush', 'Charandeep', 'Rana', 'Rinkel', 'Ridet', 'Rohnet', 'Rosty', 'Josiphine', 'Savpreet', 'Nimmy Augustine', 'Nirajan Shrestha', 'Ogaga Umurhohwo', 'Oleh Koval', 'Parisa Roozgarian', 'Prabhjeet Kaur Hothi', 'Prabu Padmavathy Madhavan', 'Prathyusha DevireddyDylan Mahyuddin', 'Esther Efunkomaya', 'Geeta Tawniya', 'Gowshalini Athavan', 'Guohui WanHarsh', 'Nakrani', 'Hasib Chowdhury', 'Hoang Lan Tang', 'Iuliia Moroz', 'Jaskiran Kaur Saini', 'Zubair Mohammed Iftekhar', 'Johanna Andrea', 'Romero Munar', 'Joshua Joachimpilla', 'Kamrun Naher', 'Dylan Mahyuddin', 'Esther Efunkomaya', 'Geeta Tawniya', 'Gowshalini Athavan', 'Guohui WanHarsh Nakrani', 'Hasib Chowdhury', 'Hoang Lan Tang', 'Iuliia Moroz', 'Jaskiran Kaur Saini', 'Zubair Mohammed Iftekhar', 'Johanna Andrea Romero Munar', 'Joshua Joachimpilla', 'Kamrun Naher', 'Charandeep Singh', 'Makan', 'Deepasri Subramaniyam', 'Dhruvilkumar Patel', 'Dinglyu', 'Feng Dinnghel', 'Tesfagiorges', 'Dolly Sukhadiya', 'Instructor', 'Peer-Mentor']\n"
          ]
        }
      ],
      "source": [
        "#Q13 Change the value of the index in Q12 from \"Bashir\" to \"Peer-Mentor\"\n",
        "index2 = pps_L.index(\"Bashir\")\n",
        "pps_L[index2] = \"Peer-Mentor\"\n",
        "print(pps_L)\n"
      ]
    }
  ],
  "metadata": {
    "kernelspec": {
      "display_name": "Python 3 (ipykernel)",
      "language": "python",
      "name": "python3"
    },
    "language_info": {
      "codemirror_mode": {
        "name": "ipython",
        "version": 3
      },
      "file_extension": ".py",
      "mimetype": "text/x-python",
      "name": "python",
      "nbconvert_exporter": "python",
      "pygments_lexer": "ipython3",
      "version": "3.9.12"
    },
    "colab": {
      "provenance": []
    }
  },
  "nbformat": 4,
  "nbformat_minor": 0
}