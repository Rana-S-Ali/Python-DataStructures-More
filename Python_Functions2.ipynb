{
  "nbformat": 4,
  "nbformat_minor": 0,
  "metadata": {
    "colab": {
      "provenance": []
    },
    "kernelspec": {
      "name": "python3",
      "display_name": "Python 3"
    },
    "language_info": {
      "name": "python"
    }
  },
  "cells": [
    {
      "cell_type": "code",
      "source": [
        "def greet(name):\n",
        "    print(\"Hello, \" + name)\n",
        "result = greet(\"Alice\")\n",
        "print(\"result=\",result)  # Output: Hello, Alice"
      ],
      "metadata": {
        "colab": {
          "base_uri": "https://localhost:8080/"
        },
        "id": "W8vZaPQGe_q4",
        "outputId": "58238737-5cc4-4367-a838-1ebcad8bdc5c"
      },
      "execution_count": 4,
      "outputs": [
        {
          "output_type": "stream",
          "name": "stdout",
          "text": [
            "Hello, Alice\n",
            "result= None\n"
          ]
        }
      ]
    },
    {
      "cell_type": "code",
      "source": [
        "def greet(name):\n",
        "    return \"Hello, \" + name\n",
        "for x in range(3):\n",
        "    print(f\"{x} {greet('Alice')}\")"
      ],
      "metadata": {
        "colab": {
          "base_uri": "https://localhost:8080/"
        },
        "id": "9TBB8PpngjdH",
        "outputId": "67812ece-ef27-4be4-e2e6-c2c7781ca84a"
      },
      "execution_count": 8,
      "outputs": [
        {
          "output_type": "stream",
          "name": "stdout",
          "text": [
            "0 Hello, Alice\n",
            "1 Hello, Alice\n",
            "2 Hello, Alice\n"
          ]
        }
      ]
    },
    {
      "cell_type": "code",
      "source": [
        "def greet(name):\n",
        "    return \"Hello, \" + name\n",
        "for _ in range(3):\n",
        "    print(greet('Alice'))"
      ],
      "metadata": {
        "colab": {
          "base_uri": "https://localhost:8080/"
        },
        "id": "PPtaTzKqg9QV",
        "outputId": "b23bee55-e448-4b07-d7f8-15cd1580326c"
      },
      "execution_count": 9,
      "outputs": [
        {
          "output_type": "stream",
          "name": "stdout",
          "text": [
            "Hello, Alice\n",
            "Hello, Alice\n",
            "Hello, Alice\n"
          ]
        }
      ]
    },
    {
      "cell_type": "code",
      "source": [
        "len([sum([1,1,1])])\n"
      ],
      "metadata": {
        "colab": {
          "base_uri": "https://localhost:8080/"
        },
        "id": "gr2yCkyIhmer",
        "outputId": "095bcdb7-1d85-43da-f7f5-6e90e298a222"
      },
      "execution_count": 10,
      "outputs": [
        {
          "output_type": "execute_result",
          "data": {
            "text/plain": [
              "1"
            ]
          },
          "metadata": {},
          "execution_count": 10
        }
      ]
    },
    {
      "cell_type": "code",
      "source": [
        "L=[1,3,2]\n",
        "\n",
        "sorted(L)\n",
        "print(L)"
      ],
      "metadata": {
        "colab": {
          "base_uri": "https://localhost:8080/"
        },
        "id": "of8PD1aOhmXm",
        "outputId": "62ce967c-cdda-4ee0-a64d-df9f20b8b494"
      },
      "execution_count": 11,
      "outputs": [
        {
          "output_type": "stream",
          "name": "stdout",
          "text": [
            "[1, 3, 2]\n"
          ]
        }
      ]
    },
    {
      "cell_type": "code",
      "source": [
        "def print_function(A):\n",
        "    for a in A:\n",
        "        print(a + '1')\n",
        "print_function(['a', 'b', 'c'])"
      ],
      "metadata": {
        "colab": {
          "base_uri": "https://localhost:8080/"
        },
        "id": "oC0JHkl6iB-9",
        "outputId": "e49b8d82-74c9-49d5-99fe-d630264d3a35"
      },
      "execution_count": 12,
      "outputs": [
        {
          "output_type": "stream",
          "name": "stdout",
          "text": [
            "a1\n",
            "b1\n",
            "c1\n"
          ]
        }
      ]
    },
    {
      "cell_type": "code",
      "source": [
        "# Define an empty list as the initial data structure\n",
        "my_list = []\n",
        "# Function to add an element to the list\n",
        "def add_element(data_structure, element):\n",
        "    data_structure.append(element)\n",
        "    print(f\"Added {element} to the list.\")\n",
        "# Function to remove an element from the list\n",
        "def remove_element(data_structure, element):\n",
        "    if element in data_structure:\n",
        "        data_structure.remove(element)\n",
        "        print(f\"Removed {element} from the list.\")\n",
        "    else:\n",
        "        print(f\"{element} not found in the list.\")\n",
        "my_list = [1, 2, 3]\n",
        "print(my_list)  # Output: [1, 2, 3]\n",
        "add_element(my_list, 4)  # Output: Added 4 to the list.\n",
        "print(my_list)  # Output: [1, 2, 3, 4]\n",
        "remove_element(my_list, 2)  # Output: Removed 2 from the list.\n",
        "print(my_list)  # Output: [1, 3, 4]"
      ],
      "metadata": {
        "colab": {
          "base_uri": "https://localhost:8080/"
        },
        "id": "sr1Bdj80iL9k",
        "outputId": "41dbebcb-ae4e-414a-f7ac-1b2c7e5bcac9"
      },
      "execution_count": 14,
      "outputs": [
        {
          "output_type": "stream",
          "name": "stdout",
          "text": [
            "[1, 2, 3]\n",
            "Added 4 to the list.\n",
            "[1, 2, 3, 4]\n",
            "Removed 2 from the list.\n",
            "[1, 3, 4]\n"
          ]
        }
      ]
    },
    {
      "cell_type": "code",
      "source": [
        "# First function example: Add 1 to a and store as b\n",
        "\n",
        "def add(a):\n",
        "    \"\"\"\n",
        "    add 1 to a\n",
        "    \"\"\"\n",
        "    b = a + 1\n",
        "    print(a, \"if you add one\", b)\n",
        "    return(b)\n",
        "add(2)\n",
        "help(add)"
      ],
      "metadata": {
        "colab": {
          "base_uri": "https://localhost:8080/"
        },
        "id": "2v9_oAGplNfo",
        "outputId": "2035a8c8-7e9a-404d-8f12-c88d1bd9b8ec"
      },
      "execution_count": 17,
      "outputs": [
        {
          "output_type": "stream",
          "name": "stdout",
          "text": [
            "2 if you add one 3\n",
            "Help on function add in module __main__:\n",
            "\n",
            "add(a)\n",
            "    add 1 to a\n",
            "\n"
          ]
        }
      ]
    },
    {
      "cell_type": "code",
      "source": [
        "# Define a function for multiple two numbers\n",
        "\n",
        "def Mult(a, b):\n",
        "    c = a * b\n",
        "    return(c)\n",
        "    print('This is not printed')\n",
        "\n",
        "result = Mult(12,2)\n",
        "print(result)\n",
        "re= Mult(2,\"Hello \")\n",
        "print(re)"
      ],
      "metadata": {
        "colab": {
          "base_uri": "https://localhost:8080/"
        },
        "id": "HUNP0OUpxnga",
        "outputId": "0e675d9d-8cfc-4aa7-f815-75a4b3180151"
      },
      "execution_count": 19,
      "outputs": [
        {
          "output_type": "stream",
          "name": "stdout",
          "text": [
            "24\n",
            "Hello Hello \n"
          ]
        }
      ]
    },
    {
      "cell_type": "code",
      "source": [
        "# Python Program to Count words in a String using Dictionary\n",
        "def freq(string):\n",
        "\n",
        "    #step1: A list variable is declared and initialized to an empty list.\n",
        "    words = []\n",
        "\n",
        "    #step2: Break the string into list of words\n",
        "    words = string.lower().split() # or string.lower().split()\n",
        "    print(words)\n",
        "    #step3: Declare a dictionary\n",
        "    Dict = {}\n",
        "    words2 = set(words)\n",
        "    print(words2)\n",
        "    #step4: Use for loop to iterate words and values to the dictionary\n",
        "    for key in words2:\n",
        "        Dict[key] = words.count(key)\n",
        "\n",
        "    #step5: Print the dictionary\n",
        "    print(\"The Frequency of words is:\",Dict)\n",
        "\n",
        "#step6: Call function and pass string in it\n",
        "freq(\"Mary had a little lamb Little lamb, little lamb Mary had a little lamb.Its fleece was white as snow And everywhere that Mary went Mary went, Mary went \\\n",
        "Everywhere that Mary went The lamb was sure to go\")"
      ],
      "metadata": {
        "colab": {
          "base_uri": "https://localhost:8080/"
        },
        "id": "89AMYx7y1pWs",
        "outputId": "b89e3f95-8118-46cf-ec7c-74f5574e0227"
      },
      "execution_count": 23,
      "outputs": [
        {
          "output_type": "stream",
          "name": "stdout",
          "text": [
            "['mary', 'had', 'a', 'little', 'lamb', 'little', 'lamb,', 'little', 'lamb', 'mary', 'had', 'a', 'little', 'lamb.its', 'fleece', 'was', 'white', 'as', 'snow', 'and', 'everywhere', 'that', 'mary', 'went', 'mary', 'went,', 'mary', 'went', 'everywhere', 'that', 'mary', 'went', 'the', 'lamb', 'was', 'sure', 'to', 'go']\n",
            "{'lamb.its', 'to', 'sure', 'and', 'everywhere', 'a', 'went,', 'was', 'lamb,', 'that', 'mary', 'white', 'had', 'snow', 'the', 'go', 'lamb', 'little', 'went', 'as', 'fleece'}\n",
            "The Frequency of words is: {'lamb.its': 1, 'to': 1, 'sure': 1, 'and': 1, 'everywhere': 2, 'a': 2, 'went,': 1, 'was': 2, 'lamb,': 1, 'that': 2, 'mary': 6, 'white': 1, 'had': 2, 'snow': 1, 'the': 1, 'go': 1, 'lamb': 3, 'little': 4, 'went': 3, 'as': 1, 'fleece': 1}\n"
          ]
        }
      ]
    },
    {
      "cell_type": "code",
      "source": [
        "def printAll(*args): # All the arguments are 'packed' into args which can be treated like a tuple\n",
        "    print(\"No of arguments:\", len(args))\n",
        "    for argument in args:\n",
        "        print(argument)\n",
        "#printAll with 3 arguments\n",
        "printAll('Horsefeather','Adonis','Bone')\n",
        "#printAll with 4 arguments\n",
        "printAll('Sidecar','Long Island','Mudslide','Carriage')"
      ],
      "metadata": {
        "colab": {
          "base_uri": "https://localhost:8080/"
        },
        "id": "EMvdLJOA4aEe",
        "outputId": "64326c85-490b-400f-f227-f93884a45ec9"
      },
      "execution_count": 24,
      "outputs": [
        {
          "output_type": "stream",
          "name": "stdout",
          "text": [
            "No of arguments: 3\n",
            "Horsefeather\n",
            "Adonis\n",
            "Bone\n",
            "No of arguments: 4\n",
            "Sidecar\n",
            "Long Island\n",
            "Mudslide\n",
            "Carriage\n"
          ]
        }
      ]
    },
    {
      "cell_type": "code",
      "source": [
        "def printDictionary(**args):\n",
        "    for key in args:\n",
        "        print(key + \" : \" + args[key])\n",
        "\n",
        "printDictionary(Country='Canada',Province='Ontario',City='Toronto')"
      ],
      "metadata": {
        "colab": {
          "base_uri": "https://localhost:8080/"
        },
        "id": "Qwu_SLrR4ycG",
        "outputId": "c9ae7da9-ef5f-421e-9ee9-37906e04b278"
      },
      "execution_count": 28,
      "outputs": [
        {
          "output_type": "stream",
          "name": "stdout",
          "text": [
            "Country : Canada\n",
            "Province : Ontario\n",
            "City : Toronto\n"
          ]
        }
      ]
    },
    {
      "cell_type": "code",
      "source": [
        "def printDictionary(**args):\n",
        "    for key, value in args.items():\n",
        "      print(f\"{key} : {value}\")\n",
        "# address_dic = {\"Country\": \"Canada\", \"Province\": \"Ontario\", \"City\": \"Toronto\"}\n",
        "# printDictionary(address_dic)\n",
        "printDictionary(Country='Canada',Province='Ontario',City='Toronto')\n"
      ],
      "metadata": {
        "colab": {
          "base_uri": "https://localhost:8080/"
        },
        "id": "WxPWcVls5dII",
        "outputId": "10e63316-af21-47d8-a56d-716dfc163927"
      },
      "execution_count": 30,
      "outputs": [
        {
          "output_type": "stream",
          "name": "stdout",
          "text": [
            "Country : Canada\n",
            "Province : Ontario\n",
            "City : Toronto\n"
          ]
        }
      ]
    }
  ]
}