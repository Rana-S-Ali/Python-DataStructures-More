{
  "metadata": {
    "kernelspec": {
      "name": "python",
      "display_name": "Python (Pyodide)",
      "language": "python"
    },
    "language_info": {
      "codemirror_mode": {
        "name": "python",
        "version": 3
      },
      "file_extension": ".py",
      "mimetype": "text/x-python",
      "name": "python",
      "nbconvert_exporter": "python",
      "pygments_lexer": "ipython3",
      "version": "3.8"
    },
    "colab": {
      "provenance": [],
      "toc_visible": true
    }
  },
  "nbformat_minor": 0,
  "nbformat": 4,
  "cells": [
    {
      "cell_type": "markdown",
      "source": [
        "# Python Basics NoteBook"
      ],
      "metadata": {
        "id": "5-jRnf59VFzd"
      }
    },
    {
      "cell_type": "code",
      "source": [
        "#Write a Python code to return your Python version\n",
        "import sys\n",
        "print(sys.version)\n"
      ],
      "metadata": {
        "trusted": true,
        "colab": {
          "base_uri": "https://localhost:8080/"
        },
        "id": "eeE6hMWxVFzi",
        "outputId": "8456bd66-7647-4366-ba69-309d3c17ace9"
      },
      "outputs": [
        {
          "output_type": "stream",
          "name": "stdout",
          "text": [
            "3.10.12 (main, Nov 20 2023, 15:14:05) [GCC 11.4.0]\n"
          ]
        }
      ],
      "execution_count": null
    },
    {
      "cell_type": "code",
      "source": [
        "#Write a Python code to declare variable id=\"513\".\n",
        "id = \"513\"\n",
        "#Print the following statement \"customer id =513\". [Don't use print(\"customer id =513\")]\n",
        "print(\"customer id =\",id)\n"
      ],
      "metadata": {
        "trusted": true,
        "colab": {
          "base_uri": "https://localhost:8080/"
        },
        "id": "pmfObiDwVFzk",
        "outputId": "62eac58c-12b9-4144-87a3-c6e539c8634a"
      },
      "outputs": [
        {
          "output_type": "stream",
          "name": "stdout",
          "text": [
            "customer id = 513\n"
          ]
        }
      ],
      "execution_count": null
    },
    {
      "cell_type": "code",
      "source": [
        "#Run the following statement, why there is an error\n",
        "# because we did not assign a value for id before using it\n",
        "\n",
        "id=id+\"1\"\n",
        "print(id)"
      ],
      "metadata": {
        "trusted": true,
        "colab": {
          "base_uri": "https://localhost:8080/"
        },
        "id": "Cj66gU2RVFzl",
        "outputId": "7bb870e2-a2f5-437e-fe40-3fd5e9e98c3e"
      },
      "outputs": [
        {
          "output_type": "stream",
          "name": "stdout",
          "text": [
            "5131\n"
          ]
        }
      ],
      "execution_count": null
    },
    {
      "cell_type": "code",
      "source": [
        "#Convert the variable id into an integer, increment it by 1.\n",
        "#Assign the result to variable new_id.\n",
        "#Print the new_id\n",
        "new_id = int(id) + 1\n",
        "print(new_id)\n"
      ],
      "metadata": {
        "trusted": true,
        "colab": {
          "base_uri": "https://localhost:8080/"
        },
        "id": "Bn8ZCm0JVFzl",
        "outputId": "f0adf137-4416-4b07-801a-e699dcd90a41"
      },
      "outputs": [
        {
          "output_type": "stream",
          "name": "stdout",
          "text": [
            "5132\n"
          ]
        }
      ],
      "execution_count": null
    },
    {
      "cell_type": "code",
      "source": [
        "#Write a Python code to print the following string in a specific format (see the output).\n",
        "\n",
        "# Twinkle, twinkle, little star,\n",
        "#     How I wonder what you are!\n",
        "#        Up above the world so high,\n",
        "#            Like a diamond in the sky.\n",
        "\n",
        "print(\"Twinkle, twinkle, little star, \\n\")\n",
        "print(\"\\t How I wonder what you are!, \\n\")\n",
        "print(\"\\t\\t Up above the world so high,  \\n\")\n",
        "print(\"\\t\\t\\t Like a diamond in the sky.   \\n\")\n"
      ],
      "metadata": {
        "trusted": true,
        "colab": {
          "base_uri": "https://localhost:8080/"
        },
        "id": "47TLCVZXVFzl",
        "outputId": "97716341-b7fe-4353-a0f3-32e305490fca"
      },
      "outputs": [
        {
          "output_type": "stream",
          "name": "stdout",
          "text": [
            "Twinkle, twinkle, little star, \n",
            "\n",
            "\t How I wonder what you are!, \n",
            "\n",
            "\t\t Up above the world so high,  \n",
            "\n",
            "\t\t\t Like a diamond in the sky.   \n",
            "\n"
          ]
        }
      ],
      "execution_count": null
    },
    {
      "cell_type": "code",
      "source": [
        "#Givin the following string variable, # Print the first element in the string\n",
        "\n",
        "course=\"Python for Data Science\"\n",
        "print(course[0])\n"
      ],
      "metadata": {
        "trusted": true,
        "colab": {
          "base_uri": "https://localhost:8080/"
        },
        "id": "m_IEQv2sVFzm",
        "outputId": "e62dbd10-211d-4245-ee33-18a5bccfafa4"
      },
      "outputs": [
        {
          "output_type": "stream",
          "name": "stdout",
          "text": [
            "P\n"
          ]
        }
      ],
      "execution_count": null
    },
    {
      "cell_type": "code",
      "source": [
        "# Print the element on the 13th index in the string\n",
        "print(course[13])"
      ],
      "metadata": {
        "trusted": true,
        "colab": {
          "base_uri": "https://localhost:8080/"
        },
        "id": "W8Hf4YjPVFzm",
        "outputId": "08053a62-3c44-4189-c656-4d160e557251"
      },
      "outputs": [
        {
          "output_type": "stream",
          "name": "stdout",
          "text": [
            "t\n"
          ]
        }
      ],
      "execution_count": null
    },
    {
      "cell_type": "code",
      "source": [
        "# Find the length of string\n",
        "print(len(course))\n"
      ],
      "metadata": {
        "trusted": true,
        "colab": {
          "base_uri": "https://localhost:8080/"
        },
        "id": "usRpDGcJVFzm",
        "outputId": "68af6f75-d17d-4fb4-c901-0d19417c13a2"
      },
      "outputs": [
        {
          "output_type": "stream",
          "name": "stdout",
          "text": [
            "23\n"
          ]
        }
      ],
      "execution_count": null
    },
    {
      "cell_type": "code",
      "source": [
        "# Print the last element in the string [use negative index]\n",
        "print(course[-1])"
      ],
      "metadata": {
        "trusted": true,
        "colab": {
          "base_uri": "https://localhost:8080/"
        },
        "id": "oyd6zwRPVFzm",
        "outputId": "dd0fee09-0693-402c-b362-2e6306f7b3b1"
      },
      "outputs": [
        {
          "output_type": "stream",
          "name": "stdout",
          "text": [
            "e\n"
          ]
        }
      ],
      "execution_count": null
    },
    {
      "cell_type": "code",
      "source": [
        "# Take the slice on variable course with only index 11 to index 14\n",
        "print(course[11:15])"
      ],
      "metadata": {
        "trusted": true,
        "colab": {
          "base_uri": "https://localhost:8080/"
        },
        "id": "mtraamO2VFzn",
        "outputId": "529d27d3-363e-4fd1-c710-55956652ee68"
      },
      "outputs": [
        {
          "output_type": "stream",
          "name": "stdout",
          "text": [
            "Data\n"
          ]
        }
      ],
      "execution_count": null
    },
    {
      "cell_type": "code",
      "source": [
        "# Get every third element in the range from index 0 to index 20\n",
        "print(course[0:20:3])"
      ],
      "metadata": {
        "trusted": true,
        "colab": {
          "base_uri": "https://localhost:8080/"
        },
        "id": "znM1INsiVFzn",
        "outputId": "740f5d5a-3a13-421e-f199-fe68d3479223"
      },
      "outputs": [
        {
          "output_type": "stream",
          "name": "stdout",
          "text": [
            "Ph ra i\n"
          ]
        }
      ],
      "execution_count": null
    },
    {
      "cell_type": "code",
      "source": [
        "# Concatenate course string with \", AI & Development\"\n",
        "course1 = course + \", AI & Development\"\n",
        "print(course1)"
      ],
      "metadata": {
        "trusted": true,
        "colab": {
          "base_uri": "https://localhost:8080/"
        },
        "id": "_JCV9GyoVFzn",
        "outputId": "358e22d3-2cc6-4560-9c96-f4d9f3e7742a"
      },
      "outputs": [
        {
          "output_type": "stream",
          "name": "stdout",
          "text": [
            "Python for Data Science, AI & Development\n"
          ]
        }
      ],
      "execution_count": null
    },
    {
      "cell_type": "code",
      "source": [
        "# Replace all the spaces with (_). New string should looks like\"Python_for_Data_Science,_AI_&_Development\"\n",
        "course3 = course1.replace(\" \",\"_\")\n",
        "print(course3)"
      ],
      "metadata": {
        "trusted": true,
        "colab": {
          "base_uri": "https://localhost:8080/"
        },
        "id": "1GtL64X1VFzo",
        "outputId": "417a793f-294a-446c-a0ef-a5e26d1afc08"
      },
      "outputs": [
        {
          "output_type": "stream",
          "name": "stdout",
          "text": [
            "Python_for_Data_Science,_AI_&_Development\n"
          ]
        }
      ],
      "execution_count": null
    },
    {
      "cell_type": "code",
      "source": [
        "# Convert all the characters in string to upper case\n",
        "course4 = course.upper()\n",
        "print(course4)"
      ],
      "metadata": {
        "trusted": true,
        "colab": {
          "base_uri": "https://localhost:8080/"
        },
        "id": "-po3pQaFVFzo",
        "outputId": "6805ca32-5734-4fe3-ff05-2fa1984581cc"
      },
      "outputs": [
        {
          "output_type": "stream",
          "name": "stdout",
          "text": [
            "PYTHON FOR DATA SCIENCE\n"
          ]
        }
      ],
      "execution_count": null
    },
    {
      "cell_type": "code",
      "source": [
        "a = \"Thriller is the sixth studio album\"\n",
        "print(\"before upper:\", a)\n",
        "b = a.upper()\n",
        "print(\"After upper:\", b)"
      ],
      "metadata": {
        "colab": {
          "base_uri": "https://localhost:8080/"
        },
        "id": "g9igVcefbOYU",
        "outputId": "cefeccb3-871c-4dee-fd8d-eab8833c0f05"
      },
      "execution_count": null,
      "outputs": [
        {
          "output_type": "stream",
          "name": "stdout",
          "text": [
            "before upper: Thriller is the sixth studio album\n",
            "After upper: THRILLER IS THE SIXTH STUDIO ALBUM\n"
          ]
        }
      ]
    },
    {
      "cell_type": "code",
      "source": [
        "name = \"Michael Jackfon\"\n",
        "name.find('el')\n",
        "print(\"el is ound in :\",name.find('el'))"
      ],
      "metadata": {
        "trusted": true,
        "colab": {
          "base_uri": "https://localhost:8080/"
        },
        "id": "nJJznsbvVFzo",
        "outputId": "ede7cee2-8bc8-4805-d75e-8fefe12508a9"
      },
      "outputs": [
        {
          "output_type": "stream",
          "name": "stdout",
          "text": [
            "el is ound in : 5\n"
          ]
        }
      ],
      "execution_count": null
    },
    {
      "cell_type": "code",
      "source": [
        "print(name.find('Jasdfasdasdf'))"
      ],
      "metadata": {
        "colab": {
          "base_uri": "https://localhost:8080/"
        },
        "id": "f58Z12KrbvB_",
        "outputId": "793a0e6a-3897-4549-e715-5d1dfca3d86f"
      },
      "execution_count": null,
      "outputs": [
        {
          "output_type": "stream",
          "name": "stdout",
          "text": [
            "-1\n"
          ]
        }
      ]
    },
    {
      "cell_type": "code",
      "source": [
        "#Split the substring into list using space separator\n",
        "name = \"Michael Jacfson\"\n",
        "split_string = (name.split())\n",
        "print(split_string)"
      ],
      "metadata": {
        "colab": {
          "base_uri": "https://localhost:8080/"
        },
        "id": "mQdNUyWmb5LV",
        "outputId": "9c71d48d-bd4c-44f4-cfc6-c15505728989"
      },
      "execution_count": null,
      "outputs": [
        {
          "output_type": "stream",
          "name": "stdout",
          "text": [
            "['Michael', 'Jacfson']\n"
          ]
        }
      ]
    },
    {
      "cell_type": "code",
      "source": [
        "#Split the substring into list using space separator\n",
        "name = \"Michael,Jacfson\"\n",
        "split_string2 = (name.split(','))\n",
        "print(split_string2)"
      ],
      "metadata": {
        "colab": {
          "base_uri": "https://localhost:8080/"
        },
        "id": "LepsT_NdcE7D",
        "outputId": "47b956da-ce28-4dca-848b-ddcf6cec505e"
      },
      "execution_count": null,
      "outputs": [
        {
          "output_type": "stream",
          "name": "stdout",
          "text": [
            "['Michael', 'Jacfson']\n"
          ]
        }
      ]
    },
    {
      "cell_type": "code",
      "source": [
        "import re\n",
        "s1 = \"Michael Jackson is the best\"\n",
        "\n",
        "# Define the pattern to search for\n",
        "pattern = r\"Jackson\"\n",
        "\n",
        "# Use the search() function to search for the pattern in the string\n",
        "result = re.search(pattern, s1)\n",
        "\n",
        "# Check if a match was found\n",
        "if result:\n",
        "    print(\"Match found in \",result.group())\n",
        "else:\n",
        "    print(\"Match not found! \")\n"
      ],
      "metadata": {
        "id": "n9mdGW18hJDk",
        "colab": {
          "base_uri": "https://localhost:8080/"
        },
        "outputId": "16817cf1-fbf8-437d-a26b-f2c63de1f472"
      },
      "execution_count": null,
      "outputs": [
        {
          "output_type": "stream",
          "name": "stdout",
          "text": [
            "Match found in  Jackson\n"
          ]
        }
      ]
    },
    {
      "cell_type": "code",
      "source": [
        "import re\n",
        "pattern = r\"\\d\\d\\d\\d\\d\\d\\d\\d\\d\\d\"  # Matches any ten consecutive digits\n",
        "text = \"My Phone number is 1234567890\"\n",
        "match = re.search(pattern, text)\n",
        "if match:\n",
        "    print(\"Phone number found:\", match.group())\n",
        "else:\n",
        "    print(\"No match\")"
      ],
      "metadata": {
        "id": "dYq-gEc6k0GC",
        "colab": {
          "base_uri": "https://localhost:8080/"
        },
        "outputId": "79a4e320-ca6c-41b1-8a35-0f3ba6ef0491"
      },
      "execution_count": null,
      "outputs": [
        {
          "output_type": "stream",
          "name": "stdout",
          "text": [
            "Phone number found: 1234567890\n"
          ]
        }
      ]
    },
    {
      "cell_type": "code",
      "source": [
        "pattern = r\"\\W\"  # Matches any non-word character\n",
        "text = \"Hello, world!\"\n",
        "matches = re.findall(pattern, text)\n",
        "\n",
        "print(\"Matches:\", matches)"
      ],
      "metadata": {
        "id": "2XB8Q_tLlUDs",
        "colab": {
          "base_uri": "https://localhost:8080/"
        },
        "outputId": "2a13ce0b-ac0b-42d0-ba3e-74ff1aeb78b7"
      },
      "execution_count": null,
      "outputs": [
        {
          "output_type": "stream",
          "name": "stdout",
          "text": [
            "Matches: [',', ' ', '!']\n"
          ]
        }
      ]
    },
    {
      "cell_type": "code",
      "source": [
        "pattern = r\"\\s\"  # Matches any non-word character\n",
        "text = \"  Hello, world    !\"\n",
        "matches2 = re.findall(pattern, text)\n",
        "\n",
        "print(\"Matches:\", matches2)"
      ],
      "metadata": {
        "colab": {
          "base_uri": "https://localhost:8080/"
        },
        "id": "-I2IaC4tTUsA",
        "outputId": "b2338853-0d00-4987-d663-cf882af2de28"
      },
      "execution_count": null,
      "outputs": [
        {
          "output_type": "stream",
          "name": "stdout",
          "text": [
            "Matches: [' ', ' ', ' ', ' ', ' ', ' ', ' ']\n"
          ]
        }
      ]
    },
    {
      "cell_type": "code",
      "source": [
        "import re\n",
        "s2 = \"Michael Jacfson was a writer and known as the 'King of novels'\"\n",
        "# Matches \"as\" as whole word only\"\n",
        "pattern2 = r\"\\bas\\b\"\n",
        "# Use the findall() function to find all occurrences of the \"as\" as a whole word in the string\n",
        "result2 = re.findall(pattern2, s2)\n",
        "# find the index where thw \"as\" were found\n",
        "\n",
        "for match in re.finditer(pattern2, s2):\n",
        "    print(match.start())\n",
        "\n",
        "# Print out the list of matched words\n",
        "print(result2)\n"
      ],
      "metadata": {
        "colab": {
          "base_uri": "https://localhost:8080/"
        },
        "id": "ETmamiw8T5PL",
        "outputId": "604ec710-4a68-4cad-9854-6c903b9c1efb"
      },
      "execution_count": null,
      "outputs": [
        {
          "output_type": "stream",
          "name": "stdout",
          "text": [
            "39\n",
            "['as']\n"
          ]
        }
      ]
    },
    {
      "cell_type": "code",
      "source": [],
      "metadata": {
        "id": "uSVYGSp0etzt"
      },
      "execution_count": null,
      "outputs": []
    },
    {
      "cell_type": "code",
      "source": [
        "import re\n",
        "s3 = \"Michael Jacfson was a writer and known as the 'King of novels'\"\n",
        "# Matches \"as\" as whole word only\"\n",
        "pattern3 = r\"\\Bas\"\n",
        "# Use the findall() function to find all occurrences of the \"as\" in the string\n",
        "result3 = re.findall(pattern3, s3)\n",
        "# find the index where thw \"as\" were found\n",
        "\n",
        "for match in re.finditer(pattern3, s3):\n",
        "    print(match.start())\n",
        "\n",
        "# Print out the list of matched words\n",
        "print(result3)\n"
      ],
      "metadata": {
        "colab": {
          "base_uri": "https://localhost:8080/"
        },
        "outputId": "63c0dc37-1cc6-4e2c-9a8e-dfc7849eee19",
        "id": "XOmHqjvoeuIt"
      },
      "execution_count": null,
      "outputs": [
        {
          "output_type": "stream",
          "name": "stdout",
          "text": [
            "[]\n"
          ]
        }
      ]
    },
    {
      "cell_type": "code",
      "source": [
        "# Use the split function to split the string by the \"\\s\" white space\n",
        "split_array = re.split(\"\\s\", s3)\n",
        "\n",
        "# The split_array contains all the substrings, split by whitespace characters\n",
        "print(split_array)"
      ],
      "metadata": {
        "colab": {
          "base_uri": "https://localhost:8080/"
        },
        "id": "nrJ0jSSjfjyQ",
        "outputId": "29c1e31f-84a8-429f-f23a-a9c52047e238"
      },
      "execution_count": null,
      "outputs": [
        {
          "output_type": "stream",
          "name": "stdout",
          "text": [
            "['Michael', 'Jacfson', 'was', 'a', 'writer', 'and', 'known', 'as', 'the', \"'King\", 'of', \"novels'\"]\n"
          ]
        }
      ]
    },
    {
      "cell_type": "code",
      "source": [
        "# Define the regular expression pattern to search for\n",
        "pattern = r\"King of novels\"\n",
        "\n",
        "# Define the replacement string\n",
        "replacement = \"legend\"\n",
        "\n",
        "# Use the sub function to replace the pattern with the replacement string\n",
        "new_string = re.sub(pattern, replacement, s3, flags=re.IGNORECASE)\n",
        "\n",
        "# The new_string contains the original string with the pattern replaced by the replacement string\n",
        "print(new_string)"
      ],
      "metadata": {
        "colab": {
          "base_uri": "https://localhost:8080/"
        },
        "id": "Cx8kRLwwf2oy",
        "outputId": "3ba646cf-1eba-424f-a11c-a1e9b61bf949"
      },
      "execution_count": null,
      "outputs": [
        {
          "output_type": "stream",
          "name": "stdout",
          "text": [
            "Michael Jacfson was a writer and known as the 'legend'\n"
          ]
        }
      ]
    },
    {
      "cell_type": "code",
      "source": [
        "# Write your code below and press Shift+Enter to execute\n",
        "import re\n",
        "print(\"\\\\\")\n",
        "\n",
        "print(r\"\\ \")"
      ],
      "metadata": {
        "id": "kg0udeTZkEXg"
      },
      "execution_count": null,
      "outputs": []
    },
    {
      "cell_type": "code",
      "source": [
        "# Write your code below and press Shift+Enter to execute\n",
        "\n",
        "g = \"Mary had a little lamb Little lamb, little lamb Mary had a little lamb \\\n",
        "Its fleece was white as snow .. snow ... snow  And everywhere that Mary went Mary went, Mary went \\\n",
        "Everywhere that Mary went The lamb was sure to go\"\n",
        "pattern2= \"snow\"\n",
        "indx = g.find(pattern2)\n",
        "\n",
        "print(indx)\n",
        "import re\n",
        "matches2 = re.findall(pattern2, g)\n",
        "\n",
        "print(\"Matches:\", matches2)\n"
      ],
      "metadata": {
        "colab": {
          "base_uri": "https://localhost:8080/"
        },
        "id": "Xbn-B_kWnbRX",
        "outputId": "eacadba0-6a6a-46e1-b97f-b6ed8b922e05"
      },
      "execution_count": null,
      "outputs": [
        {
          "output_type": "stream",
          "name": "stdout",
          "text": [
            "95\n",
            "Matches: ['snow', 'snow', 'snow']\n"
          ]
        }
      ]
    },
    {
      "cell_type": "code",
      "source": [],
      "metadata": {
        "id": "sGgXCXdMnXXX"
      },
      "execution_count": null,
      "outputs": []
    },
    {
      "cell_type": "code",
      "source": [
        "# Write your code below and press Shift+Enter to execute\n",
        "h = g.replace(\"Mary\",\"Bob\")\n",
        "print(h)\n",
        "import re\n",
        "matches3 = re.findall(\"Bob\", h)\n",
        "\n",
        "print(\"Matches:\", matches3)"
      ],
      "metadata": {
        "colab": {
          "base_uri": "https://localhost:8080/"
        },
        "id": "SSb0ftA7nWqe",
        "outputId": "6d65cdf9-bf91-4508-b00d-022a53e2b5c7"
      },
      "execution_count": null,
      "outputs": [
        {
          "output_type": "stream",
          "name": "stdout",
          "text": [
            "Bob had a little lamb Little lamb, little lamb Bob had a little lamb Its fleece was white as snow .. snow ... snow  And everywhere that Bob went Bob went, Bob went Everywhere that Bob went The lamb was sure to go\n",
            "Matches: ['Bob', 'Bob', 'Bob', 'Bob', 'Bob', 'Bob']\n"
          ]
        }
      ]
    },
    {
      "cell_type": "code",
      "source": [
        "# Write your code below and press Shift+Enter to execute\n",
        "h1 = g.replace(\",\",\".\")\n",
        "print(h1)\n",
        "import re\n",
        "matches5 = re.findall(\"\\.\", h1)\n",
        "\n",
        "print(\"Matches:\", matches5)\n",
        "# split g into lists\n",
        "l = g.split()\n",
        "print(l)"
      ],
      "metadata": {
        "colab": {
          "base_uri": "https://localhost:8080/"
        },
        "id": "gLwxMgk3nSuL",
        "outputId": "2b406e03-0fc1-4020-ee15-d39f6ab777f3"
      },
      "execution_count": null,
      "outputs": [
        {
          "output_type": "stream",
          "name": "stdout",
          "text": [
            "Mary had a little lamb Little lamb. little lamb Mary had a little lamb Its fleece was white as snow .. snow ... snow  And everywhere that Mary went Mary went. Mary went Everywhere that Mary went The lamb was sure to go\n",
            "Matches: ['.', '.', '.', '.', '.', '.', '.']\n",
            "['Mary', 'had', 'a', 'little', 'lamb', 'Little', 'lamb,', 'little', 'lamb', 'Mary', 'had', 'a', 'little', 'lamb', 'Its', 'fleece', 'was', 'white', 'as', 'snow', '..', 'snow', '...', 'snow', 'And', 'everywhere', 'that', 'Mary', 'went', 'Mary', 'went,', 'Mary', 'went', 'Everywhere', 'that', 'Mary', 'went', 'The', 'lamb', 'was', 'sure', 'to', 'go']\n"
          ]
        }
      ]
    },
    {
      "cell_type": "code",
      "source": [
        "print(bool(120))\n",
        "print(bool(-120))\n",
        "print(bool(0))"
      ],
      "metadata": {
        "colab": {
          "base_uri": "https://localhost:8080/"
        },
        "id": "jc8WGCPwqyJq",
        "outputId": "319931bf-a463-4dca-b09c-a78770015e52"
      },
      "execution_count": null,
      "outputs": [
        {
          "output_type": "stream",
          "name": "stdout",
          "text": [
            "True\n",
            "True\n",
            "False\n"
          ]
        }
      ]
    },
    {
      "cell_type": "code",
      "source": [
        "\n",
        "print(type(\"hello\" == \"world\")  )\n",
        "\n",
        "print(\"hello\" == \"world\"  )"
      ],
      "metadata": {
        "colab": {
          "base_uri": "https://localhost:8080/"
        },
        "id": "Qs-rN3pRkEUG",
        "outputId": "d149f5dc-250a-4618-90af-347268b423bc"
      },
      "execution_count": null,
      "outputs": [
        {
          "output_type": "stream",
          "name": "stdout",
          "text": [
            "<class 'bool'>\n",
            "False\n"
          ]
        }
      ]
    },
    {
      "cell_type": "code",
      "source": [
        "name = \"John\"\n",
        "age = 30\n",
        "print(f\"My name is {name} and I am {age} years old.\")"
      ],
      "metadata": {
        "id": "wOUfDb27txXB"
      },
      "execution_count": null,
      "outputs": []
    },
    {
      "cell_type": "code",
      "source": [
        "name2 = \"Johnathon\"\n",
        "age2 = 50\n",
        "print(\"My name is {} and I am {} years old.\".format(name2, age2))"
      ],
      "metadata": {
        "id": "FusR00RHt-H_"
      },
      "execution_count": null,
      "outputs": []
    },
    {
      "cell_type": "code",
      "source": [
        "#In the string str2 find all the occurrences of woo using findall() function:\n",
        "str2= \"How much wood would a woodchuck chuck, if a woodchuck could chuck wood?\"\n",
        "\n",
        "# Write your code below and press Shift+Enter to execute\n",
        "import re\n",
        "pat = re.findall(\"woo\",str2)\n",
        "print(pat)\n"
      ],
      "metadata": {
        "colab": {
          "base_uri": "https://localhost:8080/"
        },
        "id": "ucb8gTWFu7HM",
        "outputId": "13468569-c908-47a3-e683-44bc97754db1"
      },
      "execution_count": null,
      "outputs": [
        {
          "output_type": "stream",
          "name": "stdout",
          "text": [
            "['woo', 'woo', 'woo', 'woo']\n"
          ]
        }
      ]
    },
    {
      "cell_type": "code",
      "source": [
        "str1= \"The quick brown fox jumps over the lazy dog.\"\n",
        "# Use re.sub() to replace \"fox\" with \"bear\"\n",
        "new_str1 = re.sub(r\"fox\", \"bear\", str1)\n",
        "\n",
        "print(new_str1)\n"
      ],
      "metadata": {
        "colab": {
          "base_uri": "https://localhost:8080/"
        },
        "id": "cCcsfd3uzk-H",
        "outputId": "48b2f651-b048-4ce7-8502-d4edbe8d252c"
      },
      "execution_count": null,
      "outputs": [
        {
          "output_type": "stream",
          "name": "stdout",
          "text": [
            "The quick brown bear jumps over the lazy dog.\n"
          ]
        }
      ]
    },
    {
      "cell_type": "code",
      "source": [],
      "metadata": {
        "id": "0Bp_OzB1u71Y"
      },
      "execution_count": null,
      "outputs": []
    },
    {
      "cell_type": "code",
      "source": [
        "s3 = \"House number- 1105\"\n",
        "# Write your code below and press Shift+Enter to execute\n",
        "import re\n",
        "patt = r\"\\d\"\n",
        "matching = re.search(patt,s3)\n",
        "digits = re.findall(patt,s3)\n",
        "\n",
        "if matching :\n",
        "  print(\"digit found\", matching.group())\n",
        "  print(digits)\n",
        "else: print(\"Dogit Not found\")\n"
      ],
      "metadata": {
        "colab": {
          "base_uri": "https://localhost:8080/"
        },
        "id": "Kv23B3pz0d5F",
        "outputId": "713fc9c4-9ca6-4df9-ed98-bf4936786458"
      },
      "execution_count": null,
      "outputs": [
        {
          "output_type": "stream",
          "name": "stdout",
          "text": [
            "digit found 1\n",
            "['1', '1', '0', '5']\n"
          ]
        }
      ]
    },
    {
      "cell_type": "code",
      "source": [],
      "metadata": {
        "id": "9XiNvwNV2Ru0"
      },
      "execution_count": null,
      "outputs": []
    }
  ]
}