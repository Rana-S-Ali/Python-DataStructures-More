{
  "nbformat": 4,
  "nbformat_minor": 0,
  "metadata": {
    "colab": {
      "provenance": []
    },
    "kernelspec": {
      "name": "python3",
      "display_name": "Python 3"
    },
    "language_info": {
      "name": "python"
    }
  },
  "cells": [
    {
      "cell_type": "code",
      "execution_count": 1,
      "metadata": {
        "colab": {
          "base_uri": "https://localhost:8080/"
        },
        "id": "HQ_1XzGmHm9n",
        "outputId": "2d42048c-1d2b-4d4d-920f-032a787ab42e"
      },
      "outputs": [
        {
          "output_type": "stream",
          "name": "stdout",
          "text": [
            "dict_keys(['Thriller', 'Back in Black', 'The Dark Side of the Moon', 'The Bodyguard', 'Bat Out of Hell', 'Their Greatest Hits (1971-1975)', 'Saturday Night Fever', 'Rumours'])\n",
            "<class 'dict_keys'>\n",
            "Thriller 1982\n",
            "Back in Black 1980\n",
            "The Dark Side of the Moon 1973\n",
            "The Bodyguard 1992\n",
            "Bat Out of Hell 1977\n",
            "Their Greatest Hits (1971-1975) 1976\n",
            "Saturday Night Fever 1977\n",
            "Rumours 1977\n"
          ]
        }
      ],
      "source": [
        "release_year_dict = {\n",
        "    'Thller': 1982,\n",
        "    'in Black': 1980,\n",
        "    'The Dark Moon': 1973,\n",
        "    'The Body babi ': 1992,\n",
        "    ' Out of Hell': 1977,\n",
        "    'Their baby': 1976,\n",
        "    'Saturday Night ': 1977,\n",
        "    'Rom rurs': 1977\n",
        "}\n",
        "\n",
        "# Get all keys using keys() method\n",
        "all_keys = release_year_dict.keys()\n",
        "\n",
        "# Print the keys (type: dict_keys)\n",
        "print(all_keys)  # Output: dict_keys(['Thriller', 'Back in Black', ...])\n",
        "print(type(all_keys))  # Output: <class 'dict_keys'>\n",
        "\n",
        "# Iterate over keys\n",
        "for key in all_keys:\n",
        "    print(key, release_year_dict[key])  # Access values using keys\n"
      ]
    },
    {
      "cell_type": "code",
      "source": [
        "person = {\n",
        "    \"name\": \"John\",\n",
        "    \"age\": 30,\n",
        "    }\n",
        "name = person[\"name\"]\n",
        "age = person[\"age\"]\n",
        "person[\"Country\"] = \"USA\" # A new entry will be created.\n",
        "person[\"city\"] = \"Chicago\" # Update the existing value for the same key\n",
        "print(person) # Print the updated dictionary\n",
        "new_person1 = person.copy()\n",
        "new_person2 = dict(person)\n",
        "print(new_person1)\n",
        "print(new_person2)\n",
        "# .items() Retrieves all key-value pairs as tuples\n",
        "# using list() to convert them into a list of tuples. Each tuple consists of a key and its corresponding value\n",
        "info = list(person.items())\n",
        "print(info)\n",
        "if \"name\" in person:\n",
        "    print(\"Name exists in the dictionary.\")\n",
        "else:\n",
        "    print(\"Name does not exist in the dictionary.\")\n",
        "person_keys = list(person.keys())\n",
        "\n",
        "person_values = list(person.values())\n",
        "print(person_keys)\n",
        "print(person_values)\n",
        "person.pop(\"age\")\n",
        "print(person)\n",
        "person.popitem()\n",
        "print(person)\n",
        "\n",
        "person.update({\"Profession\": \"Doctor\"})\n",
        "print(person)"
      ],
      "metadata": {
        "colab": {
          "base_uri": "https://localhost:8080/"
        },
        "id": "MPpIUQkp5vXZ",
        "outputId": "9ab11ab4-5697-45f1-9d23-f205504f8d81"
      },
      "execution_count": 7,
      "outputs": [
        {
          "output_type": "stream",
          "name": "stdout",
          "text": [
            "{'name': 'John', 'age': 30, 'Country': 'USA', 'city': 'Chicago'}\n",
            "{'name': 'John', 'age': 30, 'Country': 'USA', 'city': 'Chicago'}\n",
            "{'name': 'John', 'age': 30, 'Country': 'USA', 'city': 'Chicago'}\n",
            "[('name', 'John'), ('age', 30), ('Country', 'USA'), ('city', 'Chicago')]\n",
            "Name exists in the dictionary.\n",
            "['name', 'age', 'Country', 'city']\n",
            "['John', 30, 'USA', 'Chicago']\n",
            "{'name': 'John', 'Country': 'USA', 'city': 'Chicago'}\n",
            "{'name': 'John', 'Country': 'USA'}\n",
            "{'name': 'John', 'Country': 'USA', 'Profession': 'Doctor'}\n"
          ]
        }
      ]
    },
    {
      "cell_type": "code",
      "source": [
        "grades = {10: 10, 20: 20, 30: 30, 40: 40, 50: 50}\n",
        "for key in grades:\n",
        "    print(key, grades[key])\n",
        "grades.clear()\n",
        "print(grades)"
      ],
      "metadata": {
        "colab": {
          "base_uri": "https://localhost:8080/"
        },
        "id": "C4lHDdzJ7nG5",
        "outputId": "fdd77afa-2e29-4ada-818d-5ade8512f2ab"
      },
      "execution_count": 2,
      "outputs": [
        {
          "output_type": "stream",
          "name": "stdout",
          "text": [
            "10 10\n",
            "20 20\n",
            "30 30\n",
            "40 40\n",
            "50 50\n",
            "{}\n"
          ]
        }
      ]
    },
    {
      "cell_type": "code",
      "source": [
        "# Convert list to set\n",
        "\n",
        "album_list = [ \"Michael Jacfon\", \"Thriller\", 1982, \"00:42:19\", \\\n",
        "              \"Pop, Rock, R&B\", 46.0, 65, \"30-Nov-82\", None, 10.0]\n",
        "album_set = set(album_list)\n",
        "print(album_set)\n",
        "print(type(album_set))\n",
        "album_set.add(\"Michael Jane\")\n",
        "album_set.add(\"Michael Jane\") # will not be added - no duplication in set\n",
        "print(album_set)\n",
        "album_set.remove(\"Thriller\")\n",
        "print(album_set)\n",
        "if \"Michael Jane\" in album_set:\n",
        "    print(\"Michael Jane is in the set\")\n",
        "else:\n",
        "    print(\"Michael Jane is not in the set\")\n"
      ],
      "metadata": {
        "colab": {
          "base_uri": "https://localhost:8080/"
        },
        "id": "3EvlCtzYDa-H",
        "outputId": "a29c23ba-044a-49f0-bcc3-7a1cc4c5c6da"
      },
      "execution_count": 12,
      "outputs": [
        {
          "output_type": "stream",
          "name": "stdout",
          "text": [
            "{65, '30-Nov-82', 10.0, 'Michael Jacfon', 46.0, 'Pop, Rock, R&B', 'Thriller', 1982, None, '00:42:19'}\n",
            "<class 'set'>\n",
            "{65, '30-Nov-82', 10.0, 'Michael Jacfon', 46.0, 'Pop, Rock, R&B', 'Thriller', 1982, 'Michael Jane', None, '00:42:19'}\n",
            "{65, '30-Nov-82', 10.0, 'Michael Jacfon', 46.0, 'Pop, Rock, R&B', 1982, 'Michael Jane', None, '00:42:19'}\n",
            "Michael Jane is in the set\n"
          ]
        }
      ]
    },
    {
      "cell_type": "code",
      "source": [
        "album_set1 = set([\"Thriller\", 'AC/DC', 'Back in Black'])\n",
        "album_set2 = set([ \"AC/DC\", \"Back in Black\", \"The Dark Side of the Moon\"])\n",
        "\n",
        "print(album_set1.intersection(album_set2))\n",
        "# Another way to Find the intersections\n",
        "intersection = album_set1 & album_set2\n",
        "print(intersection)\n",
        "\n",
        "print(album_set1.union(album_set2))\n",
        "# Find the difference in set1 but not set2\n",
        "print(album_set1.difference(album_set2)) # what is in set1 but not in set2\n",
        "album_set2.difference(album_set1)         # what is in set2 but not in set1\n"
      ],
      "metadata": {
        "colab": {
          "base_uri": "https://localhost:8080/"
        },
        "id": "9nvNcydCSwSm",
        "outputId": "8181f6dd-fb4c-4c8d-bb59-9df4fa26098f"
      },
      "execution_count": 17,
      "outputs": [
        {
          "output_type": "stream",
          "name": "stdout",
          "text": [
            "{'AC/DC', 'Back in Black'}\n",
            "{'AC/DC', 'Back in Black'}\n",
            "{'Thriller', 'AC/DC', 'Back in Black', 'The Dark Side of the Moon'}\n",
            "{'Thriller'}\n"
          ]
        },
        {
          "output_type": "execute_result",
          "data": {
            "text/plain": [
              "{'The Dark Side of the Moon'}"
            ]
          },
          "metadata": {},
          "execution_count": 17
        }
      ]
    },
    {
      "cell_type": "code",
      "execution_count": 18,
      "metadata": {
        "id": "x-redA951A8x",
        "colab": {
          "base_uri": "https://localhost:8080/"
        },
        "outputId": "167b2baf-b98e-4f69-e507-34a5ee4cfcef"
      },
      "outputs": [
        {
          "output_type": "execute_result",
          "data": {
            "text/plain": [
              "False"
            ]
          },
          "metadata": {},
          "execution_count": 18
        }
      ],
      "source": [
        "# Check if superset\n",
        "\n",
        "set(album_set1).issuperset(album_set2)\n"
      ]
    },
    {
      "cell_type": "code",
      "source": [
        "# Check if subset\n",
        "\n",
        "set({\"Back in Black\", \"AC/DC\"}).issubset(album_set1)\n",
        "# Check if superset\n",
        "\n",
        "album_set1.issuperset({\"Back in Black\", \"AC/DC\"})"
      ],
      "metadata": {
        "colab": {
          "base_uri": "https://localhost:8080/"
        },
        "id": "fgxpfimQUjz6",
        "outputId": "a5cb829d-a9b6-4a43-d5b7-c43874580a77"
      },
      "execution_count": 21,
      "outputs": [
        {
          "output_type": "execute_result",
          "data": {
            "text/plain": [
              "True"
            ]
          },
          "metadata": {},
          "execution_count": 21
        }
      ]
    },
    {
      "cell_type": "code",
      "execution_count": 19,
      "metadata": {
        "colab": {
          "base_uri": "https://localhost:8080/"
        },
        "id": "8BW9c_rfUTcq",
        "outputId": "9ba7c955-2df9-4ceb-b87d-ec0589a5dec0"
      },
      "outputs": [
        {
          "output_type": "execute_result",
          "data": {
            "text/plain": [
              "False"
            ]
          },
          "metadata": {},
          "execution_count": 19
        }
      ],
      "source": [
        "# Check if superset\n",
        "\n",
        "set(album_set2).issuperset(album_set1)"
      ]
    },
    {
      "cell_type": "code",
      "source": [
        "l1= set(['rap','house','electronic music', 'rap'] )\n",
        "print(l1)"
      ],
      "metadata": {
        "colab": {
          "base_uri": "https://localhost:8080/"
        },
        "id": "BViuHK_JTMq8",
        "outputId": "08a46a87-938e-4c46-d23a-24f2a21b3413"
      },
      "execution_count": 23,
      "outputs": [
        {
          "output_type": "stream",
          "name": "stdout",
          "text": [
            "{'house', 'rap', 'electronic music'}\n"
          ]
        }
      ]
    },
    {
      "cell_type": "code",
      "source": [
        "#Consider the list A = [1, 2, 2, 1] and set B = set([1, 2, 2, 1]), does sum(A) == sum(B)?\n",
        "A = [1, 2, 2, 1]\n",
        "B = set([1, 2, 2, 1])\n",
        "sum1 = 0\n",
        "for i in A:\n",
        "    sum1 = sum1 + i\n",
        "sum2=0\n",
        "B_list = list(B)\n",
        "print(\"A=\",A)\n",
        "print(\"B=\",B_list)\n",
        "for j in B_list:\n",
        "    sum2 = sum2 + j\n",
        "if sum1 == sum2 :\n",
        "    print(f\"sum1={sum1}, sum2={sum2}, 2 sets have equal sum\")\n",
        "else:\n",
        "    print(f\"sum1={sum1}, sum2={sum2}, 2 sets do not have equal sum\")\n",
        "\n",
        "############ Shorter Way ##################\n",
        "A = [1, 2, 2, 1]\n",
        "B = set([1, 2, 2, 1])\n",
        "print(\"the sum of A is:\", sum(A))\n",
        "print(\"the sum of B is:\", sum(B))\n"
      ],
      "metadata": {
        "colab": {
          "base_uri": "https://localhost:8080/"
        },
        "id": "KazSIsT5V5TO",
        "outputId": "bd276a28-a2c4-46c3-eb79-f213c81b3a85"
      },
      "execution_count": 29,
      "outputs": [
        {
          "output_type": "stream",
          "name": "stdout",
          "text": [
            "A= [1, 2, 2, 1]\n",
            "B= [1, 2]\n",
            "sum1=6, sum2=3, 2 sets do not have equal sum\n",
            "the sum of A is: 6\n",
            "the sum of B is: 3\n"
          ]
        }
      ]
    },
    {
      "cell_type": "code",
      "source": [
        "album_set1 = set([\"Thriller\", 'AC/DC', 'Back in Black'])\n",
        "album_set2 = set([ \"AC/DC\", \"Back in Black\", \"The Dark Side of the Moon\"])\n",
        "album_set3 = album_set1.union(album_set2)\n",
        "print(album_set3)"
      ],
      "metadata": {
        "colab": {
          "base_uri": "https://localhost:8080/"
        },
        "id": "EqN44OHfaHMD",
        "outputId": "7e0bc330-8ec2-4996-9025-77f0fa461f7f"
      },
      "execution_count": 30,
      "outputs": [
        {
          "output_type": "stream",
          "name": "stdout",
          "text": [
            "{'Thriller', 'AC/DC', 'Back in Black', 'The Dark Side of the Moon'}\n"
          ]
        }
      ]
    }
  ]
}